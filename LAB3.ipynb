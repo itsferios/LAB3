{
 "cells": [
  {
   "cell_type": "markdown",
   "id": "29fe2263",
   "metadata": {
    "id": "29fe2263"
   },
   "source": [
    "                        Project done by Michela Pirozzi MAT:732531 and Sara Ferioli MAT:733105"
   ]
  },
  {
   "cell_type": "markdown",
   "id": "ae64e88b",
   "metadata": {
    "id": "ae64e88b"
   },
   "source": [
    "# LAB 3"
   ]
  },
  {
   "cell_type": "markdown",
   "id": "d8d000c5",
   "metadata": {
    "id": "d8d000c5"
   },
   "source": [
    "## Goal"
   ]
  },
  {
   "cell_type": "markdown",
   "id": "8e553508",
   "metadata": {
    "id": "8e553508"
   },
   "source": [
    "* Given the features in the dataset, what is the best combination to have a new contract? \n",
    "Was the feature combination the same even before covid?\n",
    "\n",
    "* Predict number of contracts.\n",
    "Is the number of contracts predicted for the future in 2019 the same or similar to the actual data given the occurrence of COVID? "
   ]
  },
  {
   "cell_type": "markdown",
   "id": "e5e24639",
   "metadata": {
    "id": "e5e24639"
   },
   "source": [
    "## Libraries"
   ]
  },
  {
   "cell_type": "code",
   "execution_count": 1,
   "id": "c7d9c7b4",
   "metadata": {
    "id": "c7d9c7b4"
   },
   "outputs": [],
   "source": [
    "import pandas as pd\n",
    "import numpy as np\n",
    "import matplotlib as mpl\n",
    "import matplotlib.pyplot as plt\n",
    "from math import sqrt\n",
    "from sklearn import preprocessing\n",
    "from statsmodels.tsa.stattools import adfuller\n",
    "from sklearn.linear_model import LinearRegression\n",
    "from sklearn.metrics import mean_squared_error\n",
    "from sklearn.model_selection import train_test_split\n",
    "from sklearn import tree\n",
    "from sklearn.tree import DecisionTreeClassifier\n",
    "import seaborn as sns\n",
    "from statsmodels.tsa.seasonal import seasonal_decompose\n",
    "from statsmodels.tsa.holtwinters import SimpleExpSmoothing, ExponentialSmoothing\n",
    "from statsmodels.tsa.api import ExponentialSmoothing, SimpleExpSmoothing\n",
    "from statsmodels.graphics.tsaplots import plot_acf, plot_pacf\n",
    "from statsmodels.tsa.arima_model import ARIMA\n",
    "from statsmodels.tsa.statespace.sarimax import SARIMAX\n",
    "from sklearn.ensemble import ExtraTreesRegressor\n",
    "from sklearn.metrics import accuracy_score\n",
    "from sklearn.model_selection import ParameterGrid, GridSearchCV\n",
    "from sklearn.metrics import make_scorer\n",
    "from sklearn import svm\n",
    "from sklearn.neighbors import KNeighborsClassifier\n",
    "from sklearn import metrics\n",
    "import warnings\n",
    "warnings.filterwarnings('ignore')"
   ]
  },
  {
   "cell_type": "markdown",
   "id": "acbba537",
   "metadata": {
    "id": "acbba537"
   },
   "source": [
    "## Import data and analysis"
   ]
  },
  {
   "cell_type": "code",
   "execution_count": 2,
   "id": "d22b3239",
   "metadata": {
    "id": "d22b3239",
    "outputId": "91c13abc-5a07-4bf9-9450-2e1befa04bf9"
   },
   "outputs": [
    {
     "data": {
      "text/html": [
       "<div>\n",
       "<style scoped>\n",
       "    .dataframe tbody tr th:only-of-type {\n",
       "        vertical-align: middle;\n",
       "    }\n",
       "\n",
       "    .dataframe tbody tr th {\n",
       "        vertical-align: top;\n",
       "    }\n",
       "\n",
       "    .dataframe thead th {\n",
       "        text-align: right;\n",
       "    }\n",
       "</style>\n",
       "<table border=\"1\" class=\"dataframe\">\n",
       "  <thead>\n",
       "    <tr style=\"text-align: right;\">\n",
       "      <th></th>\n",
       "      <th>ETA</th>\n",
       "      <th>mese-anno</th>\n",
       "      <th>ANNO</th>\n",
       "      <th>Codice_ateco</th>\n",
       "      <th>nazionalita_transformed</th>\n",
       "      <th>contratto_transformed</th>\n",
       "      <th>genere_transformed</th>\n",
       "      <th>Output_transformed</th>\n",
       "    </tr>\n",
       "  </thead>\n",
       "  <tbody>\n",
       "    <tr>\n",
       "      <th>0</th>\n",
       "      <td>60</td>\n",
       "      <td>2020-05</td>\n",
       "      <td>2020</td>\n",
       "      <td>97</td>\n",
       "      <td>57</td>\n",
       "      <td>0</td>\n",
       "      <td>1</td>\n",
       "      <td>32470</td>\n",
       "    </tr>\n",
       "    <tr>\n",
       "      <th>1</th>\n",
       "      <td>61</td>\n",
       "      <td>2014-09</td>\n",
       "      <td>2014</td>\n",
       "      <td>97</td>\n",
       "      <td>57</td>\n",
       "      <td>0</td>\n",
       "      <td>1</td>\n",
       "      <td>32476</td>\n",
       "    </tr>\n",
       "    <tr>\n",
       "      <th>2</th>\n",
       "      <td>29</td>\n",
       "      <td>2017-06</td>\n",
       "      <td>2017</td>\n",
       "      <td>97</td>\n",
       "      <td>57</td>\n",
       "      <td>0</td>\n",
       "      <td>1</td>\n",
       "      <td>32455</td>\n",
       "    </tr>\n",
       "    <tr>\n",
       "      <th>3</th>\n",
       "      <td>48</td>\n",
       "      <td>2017-08</td>\n",
       "      <td>2017</td>\n",
       "      <td>97</td>\n",
       "      <td>57</td>\n",
       "      <td>0</td>\n",
       "      <td>1</td>\n",
       "      <td>32450</td>\n",
       "    </tr>\n",
       "    <tr>\n",
       "      <th>4</th>\n",
       "      <td>54</td>\n",
       "      <td>2020-01</td>\n",
       "      <td>2020</td>\n",
       "      <td>97</td>\n",
       "      <td>57</td>\n",
       "      <td>0</td>\n",
       "      <td>1</td>\n",
       "      <td>32450</td>\n",
       "    </tr>\n",
       "    <tr>\n",
       "      <th>...</th>\n",
       "      <td>...</td>\n",
       "      <td>...</td>\n",
       "      <td>...</td>\n",
       "      <td>...</td>\n",
       "      <td>...</td>\n",
       "      <td>...</td>\n",
       "      <td>...</td>\n",
       "      <td>...</td>\n",
       "    </tr>\n",
       "    <tr>\n",
       "      <th>8995150</th>\n",
       "      <td>32</td>\n",
       "      <td>2021-08</td>\n",
       "      <td>2021</td>\n",
       "      <td>47</td>\n",
       "      <td>0</td>\n",
       "      <td>1</td>\n",
       "      <td>0</td>\n",
       "      <td>14264</td>\n",
       "    </tr>\n",
       "    <tr>\n",
       "      <th>8995151</th>\n",
       "      <td>28</td>\n",
       "      <td>2013-06</td>\n",
       "      <td>2013</td>\n",
       "      <td>52</td>\n",
       "      <td>0</td>\n",
       "      <td>0</td>\n",
       "      <td>0</td>\n",
       "      <td>15697</td>\n",
       "    </tr>\n",
       "    <tr>\n",
       "      <th>8995152</th>\n",
       "      <td>29</td>\n",
       "      <td>2014-07</td>\n",
       "      <td>2014</td>\n",
       "      <td>52</td>\n",
       "      <td>0</td>\n",
       "      <td>0</td>\n",
       "      <td>0</td>\n",
       "      <td>15721</td>\n",
       "    </tr>\n",
       "    <tr>\n",
       "      <th>8995153</th>\n",
       "      <td>52</td>\n",
       "      <td>2018-12</td>\n",
       "      <td>2018</td>\n",
       "      <td>52</td>\n",
       "      <td>0</td>\n",
       "      <td>0</td>\n",
       "      <td>0</td>\n",
       "      <td>15697</td>\n",
       "    </tr>\n",
       "    <tr>\n",
       "      <th>8995154</th>\n",
       "      <td>52</td>\n",
       "      <td>2018-06</td>\n",
       "      <td>2018</td>\n",
       "      <td>52</td>\n",
       "      <td>0</td>\n",
       "      <td>0</td>\n",
       "      <td>0</td>\n",
       "      <td>15697</td>\n",
       "    </tr>\n",
       "  </tbody>\n",
       "</table>\n",
       "<p>8995155 rows × 8 columns</p>\n",
       "</div>"
      ],
      "text/plain": [
       "         ETA mese-anno  ANNO  Codice_ateco  nazionalita_transformed  \\\n",
       "0         60   2020-05  2020            97                       57   \n",
       "1         61   2014-09  2014            97                       57   \n",
       "2         29   2017-06  2017            97                       57   \n",
       "3         48   2017-08  2017            97                       57   \n",
       "4         54   2020-01  2020            97                       57   \n",
       "...      ...       ...   ...           ...                      ...   \n",
       "8995150   32   2021-08  2021            47                        0   \n",
       "8995151   28   2013-06  2013            52                        0   \n",
       "8995152   29   2014-07  2014            52                        0   \n",
       "8995153   52   2018-12  2018            52                        0   \n",
       "8995154   52   2018-06  2018            52                        0   \n",
       "\n",
       "         contratto_transformed  genere_transformed  Output_transformed  \n",
       "0                            0                   1               32470  \n",
       "1                            0                   1               32476  \n",
       "2                            0                   1               32455  \n",
       "3                            0                   1               32450  \n",
       "4                            0                   1               32450  \n",
       "...                        ...                 ...                 ...  \n",
       "8995150                      1                   0               14264  \n",
       "8995151                      0                   0               15697  \n",
       "8995152                      0                   0               15721  \n",
       "8995153                      0                   0               15697  \n",
       "8995154                      0                   0               15697  \n",
       "\n",
       "[8995155 rows x 8 columns]"
      ]
     },
     "execution_count": 2,
     "metadata": {},
     "output_type": "execute_result"
    }
   ],
   "source": [
    "# Load the dataset\n",
    "transformed = pd.read_csv('transformed.csv')\n",
    "transformed = transformed.drop(labels='Unnamed: 0', axis=1)\n",
    "transformed"
   ]
  },
  {
   "cell_type": "markdown",
   "id": "c56cbd2b",
   "metadata": {
    "id": "c56cbd2b"
   },
   "source": [
    "### Balancing"
   ]
  },
  {
   "cell_type": "code",
   "execution_count": 3,
   "id": "7bb1d59b",
   "metadata": {
    "id": "7bb1d59b",
    "outputId": "4b6ed9a3-eefb-4714-8e81-4fe9a33a45ab"
   },
   "outputs": [
    {
     "data": {
      "text/plain": [
       "0    0.855403\n",
       "1    0.144597\n",
       "Name: contratto_transformed, dtype: float64"
      ]
     },
     "execution_count": 3,
     "metadata": {},
     "output_type": "execute_result"
    }
   ],
   "source": [
    "# Check if the dataset is balanced\n",
    "transformed[\"contratto_transformed\"].value_counts(normalize=True)"
   ]
  },
  {
   "cell_type": "markdown",
   "id": "2f185139",
   "metadata": {
    "id": "2f185139"
   },
   "source": [
    "We notice that the dataset is not balanced basing on the type of contract"
   ]
  },
  {
   "cell_type": "code",
   "execution_count": 4,
   "id": "a3563ae3",
   "metadata": {
    "id": "a3563ae3",
    "outputId": "8600fa6e-cf21-46a0-ceba-ed70935cb69a"
   },
   "outputs": [
    {
     "data": {
      "text/plain": [
       "ETA                        1300674\n",
       "mese-anno                  1300674\n",
       "ANNO                       1300674\n",
       "Codice_ateco               1300674\n",
       "nazionalita_transformed    1300674\n",
       "contratto_transformed      1300674\n",
       "genere_transformed         1300674\n",
       "Output_transformed         1300674\n",
       "dtype: int64"
      ]
     },
     "execution_count": 4,
     "metadata": {},
     "output_type": "execute_result"
    }
   ],
   "source": [
    "# Count the occurencies of INDETERMINATO's contracts\n",
    "transformed[transformed[\"contratto_transformed\"]==1].count()"
   ]
  },
  {
   "cell_type": "code",
   "execution_count": 5,
   "id": "2a5a84c6",
   "metadata": {
    "id": "2a5a84c6",
    "outputId": "a1d46547-135b-4f5a-88a0-da276c793291"
   },
   "outputs": [
    {
     "data": {
      "text/plain": [
       "ETA                        7694481\n",
       "mese-anno                  7694481\n",
       "ANNO                       7694481\n",
       "Codice_ateco               7694481\n",
       "nazionalita_transformed    7694481\n",
       "contratto_transformed      7694481\n",
       "genere_transformed         7694481\n",
       "Output_transformed         7694481\n",
       "dtype: int64"
      ]
     },
     "execution_count": 5,
     "metadata": {},
     "output_type": "execute_result"
    }
   ],
   "source": [
    "# Count the occurencies of NON INDETERMINATO's contracts\n",
    "transformed[transformed[\"contratto_transformed\"]==0].count()"
   ]
  },
  {
   "cell_type": "markdown",
   "id": "f6993599",
   "metadata": {
    "id": "f6993599"
   },
   "source": [
    "#### Random Undersampling"
   ]
  },
  {
   "cell_type": "markdown",
   "id": "14fc4d05",
   "metadata": {
    "id": "14fc4d05"
   },
   "source": [
    "We use undersampling instead of oversampling because we care more about the INDETERMINATO's contracts which have less occurencies, even if there are the possibilities to lose some informations."
   ]
  },
  {
   "cell_type": "code",
   "execution_count": 6,
   "id": "d3b98ca6",
   "metadata": {
    "id": "d3b98ca6",
    "outputId": "39cc61fe-32d0-42b5-8938-f5ca447b5a75"
   },
   "outputs": [
    {
     "data": {
      "text/html": [
       "<div>\n",
       "<style scoped>\n",
       "    .dataframe tbody tr th:only-of-type {\n",
       "        vertical-align: middle;\n",
       "    }\n",
       "\n",
       "    .dataframe tbody tr th {\n",
       "        vertical-align: top;\n",
       "    }\n",
       "\n",
       "    .dataframe thead th {\n",
       "        text-align: right;\n",
       "    }\n",
       "</style>\n",
       "<table border=\"1\" class=\"dataframe\">\n",
       "  <thead>\n",
       "    <tr style=\"text-align: right;\">\n",
       "      <th></th>\n",
       "      <th>ETA</th>\n",
       "      <th>mese-anno</th>\n",
       "      <th>ANNO</th>\n",
       "      <th>Codice_ateco</th>\n",
       "      <th>nazionalita_transformed</th>\n",
       "      <th>contratto_transformed</th>\n",
       "      <th>genere_transformed</th>\n",
       "      <th>Output_transformed</th>\n",
       "    </tr>\n",
       "  </thead>\n",
       "  <tbody>\n",
       "    <tr>\n",
       "      <th>1120159</th>\n",
       "      <td>23</td>\n",
       "      <td>2013-04</td>\n",
       "      <td>2013</td>\n",
       "      <td>56</td>\n",
       "      <td>27</td>\n",
       "      <td>0</td>\n",
       "      <td>1</td>\n",
       "      <td>16698</td>\n",
       "    </tr>\n",
       "    <tr>\n",
       "      <th>8260960</th>\n",
       "      <td>23</td>\n",
       "      <td>2012-09</td>\n",
       "      <td>2012</td>\n",
       "      <td>56</td>\n",
       "      <td>4</td>\n",
       "      <td>0</td>\n",
       "      <td>0</td>\n",
       "      <td>16796</td>\n",
       "    </tr>\n",
       "    <tr>\n",
       "      <th>1386666</th>\n",
       "      <td>28</td>\n",
       "      <td>2010-11</td>\n",
       "      <td>2010</td>\n",
       "      <td>85</td>\n",
       "      <td>27</td>\n",
       "      <td>0</td>\n",
       "      <td>1</td>\n",
       "      <td>26688</td>\n",
       "    </tr>\n",
       "    <tr>\n",
       "      <th>7223672</th>\n",
       "      <td>28</td>\n",
       "      <td>2017-07</td>\n",
       "      <td>2017</td>\n",
       "      <td>56</td>\n",
       "      <td>45</td>\n",
       "      <td>0</td>\n",
       "      <td>1</td>\n",
       "      <td>17250</td>\n",
       "    </tr>\n",
       "    <tr>\n",
       "      <th>8530295</th>\n",
       "      <td>45</td>\n",
       "      <td>2020-03</td>\n",
       "      <td>2020</td>\n",
       "      <td>1</td>\n",
       "      <td>1</td>\n",
       "      <td>0</td>\n",
       "      <td>0</td>\n",
       "      <td>465</td>\n",
       "    </tr>\n",
       "    <tr>\n",
       "      <th>...</th>\n",
       "      <td>...</td>\n",
       "      <td>...</td>\n",
       "      <td>...</td>\n",
       "      <td>...</td>\n",
       "      <td>...</td>\n",
       "      <td>...</td>\n",
       "      <td>...</td>\n",
       "      <td>...</td>\n",
       "    </tr>\n",
       "    <tr>\n",
       "      <th>8995121</th>\n",
       "      <td>25</td>\n",
       "      <td>2013-05</td>\n",
       "      <td>2013</td>\n",
       "      <td>56</td>\n",
       "      <td>4</td>\n",
       "      <td>1</td>\n",
       "      <td>1</td>\n",
       "      <td>17236</td>\n",
       "    </tr>\n",
       "    <tr>\n",
       "      <th>8995123</th>\n",
       "      <td>23</td>\n",
       "      <td>2016-08</td>\n",
       "      <td>2016</td>\n",
       "      <td>81</td>\n",
       "      <td>4</td>\n",
       "      <td>1</td>\n",
       "      <td>0</td>\n",
       "      <td>25056</td>\n",
       "    </tr>\n",
       "    <tr>\n",
       "      <th>8995144</th>\n",
       "      <td>31</td>\n",
       "      <td>2011-02</td>\n",
       "      <td>2011</td>\n",
       "      <td>81</td>\n",
       "      <td>0</td>\n",
       "      <td>1</td>\n",
       "      <td>1</td>\n",
       "      <td>25216</td>\n",
       "    </tr>\n",
       "    <tr>\n",
       "      <th>8995146</th>\n",
       "      <td>36</td>\n",
       "      <td>2018-03</td>\n",
       "      <td>2018</td>\n",
       "      <td>25</td>\n",
       "      <td>4</td>\n",
       "      <td>1</td>\n",
       "      <td>0</td>\n",
       "      <td>6732</td>\n",
       "    </tr>\n",
       "    <tr>\n",
       "      <th>8995150</th>\n",
       "      <td>32</td>\n",
       "      <td>2021-08</td>\n",
       "      <td>2021</td>\n",
       "      <td>47</td>\n",
       "      <td>0</td>\n",
       "      <td>1</td>\n",
       "      <td>0</td>\n",
       "      <td>14264</td>\n",
       "    </tr>\n",
       "  </tbody>\n",
       "</table>\n",
       "<p>2652646 rows × 8 columns</p>\n",
       "</div>"
      ],
      "text/plain": [
       "         ETA mese-anno  ANNO  Codice_ateco  nazionalita_transformed  \\\n",
       "1120159   23   2013-04  2013            56                       27   \n",
       "8260960   23   2012-09  2012            56                        4   \n",
       "1386666   28   2010-11  2010            85                       27   \n",
       "7223672   28   2017-07  2017            56                       45   \n",
       "8530295   45   2020-03  2020             1                        1   \n",
       "...      ...       ...   ...           ...                      ...   \n",
       "8995121   25   2013-05  2013            56                        4   \n",
       "8995123   23   2016-08  2016            81                        4   \n",
       "8995144   31   2011-02  2011            81                        0   \n",
       "8995146   36   2018-03  2018            25                        4   \n",
       "8995150   32   2021-08  2021            47                        0   \n",
       "\n",
       "         contratto_transformed  genere_transformed  Output_transformed  \n",
       "1120159                      0                   1               16698  \n",
       "8260960                      0                   0               16796  \n",
       "1386666                      0                   1               26688  \n",
       "7223672                      0                   1               17250  \n",
       "8530295                      0                   0                 465  \n",
       "...                        ...                 ...                 ...  \n",
       "8995121                      1                   1               17236  \n",
       "8995123                      1                   0               25056  \n",
       "8995144                      1                   1               25216  \n",
       "8995146                      1                   0                6732  \n",
       "8995150                      1                   0               14264  \n",
       "\n",
       "[2652646 rows x 8 columns]"
      ]
     },
     "execution_count": 6,
     "metadata": {},
     "output_type": "execute_result"
    }
   ],
   "source": [
    "# Execute the undersampling for the NON INDETERMINATO's contracts\n",
    "data_0 = transformed[transformed[\"contratto_transformed\"]==0].sample(n=1351972,random_state=16) \n",
    "data_1 = transformed[transformed[\"contratto_transformed\"]==1]\n",
    "balanced = data_0.append(data_1)\n",
    "balanced"
   ]
  },
  {
   "cell_type": "code",
   "execution_count": 7,
   "id": "a1285656",
   "metadata": {
    "id": "a1285656",
    "outputId": "814ab619-ed7a-4c75-89d4-eac1b7fac045"
   },
   "outputs": [
    {
     "data": {
      "text/plain": [
       "0    0.509669\n",
       "1    0.490331\n",
       "Name: contratto_transformed, dtype: float64"
      ]
     },
     "execution_count": 7,
     "metadata": {},
     "output_type": "execute_result"
    }
   ],
   "source": [
    "# Check if the dataset is balanced\n",
    "balanced[\"contratto_transformed\"].value_counts(normalize=True)"
   ]
  },
  {
   "cell_type": "markdown",
   "id": "c5aad301",
   "metadata": {
    "id": "c5aad301"
   },
   "source": [
    "## Create the train and test sets"
   ]
  },
  {
   "cell_type": "code",
   "execution_count": 8,
   "id": "e9c76877",
   "metadata": {
    "id": "e9c76877"
   },
   "outputs": [],
   "source": [
    "# Create the train and test sets\n",
    "X = balanced[[\"ETA\",\"ANNO\",\"contratto_transformed\",\"nazionalita_transformed\",\"genere_transformed\"]].values\n",
    "y = pd.DataFrame(balanced['Codice_ateco'].copy()).values\n",
    "\n",
    "X_train, X_test, y_train, y_test = train_test_split(X, y, test_size = 0.3, random_state = 7)"
   ]
  },
  {
   "cell_type": "code",
   "execution_count": 9,
   "id": "3a6cecec",
   "metadata": {
    "id": "3a6cecec"
   },
   "outputs": [],
   "source": [
    "# To avoid the MemoryError, we change the dataset's type into a new lighter one\n",
    "X_train=X_train.astype(np.uint8)\n",
    "y_train=y_train.astype(np.uint8)"
   ]
  },
  {
   "cell_type": "markdown",
   "id": "6b6dae18",
   "metadata": {
    "id": "6b6dae18"
   },
   "source": [
    "## Decision Tree"
   ]
  },
  {
   "cell_type": "markdown",
   "id": "331a25ad",
   "metadata": {
    "id": "331a25ad"
   },
   "source": [
    "### Find the best max_depth"
   ]
  },
  {
   "cell_type": "code",
   "execution_count": null,
   "id": "044dd1be",
   "metadata": {
    "id": "044dd1be",
    "outputId": "6f1c46fa-3037-4b8f-90eb-35ff6626ccd0"
   },
   "outputs": [],
   "source": [
    "# Find the max depth neccessary for the Decision tree\n",
    "max_depth = []\n",
    "acc_gini = []\n",
    "acc_entropy = []\n",
    "for i in range(1,30):\n",
    "     dtree = DecisionTreeClassifier(criterion='gini', max_depth=i)\n",
    "     dtree.fit(X_train, y_train)\n",
    "     pred = dtree.predict(X_test)\n",
    "     acc_gini.append(accuracy_score(y_test, pred))\n",
    "     ####\n",
    "     dtree = DecisionTreeClassifier(criterion='entropy', max_depth=i)\n",
    "     dtree.fit(X_train, y_train)\n",
    "     pred = dtree.predict(X_test)\n",
    "     acc_entropy.append(accuracy_score(y_test, pred))\n",
    "     ####\n",
    "     max_depth.append(i)\n",
    "d = pd.DataFrame({'acc_gini':pd.Series(acc_gini), \n",
    " 'acc_entropy':pd.Series(acc_entropy),\n",
    " 'max_depth':pd.Series(max_depth)})\n",
    "# visualizing changes in parameters\n",
    "plt.plot('max_depth','acc_gini', data=d, label='gini')\n",
    "plt.plot('max_depth','acc_entropy', data=d, label='entropy')\n",
    "plt.xlabel('max_depth')\n",
    "plt.ylabel('accuracy')\n",
    "plt.legend()"
   ]
  },
  {
   "cell_type": "markdown",
   "id": "0576bdb6",
   "metadata": {
    "id": "0576bdb6"
   },
   "source": [
    "We notice that the best accuracy is when max_depth is (more or less) equal to 10."
   ]
  },
  {
   "cell_type": "markdown",
   "id": "p1zs_hbHznZP",
   "metadata": {
    "id": "p1zs_hbHznZP"
   },
   "source": [
    "### Execution of Decision Tree"
   ]
  },
  {
   "cell_type": "code",
   "execution_count": 10,
   "id": "230f8705",
   "metadata": {
    "id": "230f8705"
   },
   "outputs": [],
   "source": [
    "# Method that allow to calculate the decision tree\n",
    "# syntax:\n",
    "# X_train: input train dataframe\n",
    "# y_train: output train dataframe\n",
    "def dct(X_train, y_train):\n",
    "    dct = tree.DecisionTreeClassifier()\n",
    "    \n",
    "    DecisionTreeClassifier(criterion='entropy', splitter='best', max_depth=10,\n",
    "                           min_samples_split=2, min_samples_leaf=1, min_weight_fraction_leaf=0.0, max_features=None, \n",
    "                           random_state=None, max_leaf_nodes=None, min_impurity_decrease=0.0, \n",
    "                           class_weight=None)\n",
    "    \n",
    "    return dct"
   ]
  },
  {
   "cell_type": "code",
   "execution_count": 11,
   "id": "fe8a6ebf",
   "metadata": {
    "id": "fe8a6ebf",
    "outputId": "7b50e1f3-baad-4a30-a800-f5ccfcd205ec"
   },
   "outputs": [
    {
     "data": {
      "text/plain": [
       "DecisionTreeClassifier()"
      ]
     },
     "execution_count": 11,
     "metadata": {},
     "output_type": "execute_result"
    }
   ],
   "source": [
    "# Create Decision tree and fit it\n",
    "dct = dct(X_train, y_train)\n",
    "dct.fit(X_train, y_train)"
   ]
  },
  {
   "cell_type": "code",
   "execution_count": 12,
   "id": "bc2c1eba",
   "metadata": {
    "id": "bc2c1eba"
   },
   "outputs": [],
   "source": [
    "# With the following sintax we will create a .dot file with the code for visualizing th tree\n",
    "tree.export_graphviz(dct, out_file='tree.dot', feature_names=[\"ETA\",\"ANNO\",\"contratto_transformed\",\"nazionalita_transformed\",\"genere_transformed\"])"
   ]
  },
  {
   "cell_type": "code",
   "execution_count": null,
   "id": "3c953171",
   "metadata": {
    "id": "3c953171"
   },
   "outputs": [
    {
     "ename": "KeyboardInterrupt",
     "evalue": "",
     "output_type": "error",
     "traceback": [
      "\u001b[1;31m---------------------------------------------------------------------------\u001b[0m",
      "\u001b[1;31mKeyboardInterrupt\u001b[0m                         Traceback (most recent call last)",
      "\u001b[1;32m~\\AppData\\Local\\Temp/ipykernel_28384/2666871390.py\u001b[0m in \u001b[0;36m<module>\u001b[1;34m\u001b[0m\n\u001b[0;32m      1\u001b[0m \u001b[1;31m# Show Decision tree\u001b[0m\u001b[1;33m\u001b[0m\u001b[1;33m\u001b[0m\u001b[1;33m\u001b[0m\u001b[0m\n\u001b[1;32m----> 2\u001b[1;33m \u001b[0mtree\u001b[0m\u001b[1;33m.\u001b[0m\u001b[0mplot_tree\u001b[0m\u001b[1;33m(\u001b[0m\u001b[0mdct\u001b[0m\u001b[1;33m)\u001b[0m\u001b[1;33m\u001b[0m\u001b[1;33m\u001b[0m\u001b[0m\n\u001b[0m",
      "\u001b[1;32m~\\anaconda3\\envs\\insubria\\lib\\site-packages\\sklearn\\tree\\_export.py\u001b[0m in \u001b[0;36mplot_tree\u001b[1;34m(decision_tree, max_depth, feature_names, class_names, label, filled, impurity, node_ids, proportion, rounded, precision, ax, fontsize)\u001b[0m\n\u001b[0;32m    193\u001b[0m         \u001b[0mfontsize\u001b[0m\u001b[1;33m=\u001b[0m\u001b[0mfontsize\u001b[0m\u001b[1;33m,\u001b[0m\u001b[1;33m\u001b[0m\u001b[1;33m\u001b[0m\u001b[0m\n\u001b[0;32m    194\u001b[0m     )\n\u001b[1;32m--> 195\u001b[1;33m     \u001b[1;32mreturn\u001b[0m \u001b[0mexporter\u001b[0m\u001b[1;33m.\u001b[0m\u001b[0mexport\u001b[0m\u001b[1;33m(\u001b[0m\u001b[0mdecision_tree\u001b[0m\u001b[1;33m,\u001b[0m \u001b[0max\u001b[0m\u001b[1;33m=\u001b[0m\u001b[0max\u001b[0m\u001b[1;33m)\u001b[0m\u001b[1;33m\u001b[0m\u001b[1;33m\u001b[0m\u001b[0m\n\u001b[0m\u001b[0;32m    196\u001b[0m \u001b[1;33m\u001b[0m\u001b[0m\n\u001b[0;32m    197\u001b[0m \u001b[1;33m\u001b[0m\u001b[0m\n",
      "\u001b[1;32m~\\anaconda3\\envs\\insubria\\lib\\site-packages\\sklearn\\tree\\_export.py\u001b[0m in \u001b[0;36mexport\u001b[1;34m(self, decision_tree, ax)\u001b[0m\n\u001b[0;32m    675\u001b[0m \u001b[1;33m\u001b[0m\u001b[0m\n\u001b[0;32m    676\u001b[0m         \u001b[1;32mfor\u001b[0m \u001b[0mann\u001b[0m \u001b[1;32min\u001b[0m \u001b[0manns\u001b[0m\u001b[1;33m:\u001b[0m\u001b[1;33m\u001b[0m\u001b[1;33m\u001b[0m\u001b[0m\n\u001b[1;32m--> 677\u001b[1;33m             \u001b[0mann\u001b[0m\u001b[1;33m.\u001b[0m\u001b[0mupdate_bbox_position_size\u001b[0m\u001b[1;33m(\u001b[0m\u001b[0mrenderer\u001b[0m\u001b[1;33m)\u001b[0m\u001b[1;33m\u001b[0m\u001b[1;33m\u001b[0m\u001b[0m\n\u001b[0m\u001b[0;32m    678\u001b[0m \u001b[1;33m\u001b[0m\u001b[0m\n\u001b[0;32m    679\u001b[0m         \u001b[1;32mif\u001b[0m \u001b[0mself\u001b[0m\u001b[1;33m.\u001b[0m\u001b[0mfontsize\u001b[0m \u001b[1;32mis\u001b[0m \u001b[1;32mNone\u001b[0m\u001b[1;33m:\u001b[0m\u001b[1;33m\u001b[0m\u001b[1;33m\u001b[0m\u001b[0m\n",
      "\u001b[1;32m~\\anaconda3\\envs\\insubria\\lib\\site-packages\\matplotlib\\text.py\u001b[0m in \u001b[0;36mupdate_bbox_position_size\u001b[1;34m(self, renderer)\u001b[0m\n\u001b[0;32m    506\u001b[0m             \u001b[0mposx\u001b[0m\u001b[1;33m,\u001b[0m \u001b[0mposy\u001b[0m \u001b[1;33m=\u001b[0m \u001b[0mself\u001b[0m\u001b[1;33m.\u001b[0m\u001b[0mget_transform\u001b[0m\u001b[1;33m(\u001b[0m\u001b[1;33m)\u001b[0m\u001b[1;33m.\u001b[0m\u001b[0mtransform\u001b[0m\u001b[1;33m(\u001b[0m\u001b[1;33m(\u001b[0m\u001b[0mposx\u001b[0m\u001b[1;33m,\u001b[0m \u001b[0mposy\u001b[0m\u001b[1;33m)\u001b[0m\u001b[1;33m)\u001b[0m\u001b[1;33m\u001b[0m\u001b[1;33m\u001b[0m\u001b[0m\n\u001b[0;32m    507\u001b[0m \u001b[1;33m\u001b[0m\u001b[0m\n\u001b[1;32m--> 508\u001b[1;33m             \u001b[0mx_box\u001b[0m\u001b[1;33m,\u001b[0m \u001b[0my_box\u001b[0m\u001b[1;33m,\u001b[0m \u001b[0mw_box\u001b[0m\u001b[1;33m,\u001b[0m \u001b[0mh_box\u001b[0m \u001b[1;33m=\u001b[0m \u001b[0m_get_textbox\u001b[0m\u001b[1;33m(\u001b[0m\u001b[0mself\u001b[0m\u001b[1;33m,\u001b[0m \u001b[0mrenderer\u001b[0m\u001b[1;33m)\u001b[0m\u001b[1;33m\u001b[0m\u001b[1;33m\u001b[0m\u001b[0m\n\u001b[0m\u001b[0;32m    509\u001b[0m             \u001b[0mself\u001b[0m\u001b[1;33m.\u001b[0m\u001b[0m_bbox_patch\u001b[0m\u001b[1;33m.\u001b[0m\u001b[0mset_bounds\u001b[0m\u001b[1;33m(\u001b[0m\u001b[1;36m0.\u001b[0m\u001b[1;33m,\u001b[0m \u001b[1;36m0.\u001b[0m\u001b[1;33m,\u001b[0m \u001b[0mw_box\u001b[0m\u001b[1;33m,\u001b[0m \u001b[0mh_box\u001b[0m\u001b[1;33m)\u001b[0m\u001b[1;33m\u001b[0m\u001b[1;33m\u001b[0m\u001b[0m\n\u001b[0;32m    510\u001b[0m             self._bbox_patch.set_transform(\n",
      "\u001b[1;32m~\\anaconda3\\envs\\insubria\\lib\\site-packages\\matplotlib\\text.py\u001b[0m in \u001b[0;36m_get_textbox\u001b[1;34m(text, renderer)\u001b[0m\n\u001b[0;32m     69\u001b[0m     \u001b[0mtr\u001b[0m \u001b[1;33m=\u001b[0m \u001b[0mAffine2D\u001b[0m\u001b[1;33m(\u001b[0m\u001b[1;33m)\u001b[0m\u001b[1;33m.\u001b[0m\u001b[0mrotate\u001b[0m\u001b[1;33m(\u001b[0m\u001b[1;33m-\u001b[0m\u001b[0mtheta\u001b[0m\u001b[1;33m)\u001b[0m\u001b[1;33m\u001b[0m\u001b[1;33m\u001b[0m\u001b[0m\n\u001b[0;32m     70\u001b[0m \u001b[1;33m\u001b[0m\u001b[0m\n\u001b[1;32m---> 71\u001b[1;33m     \u001b[0m_\u001b[0m\u001b[1;33m,\u001b[0m \u001b[0mparts\u001b[0m\u001b[1;33m,\u001b[0m \u001b[0md\u001b[0m \u001b[1;33m=\u001b[0m \u001b[0mtext\u001b[0m\u001b[1;33m.\u001b[0m\u001b[0m_get_layout\u001b[0m\u001b[1;33m(\u001b[0m\u001b[0mrenderer\u001b[0m\u001b[1;33m)\u001b[0m\u001b[1;33m\u001b[0m\u001b[1;33m\u001b[0m\u001b[0m\n\u001b[0m\u001b[0;32m     72\u001b[0m \u001b[1;33m\u001b[0m\u001b[0m\n\u001b[0;32m     73\u001b[0m     \u001b[1;32mfor\u001b[0m \u001b[0mt\u001b[0m\u001b[1;33m,\u001b[0m \u001b[0mwh\u001b[0m\u001b[1;33m,\u001b[0m \u001b[0mx\u001b[0m\u001b[1;33m,\u001b[0m \u001b[0my\u001b[0m \u001b[1;32min\u001b[0m \u001b[0mparts\u001b[0m\u001b[1;33m:\u001b[0m\u001b[1;33m\u001b[0m\u001b[1;33m\u001b[0m\u001b[0m\n",
      "\u001b[1;32m~\\anaconda3\\envs\\insubria\\lib\\site-packages\\matplotlib\\text.py\u001b[0m in \u001b[0;36m_get_layout\u001b[1;34m(self, renderer)\u001b[0m\n\u001b[0;32m    315\u001b[0m             \u001b[0mclean_line\u001b[0m\u001b[1;33m,\u001b[0m \u001b[0mismath\u001b[0m \u001b[1;33m=\u001b[0m \u001b[0mself\u001b[0m\u001b[1;33m.\u001b[0m\u001b[0m_preprocess_math\u001b[0m\u001b[1;33m(\u001b[0m\u001b[0mline\u001b[0m\u001b[1;33m)\u001b[0m\u001b[1;33m\u001b[0m\u001b[1;33m\u001b[0m\u001b[0m\n\u001b[0;32m    316\u001b[0m             \u001b[1;32mif\u001b[0m \u001b[0mclean_line\u001b[0m\u001b[1;33m:\u001b[0m\u001b[1;33m\u001b[0m\u001b[1;33m\u001b[0m\u001b[0m\n\u001b[1;32m--> 317\u001b[1;33m                 w, h, d = renderer.get_text_width_height_descent(\n\u001b[0m\u001b[0;32m    318\u001b[0m                     clean_line, self._fontproperties, ismath=ismath)\n\u001b[0;32m    319\u001b[0m             \u001b[1;32melse\u001b[0m\u001b[1;33m:\u001b[0m\u001b[1;33m\u001b[0m\u001b[1;33m\u001b[0m\u001b[0m\n",
      "\u001b[1;32m~\\anaconda3\\envs\\insubria\\lib\\site-packages\\matplotlib\\backends\\backend_agg.py\u001b[0m in \u001b[0;36mget_text_width_height_descent\u001b[1;34m(self, s, prop, ismath)\u001b[0m\n\u001b[0;32m    268\u001b[0m         \u001b[0mflags\u001b[0m \u001b[1;33m=\u001b[0m \u001b[0mget_hinting_flag\u001b[0m\u001b[1;33m(\u001b[0m\u001b[1;33m)\u001b[0m\u001b[1;33m\u001b[0m\u001b[1;33m\u001b[0m\u001b[0m\n\u001b[0;32m    269\u001b[0m         \u001b[0mfont\u001b[0m \u001b[1;33m=\u001b[0m \u001b[0mself\u001b[0m\u001b[1;33m.\u001b[0m\u001b[0m_get_agg_font\u001b[0m\u001b[1;33m(\u001b[0m\u001b[0mprop\u001b[0m\u001b[1;33m)\u001b[0m\u001b[1;33m\u001b[0m\u001b[1;33m\u001b[0m\u001b[0m\n\u001b[1;32m--> 270\u001b[1;33m         \u001b[0mfont\u001b[0m\u001b[1;33m.\u001b[0m\u001b[0mset_text\u001b[0m\u001b[1;33m(\u001b[0m\u001b[0ms\u001b[0m\u001b[1;33m,\u001b[0m \u001b[1;36m0.0\u001b[0m\u001b[1;33m,\u001b[0m \u001b[0mflags\u001b[0m\u001b[1;33m=\u001b[0m\u001b[0mflags\u001b[0m\u001b[1;33m)\u001b[0m\u001b[1;33m\u001b[0m\u001b[1;33m\u001b[0m\u001b[0m\n\u001b[0m\u001b[0;32m    271\u001b[0m         \u001b[0mw\u001b[0m\u001b[1;33m,\u001b[0m \u001b[0mh\u001b[0m \u001b[1;33m=\u001b[0m \u001b[0mfont\u001b[0m\u001b[1;33m.\u001b[0m\u001b[0mget_width_height\u001b[0m\u001b[1;33m(\u001b[0m\u001b[1;33m)\u001b[0m  \u001b[1;31m# width and height of unrotated string\u001b[0m\u001b[1;33m\u001b[0m\u001b[1;33m\u001b[0m\u001b[0m\n\u001b[0;32m    272\u001b[0m         \u001b[0md\u001b[0m \u001b[1;33m=\u001b[0m \u001b[0mfont\u001b[0m\u001b[1;33m.\u001b[0m\u001b[0mget_descent\u001b[0m\u001b[1;33m(\u001b[0m\u001b[1;33m)\u001b[0m\u001b[1;33m\u001b[0m\u001b[1;33m\u001b[0m\u001b[0m\n",
      "\u001b[1;31mKeyboardInterrupt\u001b[0m: "
     ]
    }
   ],
   "source": [
    "# Show Decision tree\n",
    "tree.plot_tree(dct)"
   ]
  },
  {
   "cell_type": "code",
   "execution_count": null,
   "id": "902caa02",
   "metadata": {
    "id": "902caa02",
    "outputId": "761ab85f-ac2d-491e-f9fc-cd4c9dcbfe03"
   },
   "outputs": [],
   "source": [
    "# Probablistic prediction the values\n",
    "y_pred_prob = dct.predict_proba(X_test)\n",
    "y_pred_prob"
   ]
  },
  {
   "cell_type": "code",
   "execution_count": null,
   "id": "69a5d680",
   "metadata": {
    "id": "69a5d680",
    "outputId": "12d11ffc-6b69-435b-9ed7-b221114363dd"
   },
   "outputs": [],
   "source": [
    "# Predict the values\n",
    "y_pred = dct.predict(X_test)\n",
    "y_pred"
   ]
  },
  {
   "cell_type": "code",
   "execution_count": null,
   "id": "a1da38c1",
   "metadata": {},
   "outputs": [],
   "source": [
    "from sklearn.metrics import r2_score\n",
    "r2_score(y_test, y_pred), mean_absolute_error(y_test, y_pred), np.sqrt(mean_squared_error(y_test, y_pred))"
   ]
  },
  {
   "cell_type": "markdown",
   "id": "37dadee4",
   "metadata": {
    "id": "37dadee4"
   },
   "source": [
    "#### Confusion matrix"
   ]
  },
  {
   "cell_type": "code",
   "execution_count": 16,
   "id": "c82eaf89",
   "metadata": {
    "id": "c82eaf89",
    "outputId": "b1e0e9e7-80fb-47a4-e39f-51ba9425af3d"
   },
   "outputs": [
    {
     "name": "stdout",
     "output_type": "stream",
     "text": [
      "[[  2   3  36 ...   1   2   1]\n",
      " [  2   2  31 ...   0   4   0]\n",
      " [ 42  15 467 ...   1  11   1]\n",
      " ...\n",
      " [  5   3  67 ...   2   8   0]\n",
      " [  6   0  52 ...   2 151   2]\n",
      " [  1   0  28 ...   0  10  15]]\n"
     ]
    }
   ],
   "source": [
    "# To avoid the MemoryError, we change the dataset's type into a new lighter one\n",
    "y_test=y_test.astype(np.uint8)\n",
    "y_pred=y_pred.astype(np.uint8)\n",
    "\n",
    "# Print the confusion matrix\n",
    "confusion = metrics.confusion_matrix(y_test, y_pred)\n",
    "print(confusion)"
   ]
  },
  {
   "cell_type": "markdown",
   "id": "45273a77",
   "metadata": {
    "id": "45273a77"
   },
   "source": [
    "### Best Depth Tree"
   ]
  },
  {
   "cell_type": "code",
   "execution_count": 17,
   "id": "33ae826d",
   "metadata": {
    "id": "33ae826d"
   },
   "outputs": [
    {
     "data": {
      "text/plain": [
       "35"
      ]
     },
     "execution_count": 17,
     "metadata": {},
     "output_type": "execute_result"
    }
   ],
   "source": [
    "# Calculate the max depth in the decision tree\n",
    "max_depth = dct.get_depth()\n",
    "max_depth"
   ]
  },
  {
   "cell_type": "code",
   "execution_count": 18,
   "id": "0014d1f3",
   "metadata": {
    "id": "0014d1f3"
   },
   "outputs": [
    {
     "data": {
      "text/plain": [
       "GridSearchCV(estimator=DecisionTreeClassifier(random_state=42),\n",
       "             param_grid=<sklearn.model_selection._search.ParameterGrid object at 0x000002B5691184F0>,\n",
       "             scoring=make_scorer(accuracy_score))"
      ]
     },
     "execution_count": 18,
     "metadata": {},
     "output_type": "execute_result"
    }
   ],
   "source": [
    "# Find the best parameter\n",
    "max_depth_grid_search = GridSearchCV(estimator=DecisionTreeClassifier(random_state=42),\n",
    "                                    scoring=make_scorer(accuracy_score),\n",
    "                                    param_grid=ParameterGrid({\"max_depth\":[[max_depth] for max_depth in range(1, max_depth+1)]}),)\n",
    "max_depth_grid_search.fit(X_train, y_train)"
   ]
  },
  {
   "cell_type": "code",
   "execution_count": 19,
   "id": "5e8529a0",
   "metadata": {
    "id": "5e8529a0"
   },
   "outputs": [
    {
     "data": {
      "text/plain": [
       "{'max_depth': 13}"
      ]
     },
     "execution_count": 19,
     "metadata": {},
     "output_type": "execute_result"
    }
   ],
   "source": [
    "# Show the best parameter\n",
    "max_depth_grid_search.best_params_"
   ]
  },
  {
   "cell_type": "code",
   "execution_count": null,
   "id": "c12277d0",
   "metadata": {
    "id": "c12277d0"
   },
   "outputs": [],
   "source": [
    "# Show the tree with the parameter found previuosly \n",
    "best_max_depth_tree=max_depth_grid_search.best_estimator_\n",
    "best_max_depth = best_max_depth_tree.get_depth()\n",
    "\n",
    "plt.figure(figsize=(4,4), dpi=1000)\n",
    "plot_tree(best_max_depth_tree,\n",
    "         feature_names=[\"ETA\",\"ANNO\",\"contratto_transformed\",\"nazionalita_transformed\",\"genere_transformed\"],\n",
    "          filled=True,)\n",
    "plt.show()"
   ]
  },
  {
   "cell_type": "markdown",
   "id": "a7cd063d",
   "metadata": {
    "id": "a7cd063d"
   },
   "source": [
    "### Prune the tree"
   ]
  },
  {
   "cell_type": "markdown",
   "id": "os3H4Gfa4bzG",
   "metadata": {
    "id": "os3H4Gfa4bzG"
   },
   "source": [
    "The following parts we were not able to execute because they took too long (we never got an output). \n",
    "They are for pruning the tree, a technique used to reduce or avoid overfitting."
   ]
  },
  {
   "cell_type": "markdown",
   "id": "fb0817d3",
   "metadata": {
    "id": "fb0817d3"
   },
   "source": [
    "#### Pre-Pruning"
   ]
  },
  {
   "cell_type": "markdown",
   "id": "GxeybCGV6eHJ",
   "metadata": {
    "id": "GxeybCGV6eHJ"
   },
   "source": [
    "Pre pruning is nothing but stoping the growth of decision tree on an early stage. "
   ]
  },
  {
   "cell_type": "code",
   "execution_count": null,
   "id": "b6f804dc",
   "metadata": {
    "id": "b6f804dc"
   },
   "outputs": [],
   "source": [
    "# Set parameters and prune the tree\n",
    "grid_param={\"criterion\":[\"gini\",\"entropy\"],\n",
    "             \"splitter\":[\"best\",\"random\"],\n",
    "             \"max_depth\":range(2,50,1),\n",
    "             \"min_samples_leaf\":range(1,15,1),\n",
    "             \"min_samples_split\":range(2,20,1) \n",
    "            }\n",
    "grid_search=GridSearchCV(estimator=dct,param_grid=grid_param,cv=5,n_jobs=-1)\n",
    "grid_search.fit(X_train,y_train)"
   ]
  },
  {
   "cell_type": "code",
   "execution_count": null,
   "id": "e7698699",
   "metadata": {
    "id": "e7698699"
   },
   "outputs": [],
   "source": [
    "# Print the best parameters\n",
    "print(grid_search.best_params_)"
   ]
  },
  {
   "cell_type": "code",
   "execution_count": null,
   "id": "03731e0e",
   "metadata": {
    "id": "03731e0e"
   },
   "outputs": [],
   "source": [
    "# Show the tree\n",
    "clf=DecisionTreeClassifier(criterion= 'gini',max_depth= 10,min_samples_leaf= 3,min_samples_split= 12,splitter= 'random')\n",
    "clf.fit(X_train,y_train)\n",
    "plt.figure(figsize=(20,12))\n",
    "tree.plot_tree(clf,rounded=True,filled=True)\n",
    "plt.show()"
   ]
  },
  {
   "cell_type": "code",
   "execution_count": null,
   "id": "a611b1b3",
   "metadata": {
    "id": "a611b1b3"
   },
   "outputs": [],
   "source": [
    "# Predict the values\n",
    "y_pred=clf.predict(X_test)\n",
    "accuracy_score(y_test,y_pred)"
   ]
  },
  {
   "cell_type": "markdown",
   "id": "ab023b7c",
   "metadata": {
    "id": "ab023b7c"
   },
   "source": [
    "#### Post pruning techniques"
   ]
  },
  {
   "cell_type": "markdown",
   "id": "lKLeNR9Y7Aij",
   "metadata": {
    "id": "lKLeNR9Y7Aij"
   },
   "source": [
    "##### Cost Complexity Pruning"
   ]
  },
  {
   "cell_type": "markdown",
   "id": "hV-4dP4P7cCX",
   "metadata": {
    "id": "hV-4dP4P7cCX"
   },
   "source": [
    "Method to improve test accuracy and get a better model."
   ]
  },
  {
   "cell_type": "code",
   "execution_count": null,
   "id": "bf562763",
   "metadata": {
    "id": "bf562763"
   },
   "outputs": [],
   "source": [
    "# Finding the right parameter for alpha\n",
    "path = dct.cost_complexity_pruning_path(X_train, y_train)\n",
    "ccp_alphas, impurities = path.ccp_alphas, path.impurities\n",
    "clfs = []\n",
    "for ccp_alpha in ccp_alphas:\n",
    "    clf = tree.DecisionTreeClassifier(ccp_alpha=ccp_alpha)\n",
    "    clf.fit(X_train, y_train)\n",
    "    clfs.append(clf)"
   ]
  },
  {
   "cell_type": "code",
   "execution_count": null,
   "id": "8423d32a",
   "metadata": {
    "id": "8423d32a"
   },
   "outputs": [],
   "source": [
    "# Show the dependence bewteen the alpha value and the number of nodes\n",
    "clfs = clfs[:-1]\n",
    "ccp_alphas = ccp_alphas[:-1]\n",
    "node_counts = [clf.tree_.node_count for clf in clfs]\n",
    "depth = [clf.tree_.max_depth for clf in clfs]\n",
    "plt.scatter(ccp_alphas,node_counts)\n",
    "plt.scatter(ccp_alphas,depth)\n",
    "plt.plot(ccp_alphas,node_counts,label='no of nodes',drawstyle=\"steps-post\")\n",
    "plt.plot(ccp_alphas,depth,label='depth',drawstyle=\"steps-post\")\n",
    "plt.legend()\n",
    "plt.show()"
   ]
  },
  {
   "cell_type": "markdown",
   "id": "0a516985",
   "metadata": {
    "id": "0a516985"
   },
   "source": [
    "##  K-Nearest Neighbors Classification"
   ]
  },
  {
   "cell_type": "code",
   "execution_count": 20,
   "id": "3e796e24",
   "metadata": {
    "id": "3e796e24"
   },
   "outputs": [],
   "source": [
    "# Method that allow to scaled the features\n",
    "# syntax:\n",
    "# data_train: train dataframe\n",
    "# data_test: test dataframe\n",
    "def scaleFeaturesDF(data_train, data_test):\n",
    "\n",
    "    transf = preprocessing.MinMaxScaler().fit(data_train)\n",
    "    data_train = transf.transform(data_train)\n",
    "    data_train = pd.DataFrame(data_train)\n",
    "    data_test = transf.transform(data_test)\n",
    "    data_test = pd.DataFrame(data_test)\n",
    "    \n",
    "    \n",
    "    return data_train, data_test"
   ]
  },
  {
   "cell_type": "code",
   "execution_count": 21,
   "id": "64072c59",
   "metadata": {
    "id": "64072c59"
   },
   "outputs": [],
   "source": [
    "# Apply the function \n",
    "[X_train, X_test]=scaleFeaturesDF(X_train, X_test)"
   ]
  },
  {
   "cell_type": "code",
   "execution_count": 22,
   "id": "c908519f",
   "metadata": {
    "id": "c908519f",
    "outputId": "15e20f7c-4c64-4b57-8dd6-44b34c665230"
   },
   "outputs": [
    {
     "data": {
      "text/plain": [
       "KNeighborsClassifier()"
      ]
     },
     "execution_count": 22,
     "metadata": {},
     "output_type": "execute_result"
    }
   ],
   "source": [
    "# Find the model of K-Nearest Neighbors and fit it\n",
    "knmodel = KNeighborsClassifier(n_neighbors =5, weights='uniform')\n",
    "knmodel.fit(X_train, y_train)"
   ]
  },
  {
   "cell_type": "code",
   "execution_count": 23,
   "id": "c0214cdc",
   "metadata": {
    "id": "c0214cdc",
    "outputId": "d2432117-0ee8-4628-f072-489cea803ef2"
   },
   "outputs": [
    {
     "data": {
      "text/plain": [
       "9.94747426946139"
      ]
     },
     "execution_count": 23,
     "metadata": {},
     "output_type": "execute_result"
    }
   ],
   "source": [
    "# Predict using KNN\n",
    "y_pred = knmodel.predict(X_train)\n",
    "mse = mean_squared_error(y_train, y_pred)\n",
    "rmse = sqrt(mse)\n",
    "rmse"
   ]
  },
  {
   "cell_type": "markdown",
   "id": "73b518c0",
   "metadata": {
    "id": "73b518c0"
   },
   "source": [
    "### Confusion Matrix"
   ]
  },
  {
   "cell_type": "code",
   "execution_count": 24,
   "id": "f4525cc1",
   "metadata": {
    "id": "f4525cc1",
    "outputId": "829af026-1f7a-4f53-b6e0-b714ae962a94"
   },
   "outputs": [
    {
     "name": "stdout",
     "output_type": "stream",
     "text": [
      "[[ 347   23  126 ...    1    3    0]\n",
      " [  29  362   86 ...    1    5    0]\n",
      " [ 192   98 3836 ...    2    4    0]\n",
      " ...\n",
      " [  30   28  159 ...   27    6    0]\n",
      " [ 116   62  262 ...    2  204    3]\n",
      " [  34   30  153 ...    0    7   20]]\n"
     ]
    }
   ],
   "source": [
    "# To avoid the MemoryError, we change the dataset's type into a new lighter one\n",
    "y_test=y_test.astype(np.uint8)\n",
    "y_pred=y_pred.astype(np.uint8)\n",
    "\n",
    "# Print the confusion matrix\n",
    "confusion = metrics.confusion_matrix(y_train, y_pred)\n",
    "print(confusion)"
   ]
  },
  {
   "cell_type": "markdown",
   "id": "52902872",
   "metadata": {
    "id": "52902872"
   },
   "source": [
    "## Future Prediction"
   ]
  },
  {
   "cell_type": "markdown",
   "id": "d77b1533",
   "metadata": {
    "id": "d77b1533"
   },
   "source": [
    "### ARIMA"
   ]
  },
  {
   "cell_type": "markdown",
   "id": "4e732425",
   "metadata": {
    "id": "4e732425"
   },
   "source": [
    "Prediction of the number of activated contracts wiht Autoregressive integrated moving average model."
   ]
  },
  {
   "cell_type": "code",
   "execution_count": 25,
   "id": "60b6e335",
   "metadata": {
    "id": "60b6e335",
    "outputId": "74499a83-a9c9-4274-c6eb-b79dfb4afe55"
   },
   "outputs": [
    {
     "data": {
      "text/html": [
       "<div>\n",
       "<style scoped>\n",
       "    .dataframe tbody tr th:only-of-type {\n",
       "        vertical-align: middle;\n",
       "    }\n",
       "\n",
       "    .dataframe tbody tr th {\n",
       "        vertical-align: top;\n",
       "    }\n",
       "\n",
       "    .dataframe thead th {\n",
       "        text-align: right;\n",
       "    }\n",
       "</style>\n",
       "<table border=\"1\" class=\"dataframe\">\n",
       "  <thead>\n",
       "    <tr style=\"text-align: right;\">\n",
       "      <th></th>\n",
       "      <th>ETA</th>\n",
       "      <th>mese-anno</th>\n",
       "      <th>ANNO</th>\n",
       "      <th>nazionalita_transformed</th>\n",
       "      <th>contratto_transformed</th>\n",
       "      <th>genere_transformed</th>\n",
       "      <th>Output_transformed</th>\n",
       "    </tr>\n",
       "  </thead>\n",
       "  <tbody>\n",
       "    <tr>\n",
       "      <th>0</th>\n",
       "      <td>25</td>\n",
       "      <td>2014-11</td>\n",
       "      <td>2014</td>\n",
       "      <td>89</td>\n",
       "      <td>0</td>\n",
       "      <td>1</td>\n",
       "      <td>13966</td>\n",
       "    </tr>\n",
       "    <tr>\n",
       "      <th>1</th>\n",
       "      <td>46</td>\n",
       "      <td>2011-12</td>\n",
       "      <td>2011</td>\n",
       "      <td>89</td>\n",
       "      <td>0</td>\n",
       "      <td>0</td>\n",
       "      <td>13797</td>\n",
       "    </tr>\n",
       "    <tr>\n",
       "      <th>2</th>\n",
       "      <td>24</td>\n",
       "      <td>2016-01</td>\n",
       "      <td>2016</td>\n",
       "      <td>144</td>\n",
       "      <td>0</td>\n",
       "      <td>0</td>\n",
       "      <td>6674</td>\n",
       "    </tr>\n",
       "    <tr>\n",
       "      <th>3</th>\n",
       "      <td>38</td>\n",
       "      <td>2020-07</td>\n",
       "      <td>2020</td>\n",
       "      <td>89</td>\n",
       "      <td>0</td>\n",
       "      <td>1</td>\n",
       "      <td>26059</td>\n",
       "    </tr>\n",
       "    <tr>\n",
       "      <th>4</th>\n",
       "      <td>32</td>\n",
       "      <td>2012-05</td>\n",
       "      <td>2012</td>\n",
       "      <td>89</td>\n",
       "      <td>0</td>\n",
       "      <td>1</td>\n",
       "      <td>26698</td>\n",
       "    </tr>\n",
       "    <tr>\n",
       "      <th>...</th>\n",
       "      <td>...</td>\n",
       "      <td>...</td>\n",
       "      <td>...</td>\n",
       "      <td>...</td>\n",
       "      <td>...</td>\n",
       "      <td>...</td>\n",
       "      <td>...</td>\n",
       "    </tr>\n",
       "    <tr>\n",
       "      <th>2703939</th>\n",
       "      <td>26</td>\n",
       "      <td>2019-02</td>\n",
       "      <td>2019</td>\n",
       "      <td>89</td>\n",
       "      <td>1</td>\n",
       "      <td>1</td>\n",
       "      <td>18030</td>\n",
       "    </tr>\n",
       "    <tr>\n",
       "      <th>2703940</th>\n",
       "      <td>28</td>\n",
       "      <td>2014-09</td>\n",
       "      <td>2014</td>\n",
       "      <td>89</td>\n",
       "      <td>1</td>\n",
       "      <td>1</td>\n",
       "      <td>18031</td>\n",
       "    </tr>\n",
       "    <tr>\n",
       "      <th>2703941</th>\n",
       "      <td>33</td>\n",
       "      <td>2009-01</td>\n",
       "      <td>2009</td>\n",
       "      <td>89</td>\n",
       "      <td>1</td>\n",
       "      <td>0</td>\n",
       "      <td>18036</td>\n",
       "    </tr>\n",
       "    <tr>\n",
       "      <th>2703942</th>\n",
       "      <td>34</td>\n",
       "      <td>2021-08</td>\n",
       "      <td>2021</td>\n",
       "      <td>89</td>\n",
       "      <td>1</td>\n",
       "      <td>0</td>\n",
       "      <td>18031</td>\n",
       "    </tr>\n",
       "    <tr>\n",
       "      <th>2703943</th>\n",
       "      <td>34</td>\n",
       "      <td>2011-08</td>\n",
       "      <td>2011</td>\n",
       "      <td>89</td>\n",
       "      <td>1</td>\n",
       "      <td>0</td>\n",
       "      <td>18021</td>\n",
       "    </tr>\n",
       "  </tbody>\n",
       "</table>\n",
       "<p>2703944 rows × 7 columns</p>\n",
       "</div>"
      ],
      "text/plain": [
       "         ETA mese-anno  ANNO  nazionalita_transformed  contratto_transformed  \\\n",
       "0         25   2014-11  2014                       89                      0   \n",
       "1         46   2011-12  2011                       89                      0   \n",
       "2         24   2016-01  2016                      144                      0   \n",
       "3         38   2020-07  2020                       89                      0   \n",
       "4         32   2012-05  2012                       89                      0   \n",
       "...      ...       ...   ...                      ...                    ...   \n",
       "2703939   26   2019-02  2019                       89                      1   \n",
       "2703940   28   2014-09  2014                       89                      1   \n",
       "2703941   33   2009-01  2009                       89                      1   \n",
       "2703942   34   2021-08  2021                       89                      1   \n",
       "2703943   34   2011-08  2011                       89                      1   \n",
       "\n",
       "         genere_transformed  Output_transformed  \n",
       "0                         1               13966  \n",
       "1                         0               13797  \n",
       "2                         0                6674  \n",
       "3                         1               26059  \n",
       "4                         1               26698  \n",
       "...                     ...                 ...  \n",
       "2703939                   1               18030  \n",
       "2703940                   1               18031  \n",
       "2703941                   0               18036  \n",
       "2703942                   0               18031  \n",
       "2703943                   0               18021  \n",
       "\n",
       "[2703944 rows x 7 columns]"
      ]
     },
     "execution_count": 25,
     "metadata": {},
     "output_type": "execute_result"
    }
   ],
   "source": [
    "# Load the dataset\n",
    "balanced\n",
    "bal1 = balanced.copy()\n",
    "bal1 = bal1.reset_index(drop=True)\n",
    "bal1"
   ]
  },
  {
   "cell_type": "code",
   "execution_count": 26,
   "id": "f466e77c",
   "metadata": {
    "id": "f466e77c",
    "outputId": "49682c70-5b4d-4996-8ced-f0ae66b7d6d5"
   },
   "outputs": [
    {
     "data": {
      "image/png": "[encoded data removed]",
      "text/plain": [
       "<Figure size 1080x360 with 1 Axes>"
      ]
     },
     "metadata": {
      "needs_background": "light"
     },
     "output_type": "display_data"
    }
   ],
   "source": [
    "# Set mese-anno like index\n",
    "# Show count of contract for each mese-anno\n",
    "bal2 = bal1.groupby(\"mese-anno\").size().reset_index(name='count')\n",
    "bal2 = bal2.set_index('mese-anno')\n",
    "f, ax1 = plt.subplots(1,1,figsize=(15,5))\n",
    "bal2.plot(ax=ax1)\n",
    "ax1.set_xlabel(\"time\")\n",
    "ax1.set_ylabel(\"Number of Contracts\")\n",
    "plt.grid(True)"
   ]
  },
  {
   "cell_type": "code",
   "execution_count": 27,
   "id": "e7eb2823",
   "metadata": {
    "id": "e7eb2823",
    "outputId": "3deb49fd-00d5-4378-e5b9-9200d3af9f99"
   },
   "outputs": [
    {
     "name": "stdout",
     "output_type": "stream",
     "text": [
      "ADF Statistic: -4.621934\n",
      "p-value: 0.000118\n"
     ]
    }
   ],
   "source": [
    "# Calculate the Augmented Dickey-Fuller test can be used to test for a unit root in a univariate \n",
    "#process in the presence of serial correlation.\n",
    "results = adfuller(bal2['count'])\n",
    "print('ADF Statistic: %f' % results[0])\n",
    "print('p-value: %f' % results[1])"
   ]
  },
  {
   "cell_type": "code",
   "execution_count": 28,
   "id": "ec71bba4",
   "metadata": {
    "id": "ec71bba4",
    "outputId": "b8b1bb1f-33dd-493b-9648-a952a18a6d64"
   },
   "outputs": [
    {
     "data": {
      "image/png": "[encoded data removed]",
      "text/plain": [
       "<Figure size 1080x576 with 4 Axes>"
      ]
     },
     "metadata": {
      "needs_background": "light"
     },
     "output_type": "display_data"
    }
   ],
   "source": [
    "# Show seasonality and trend\n",
    "plt.rcParams['figure.figsize'] = 20, 10\n",
    "# Additive decomposition\n",
    "decomposed_add = seasonal_decompose(bal2, model=\"additive\", period=5)\n",
    "\n",
    "fig, ax = plt.subplots(4, 1, figsize=(15, 8))\n",
    "# Plot the series\n",
    "decomposed_add.observed.plot(ax = ax[0])\n",
    "decomposed_add.trend.plot(ax = ax[1])\n",
    "decomposed_add.seasonal.plot(ax = ax[2])\n",
    "decomposed_add.resid.plot(ax = ax[3])\n",
    "# Add the labels to the Y-axis\n",
    "ax[0].set_ylabel('')\n",
    "ax[1].set_ylabel('Trend')\n",
    "ax[2].set_ylabel('Seasonal')\n",
    "ax[3].set_ylabel('Residual')\n",
    "\n",
    "plt.tight_layout()\n",
    "plt.show()"
   ]
  },
  {
   "cell_type": "code",
   "execution_count": 29,
   "id": "f356b208",
   "metadata": {
    "id": "f356b208",
    "outputId": "20b9b50d-d7f5-407b-e525-4ac1e9facb9f"
   },
   "outputs": [
    {
     "data": {
      "image/png": "[encoded data removed]",
      "text/plain": [
       "<Figure size 864x360 with 1 Axes>"
      ]
     },
     "metadata": {
      "needs_background": "light"
     },
     "output_type": "display_data"
    }
   ],
   "source": [
    "# Calculate differential\n",
    "bal_diff = bal2['count'].diff().dropna()\n",
    "plt.figure(figsize=(12,5))\n",
    "ax1 = bal_diff.plot()\n",
    "ax1.set_xlabel(\"Anno\")\n",
    "ax1.set_ylabel(\"diff\")\n",
    "plt.grid(True)\n",
    "plt.show()"
   ]
  },
  {
   "cell_type": "code",
   "execution_count": 30,
   "id": "ac66bba3",
   "metadata": {
    "id": "ac66bba3",
    "outputId": "99bd4170-9067-4077-98a7-510280b3decd"
   },
   "outputs": [
    {
     "name": "stdout",
     "output_type": "stream",
     "text": [
      "ADF Statistic: -2.966888\n",
      "p-value: 0.038105\n"
     ]
    }
   ],
   "source": [
    "# Calculate the Augmented Dickey-Fuller test\n",
    "\n",
    "results = adfuller(bal_diff)\n",
    "print('ADF Statistic: %f' % results[0])\n",
    "print('p-value: %f' % results[1])"
   ]
  },
  {
   "cell_type": "code",
   "execution_count": 31,
   "id": "8f5dbf6f",
   "metadata": {
    "id": "8f5dbf6f",
    "outputId": "2e302080-6f73-4961-84f5-31d4a3853249"
   },
   "outputs": [
    {
     "name": "stdout",
     "output_type": "stream",
     "text": [
      "ADF Statistic: -7.803319\n",
      "P-value of a test is: 7.393489604572998e-12\n"
     ]
    }
   ],
   "source": [
    "# Calculate the Augmented Dickey-Fuller test\n",
    "results = adfuller(bal2['count'].diff().diff().dropna())\n",
    "print('ADF Statistic: %f' % results[0])\n",
    "print(\"P-value of a test is: {}\".format(results[1]))"
   ]
  },
  {
   "cell_type": "code",
   "execution_count": 32,
   "id": "f73655c5",
   "metadata": {
    "id": "f73655c5",
    "outputId": "64c9b05b-9487-46d7-e533-988aace9caea"
   },
   "outputs": [
    {
     "data": {
      "image/png": "[encoded data removed]",
      "text/plain": [
       "<Figure size 1440x720 with 2 Axes>"
      ]
     },
     "metadata": {
      "needs_background": "light"
     },
     "output_type": "display_data"
    }
   ],
   "source": [
    "# Show autocorrelation and partial correlation\n",
    "fig,ax = plt.subplots(2,1,figsize=(20,10))\n",
    "plot_acf(bal_diff, lags=4, ax=ax[0])\n",
    "plot_pacf(bal_diff, lags=4, ax=ax[1])\n",
    "plt.show()"
   ]
  },
  {
   "cell_type": "code",
   "execution_count": 33,
   "id": "ad451d03",
   "metadata": {
    "id": "ad451d03",
    "outputId": "03763c22-86fc-4564-d850-fcc2a0627184"
   },
   "outputs": [
    {
     "data": {
      "text/html": [
       "<div>\n",
       "<style scoped>\n",
       "    .dataframe tbody tr th:only-of-type {\n",
       "        vertical-align: middle;\n",
       "    }\n",
       "\n",
       "    .dataframe tbody tr th {\n",
       "        vertical-align: top;\n",
       "    }\n",
       "\n",
       "    .dataframe thead th {\n",
       "        text-align: right;\n",
       "    }\n",
       "</style>\n",
       "<table border=\"1\" class=\"dataframe\">\n",
       "  <thead>\n",
       "    <tr style=\"text-align: right;\">\n",
       "      <th></th>\n",
       "      <th>p</th>\n",
       "      <th>q</th>\n",
       "      <th>aic</th>\n",
       "      <th>bic</th>\n",
       "      <th>sum_aic_bic</th>\n",
       "    </tr>\n",
       "  </thead>\n",
       "  <tbody>\n",
       "  </tbody>\n",
       "</table>\n",
       "</div>"
      ],
      "text/plain": [
       "Empty DataFrame\n",
       "Columns: [p, q, aic, bic, sum_aic_bic]\n",
       "Index: []"
      ]
     },
     "execution_count": 33,
     "metadata": {},
     "output_type": "execute_result"
    }
   ],
   "source": [
    "# Search p and q values\n",
    "\n",
    "arima_df = pd.DataFrame(columns=[\"p\",\"q\",\"aic\",\"bic\"])\n",
    "\n",
    "i=0\n",
    "# Loop over p values from 0-5\n",
    "for p in range(4):\n",
    "    # Loop over q values from 0-5\n",
    "    for q in range(4):\n",
    "        \n",
    "        try:\n",
    "            # creating and fitting ARIMA(p,1,q) model\n",
    "            model = ARIMA(bal2['count'].astype(float), order=(p,1,q))\n",
    "            results = model.fit()\n",
    "            \n",
    "            # Printing order, AIC and BIC\n",
    "            #print(p, q, results.aic, results.bic)\n",
    "            arima_df.loc[i,\"p\"] = p\n",
    "            arima_df.loc[i,\"q\"] = q\n",
    "            arima_df.loc[i,\"aic\"] = results.aic\n",
    "            arima_df.loc[i,\"bic\"] = results.bic\n",
    "            i = i+1\n",
    "        except:\n",
    "            #print(p, q, None, None)\n",
    "            i = i+1\n",
    "    \n",
    "arima_df[\"sum_aic_bic\"] = arima_df[\"aic\"]+arima_df[\"bic\"]\n",
    "arima_df.sort_values(by=\"aic\", ascending=False, inplace=True)\n",
    "arima_df"
   ]
  },
  {
   "cell_type": "markdown",
   "id": "8fbba6e1",
   "metadata": {
    "id": "8fbba6e1"
   },
   "source": [
    "Best AIC value with p=3 and q=3"
   ]
  },
  {
   "cell_type": "code",
   "execution_count": 34,
   "id": "0c434e3a",
   "metadata": {
    "id": "0c434e3a",
    "outputId": "55a726f3-6051-4f8b-9ea5-a4e9c310f97c"
   },
   "outputs": [
    {
     "data": {
      "text/html": [
       "<table class=\"simpletable\">\n",
       "<caption>SARIMAX Results</caption>\n",
       "<tr>\n",
       "  <th>Dep. Variable:</th>                <td>count</td>             <th>  No. Observations:  </th>    <td>173</td>   \n",
       "</tr>\n",
       "<tr>\n",
       "  <th>Model:</th>           <td>SARIMAX(3, 1, 3)x(0, 1, [], 6)</td> <th>  Log Likelihood     </th> <td>-1594.211</td>\n",
       "</tr>\n",
       "<tr>\n",
       "  <th>Date:</th>                   <td>Fri, 20 May 2022</td>        <th>  AIC                </th> <td>3202.422</td> \n",
       "</tr>\n",
       "<tr>\n",
       "  <th>Time:</th>                       <td>14:56:32</td>            <th>  BIC                </th> <td>3224.206</td> \n",
       "</tr>\n",
       "<tr>\n",
       "  <th>Sample:</th>                         <td>0</td>               <th>  HQIC               </th> <td>3211.264</td> \n",
       "</tr>\n",
       "<tr>\n",
       "  <th></th>                             <td> - 173</td>             <th>                     </th>     <td> </td>    \n",
       "</tr>\n",
       "<tr>\n",
       "  <th>Covariance Type:</th>               <td>opg</td>              <th>                     </th>     <td> </td>    \n",
       "</tr>\n",
       "</table>\n",
       "<table class=\"simpletable\">\n",
       "<tr>\n",
       "     <td></td>       <th>coef</th>     <th>std err</th>      <th>z</th>      <th>P>|z|</th>  <th>[0.025</th>    <th>0.975]</th>  \n",
       "</tr>\n",
       "<tr>\n",
       "  <th>ar.L1</th>  <td>   -0.6117</td> <td>    0.133</td> <td>   -4.591</td> <td> 0.000</td> <td>   -0.873</td> <td>   -0.351</td>\n",
       "</tr>\n",
       "<tr>\n",
       "  <th>ar.L2</th>  <td>   -0.8416</td> <td>    0.103</td> <td>   -8.144</td> <td> 0.000</td> <td>   -1.044</td> <td>   -0.639</td>\n",
       "</tr>\n",
       "<tr>\n",
       "  <th>ar.L3</th>  <td>   -0.1047</td> <td>    0.125</td> <td>   -0.835</td> <td> 0.404</td> <td>   -0.350</td> <td>    0.141</td>\n",
       "</tr>\n",
       "<tr>\n",
       "  <th>ma.L1</th>  <td>    0.1415</td> <td>    0.086</td> <td>    1.637</td> <td> 0.102</td> <td>   -0.028</td> <td>    0.311</td>\n",
       "</tr>\n",
       "<tr>\n",
       "  <th>ma.L2</th>  <td>    0.2026</td> <td>    0.078</td> <td>    2.602</td> <td> 0.009</td> <td>    0.050</td> <td>    0.355</td>\n",
       "</tr>\n",
       "<tr>\n",
       "  <th>ma.L3</th>  <td>   -0.7853</td> <td>    0.082</td> <td>   -9.592</td> <td> 0.000</td> <td>   -0.946</td> <td>   -0.625</td>\n",
       "</tr>\n",
       "<tr>\n",
       "  <th>sigma2</th> <td> 1.564e+07</td> <td> 1.48e-09</td> <td> 1.05e+16</td> <td> 0.000</td> <td> 1.56e+07</td> <td> 1.56e+07</td>\n",
       "</tr>\n",
       "</table>\n",
       "<table class=\"simpletable\">\n",
       "<tr>\n",
       "  <th>Ljung-Box (L1) (Q):</th>     <td>0.05</td> <th>  Jarque-Bera (JB):  </th> <td>2.20</td>\n",
       "</tr>\n",
       "<tr>\n",
       "  <th>Prob(Q):</th>                <td>0.82</td> <th>  Prob(JB):          </th> <td>0.33</td>\n",
       "</tr>\n",
       "<tr>\n",
       "  <th>Heteroskedasticity (H):</th> <td>0.79</td> <th>  Skew:              </th> <td>0.08</td>\n",
       "</tr>\n",
       "<tr>\n",
       "  <th>Prob(H) (two-sided):</th>    <td>0.38</td> <th>  Kurtosis:          </th> <td>3.54</td>\n",
       "</tr>\n",
       "</table><br/><br/>Warnings:<br/>[1] Covariance matrix calculated using the outer product of gradients (complex-step).<br/>[2] Covariance matrix is singular or near-singular, with condition number 9.19e+32. Standard errors may be unstable."
      ],
      "text/plain": [
       "<class 'statsmodels.iolib.summary.Summary'>\n",
       "\"\"\"\n",
       "                                     SARIMAX Results                                      \n",
       "==========================================================================================\n",
       "Dep. Variable:                              count   No. Observations:                  173\n",
       "Model:             SARIMAX(3, 1, 3)x(0, 1, [], 6)   Log Likelihood               -1594.211\n",
       "Date:                            Fri, 20 May 2022   AIC                           3202.422\n",
       "Time:                                    14:56:32   BIC                           3224.206\n",
       "Sample:                                         0   HQIC                          3211.264\n",
       "                                            - 173                                         \n",
       "Covariance Type:                              opg                                         \n",
       "==============================================================================\n",
       "                 coef    std err          z      P>|z|      [0.025      0.975]\n",
       "------------------------------------------------------------------------------\n",
       "ar.L1         -0.6117      0.133     -4.591      0.000      -0.873      -0.351\n",
       "ar.L2         -0.8416      0.103     -8.144      0.000      -1.044      -0.639\n",
       "ar.L3         -0.1047      0.125     -0.835      0.404      -0.350       0.141\n",
       "ma.L1          0.1415      0.086      1.637      0.102      -0.028       0.311\n",
       "ma.L2          0.2026      0.078      2.602      0.009       0.050       0.355\n",
       "ma.L3         -0.7853      0.082     -9.592      0.000      -0.946      -0.625\n",
       "sigma2      1.564e+07   1.48e-09   1.05e+16      0.000    1.56e+07    1.56e+07\n",
       "===================================================================================\n",
       "Ljung-Box (L1) (Q):                   0.05   Jarque-Bera (JB):                 2.20\n",
       "Prob(Q):                              0.82   Prob(JB):                         0.33\n",
       "Heteroskedasticity (H):               0.79   Skew:                             0.08\n",
       "Prob(H) (two-sided):                  0.38   Kurtosis:                         3.54\n",
       "===================================================================================\n",
       "\n",
       "Warnings:\n",
       "[1] Covariance matrix calculated using the outer product of gradients (complex-step).\n",
       "[2] Covariance matrix is singular or near-singular, with condition number 9.19e+32. Standard errors may be unstable.\n",
       "\"\"\""
      ]
     },
     "execution_count": 34,
     "metadata": {},
     "output_type": "execute_result"
    }
   ],
   "source": [
    "# Compute the model\n",
    "model2 = SARIMAX(bal2, order=(3,1,3), seasonal_order=(0,1,0,6))\n",
    "results = model2.fit()\n",
    "results.summary()"
   ]
  },
  {
   "cell_type": "code",
   "execution_count": 35,
   "id": "6dff1f56",
   "metadata": {
    "id": "6dff1f56",
    "outputId": "38f5bfea-8c32-4f41-ab8e-b077d368c601"
   },
   "outputs": [
    {
     "data": {
      "image/png": "[encoded data removed]",
      "text/plain": [
       "<Figure size 864x576 with 4 Axes>"
      ]
     },
     "metadata": {
      "needs_background": "light"
     },
     "output_type": "display_data"
    }
   ],
   "source": [
    "# Show ---\n",
    "plt.rcParams['figure.figsize'] = 12, 8\n",
    "plot = results.plot_diagnostics()"
   ]
  },
  {
   "cell_type": "code",
   "execution_count": 36,
   "id": "76cbdd59",
   "metadata": {
    "id": "76cbdd59",
    "outputId": "660b7a98-dace-4779-c288-4400eb836c25"
   },
   "outputs": [
    {
     "data": {
      "image/png": "[encoded data removed]",
      "text/plain": [
       "<Figure size 1440x720 with 1 Axes>"
      ]
     },
     "metadata": {
      "needs_background": "light"
     },
     "output_type": "display_data"
    }
   ],
   "source": [
    "# Prediction of the future\n",
    "\n",
    "# Create SARIMA mean forecast\n",
    "forecast = results.get_forecast(steps=30)\n",
    "lower = forecast.conf_int()[\"lower count\"]\n",
    "upper = forecast.conf_int()[\"upper count\"]\n",
    "\n",
    "# Plot mean SARIMA predictions\n",
    "fig,ax = plt.subplots(1,1,figsize=(20,10))\n",
    "\n",
    "plt.plot(bal2, label='original')\n",
    "plt.plot(forecast.predicted_mean, label='SARIMAX', c=\"r\")\n",
    "\n",
    "plt.xticks(bal2.index.unique())\n",
    "plt.locator_params(axis='x', nbins=10)\n",
    "\n",
    "plt.xlabel('time')\n",
    "plt.ylabel('Number of contracts')\n",
    "plt.legend()\n",
    "plt.show()"
   ]
  },
  {
   "cell_type": "markdown",
   "id": "18ff135f",
   "metadata": {
    "id": "18ff135f"
   },
   "source": [
    "## Model Validation"
   ]
  },
  {
   "cell_type": "markdown",
   "id": "d8ab921b",
   "metadata": {
    "id": "d8ab921b"
   },
   "source": [
    "### Featuring engineering"
   ]
  },
  {
   "cell_type": "code",
   "execution_count": 37,
   "id": "8c10aedc",
   "metadata": {
    "id": "8c10aedc"
   },
   "outputs": [],
   "source": [
    "# Featuring engineering\n",
    "# Lag features and Shift index\n",
    "for i in range(1,3):\n",
    "    lag_i = 'lag_' + str(i)\n",
    "    bal2[lag_i] = bal2['count'].shift(i)\n",
    "    \n",
    "# Rolling window\n",
    "bal2['rolling_mean'] = bal2['count'].rolling(window=2).mean()\n",
    "bal2['rolling_max'] = bal2['count'].rolling(window=2).max()\n",
    "bal2['rolling_min'] = bal2['count'].rolling(window=2).min()"
   ]
  },
  {
   "cell_type": "markdown",
   "id": "e952d4e5",
   "metadata": {
    "id": "e952d4e5"
   },
   "source": [
    "### Correlation Feature"
   ]
  },
  {
   "cell_type": "code",
   "execution_count": 38,
   "id": "db2d9775",
   "metadata": {
    "id": "db2d9775",
    "outputId": "efe1132c-92b7-4bbb-e947-aa3ae230451b"
   },
   "outputs": [
    {
     "data": {
      "text/plain": [
       "<AxesSubplot:>"
      ]
     },
     "execution_count": 38,
     "metadata": {},
     "output_type": "execute_result"
    },
    {
     "data": {
      "image/png": "[encoded data removed]",
      "text/plain": [
       "<Figure size 432x288 with 2 Axes>"
      ]
     },
     "metadata": {
      "needs_background": "light"
     },
     "output_type": "display_data"
    }
   ],
   "source": [
    "corr = bal2.corr()\n",
    "fig = plt.figure(figsize=(6,4))\n",
    "sns.heatmap(corr, linewidths=.5)"
   ]
  },
  {
   "cell_type": "code",
   "execution_count": 39,
   "id": "b8016599",
   "metadata": {
    "id": "b8016599",
    "outputId": "1df7ebc7-7a60-4b22-d99d-d78925882406"
   },
   "outputs": [
    {
     "name": "stdout",
     "output_type": "stream",
     "text": [
      "Shape: (173, 4)\n"
     ]
    },
    {
     "data": {
      "text/html": [
       "<div>\n",
       "<style scoped>\n",
       "    .dataframe tbody tr th:only-of-type {\n",
       "        vertical-align: middle;\n",
       "    }\n",
       "\n",
       "    .dataframe tbody tr th {\n",
       "        vertical-align: top;\n",
       "    }\n",
       "\n",
       "    .dataframe thead th {\n",
       "        text-align: right;\n",
       "    }\n",
       "</style>\n",
       "<table border=\"1\" class=\"dataframe\">\n",
       "  <thead>\n",
       "    <tr style=\"text-align: right;\">\n",
       "      <th></th>\n",
       "      <th>rolling_mean</th>\n",
       "      <th>rolling_max</th>\n",
       "      <th>rolling_min</th>\n",
       "      <th>count</th>\n",
       "    </tr>\n",
       "    <tr>\n",
       "      <th>mese-anno</th>\n",
       "      <th></th>\n",
       "      <th></th>\n",
       "      <th></th>\n",
       "      <th></th>\n",
       "    </tr>\n",
       "  </thead>\n",
       "  <tbody>\n",
       "    <tr>\n",
       "      <th>2007-02</th>\n",
       "      <td>NaN</td>\n",
       "      <td>NaN</td>\n",
       "      <td>NaN</td>\n",
       "      <td>2</td>\n",
       "    </tr>\n",
       "    <tr>\n",
       "      <th>2007-04</th>\n",
       "      <td>1.5</td>\n",
       "      <td>2.0</td>\n",
       "      <td>1.0</td>\n",
       "      <td>1</td>\n",
       "    </tr>\n",
       "    <tr>\n",
       "      <th>2007-06</th>\n",
       "      <td>1.0</td>\n",
       "      <td>1.0</td>\n",
       "      <td>1.0</td>\n",
       "      <td>1</td>\n",
       "    </tr>\n",
       "    <tr>\n",
       "      <th>2007-10</th>\n",
       "      <td>1.0</td>\n",
       "      <td>1.0</td>\n",
       "      <td>1.0</td>\n",
       "      <td>1</td>\n",
       "    </tr>\n",
       "    <tr>\n",
       "      <th>2007-11</th>\n",
       "      <td>1.0</td>\n",
       "      <td>1.0</td>\n",
       "      <td>1.0</td>\n",
       "      <td>1</td>\n",
       "    </tr>\n",
       "  </tbody>\n",
       "</table>\n",
       "</div>"
      ],
      "text/plain": [
       "           rolling_mean  rolling_max  rolling_min  count\n",
       "mese-anno                                               \n",
       "2007-02             NaN          NaN          NaN      2\n",
       "2007-04             1.5          2.0          1.0      1\n",
       "2007-06             1.0          1.0          1.0      1\n",
       "2007-10             1.0          1.0          1.0      1\n",
       "2007-11             1.0          1.0          1.0      1"
      ]
     },
     "execution_count": 39,
     "metadata": {},
     "output_type": "execute_result"
    }
   ],
   "source": [
    "# Inference: count is less correlated with lag_1 and lag_2. Hence removing them from dataset.\n",
    "bal2 = bal2[[\"rolling_mean\",\"rolling_max\", \"rolling_min\", \"count\"]]\n",
    "print('Shape:', bal2.shape)\n",
    "bal2.head()"
   ]
  },
  {
   "cell_type": "code",
   "execution_count": 40,
   "id": "ac4c6c59",
   "metadata": {
    "id": "ac4c6c59",
    "outputId": "a886d6bf-b1d0-4291-9708-905767f508dc"
   },
   "outputs": [
    {
     "data": {
      "text/html": [
       "<div>\n",
       "<style scoped>\n",
       "    .dataframe tbody tr th:only-of-type {\n",
       "        vertical-align: middle;\n",
       "    }\n",
       "\n",
       "    .dataframe tbody tr th {\n",
       "        vertical-align: top;\n",
       "    }\n",
       "\n",
       "    .dataframe thead th {\n",
       "        text-align: right;\n",
       "    }\n",
       "</style>\n",
       "<table border=\"1\" class=\"dataframe\">\n",
       "  <thead>\n",
       "    <tr style=\"text-align: right;\">\n",
       "      <th></th>\n",
       "      <th>rolling_mean</th>\n",
       "      <th>rolling_max</th>\n",
       "      <th>rolling_min</th>\n",
       "      <th>count</th>\n",
       "    </tr>\n",
       "    <tr>\n",
       "      <th>mese-anno</th>\n",
       "      <th></th>\n",
       "      <th></th>\n",
       "      <th></th>\n",
       "      <th></th>\n",
       "    </tr>\n",
       "  </thead>\n",
       "  <tbody>\n",
       "    <tr>\n",
       "      <th>2007-02</th>\n",
       "      <td>15677.985465</td>\n",
       "      <td>16997.05814</td>\n",
       "      <td>14358.912791</td>\n",
       "      <td>2</td>\n",
       "    </tr>\n",
       "    <tr>\n",
       "      <th>2007-04</th>\n",
       "      <td>1.500000</td>\n",
       "      <td>2.00000</td>\n",
       "      <td>1.000000</td>\n",
       "      <td>1</td>\n",
       "    </tr>\n",
       "    <tr>\n",
       "      <th>2007-06</th>\n",
       "      <td>1.000000</td>\n",
       "      <td>1.00000</td>\n",
       "      <td>1.000000</td>\n",
       "      <td>1</td>\n",
       "    </tr>\n",
       "    <tr>\n",
       "      <th>2007-10</th>\n",
       "      <td>1.000000</td>\n",
       "      <td>1.00000</td>\n",
       "      <td>1.000000</td>\n",
       "      <td>1</td>\n",
       "    </tr>\n",
       "    <tr>\n",
       "      <th>2007-11</th>\n",
       "      <td>1.000000</td>\n",
       "      <td>1.00000</td>\n",
       "      <td>1.000000</td>\n",
       "      <td>1</td>\n",
       "    </tr>\n",
       "  </tbody>\n",
       "</table>\n",
       "</div>"
      ],
      "text/plain": [
       "           rolling_mean  rolling_max   rolling_min  count\n",
       "mese-anno                                                \n",
       "2007-02    15677.985465  16997.05814  14358.912791      2\n",
       "2007-04        1.500000      2.00000      1.000000      1\n",
       "2007-06        1.000000      1.00000      1.000000      1\n",
       "2007-10        1.000000      1.00000      1.000000      1\n",
       "2007-11        1.000000      1.00000      1.000000      1"
      ]
     },
     "execution_count": 40,
     "metadata": {},
     "output_type": "execute_result"
    }
   ],
   "source": [
    "# Fill NaN values with mean value\n",
    "bal2.fillna(bal2.mean(), inplace = True)\n",
    "bal2.head()"
   ]
  },
  {
   "cell_type": "code",
   "execution_count": 41,
   "id": "f4ee6cb8",
   "metadata": {
    "id": "f4ee6cb8",
    "outputId": "c8b01a51-20dc-46bd-9ccd-2517991dafd5"
   },
   "outputs": [
    {
     "data": {
      "text/plain": [
       "(173, 4)"
      ]
     },
     "execution_count": 41,
     "metadata": {},
     "output_type": "execute_result"
    }
   ],
   "source": [
    "# Show the dimension of the dataset to calculate the train and the test\n",
    "bal2.shape"
   ]
  },
  {
   "cell_type": "code",
   "execution_count": 42,
   "id": "8d634b9e",
   "metadata": {
    "id": "8d634b9e",
    "outputId": "dbc19783-7a2c-4404-88cd-1b6ae02dd439"
   },
   "outputs": [
    {
     "name": "stdout",
     "output_type": "stream",
     "text": [
      "Total records in dataset: 173\n",
      "Total records in Training set: 138\n",
      "Total records in Test set: 35\n"
     ]
    }
   ],
   "source": [
    "# Split the time series data (Train-80, Test-20)\n",
    "print('Total records in dataset:', len(bal2))\n",
    "contract_train = bal2.iloc[0:138]               \n",
    "contract_test = bal2.iloc[138:]\n",
    "\n",
    "contract_pred_train = bal2.iloc[0:138]               \n",
    "contract_pred_test = bal2.iloc[138:]\n",
    "print('Total records in Training set:', len(contract_train))\n",
    "print('Total records in Test set:', len(contract_test))"
   ]
  },
  {
   "cell_type": "code",
   "execution_count": 43,
   "id": "c8377ff8",
   "metadata": {
    "id": "c8377ff8",
    "outputId": "beded091-e7aa-48c9-ee84-89d0e85593ca"
   },
   "outputs": [
    {
     "data": {
      "image/png": "[encoded data removed]",
      "text/plain": [
       "<Figure size 864x576 with 1 Axes>"
      ]
     },
     "metadata": {
      "needs_background": "light"
     },
     "output_type": "display_data"
    }
   ],
   "source": [
    "# Plot train and test sets\n",
    "plt.plot(contract_train['count'],label='TRAIN (80%)')\n",
    "plt.plot(contract_test['count'], label='TEST(20%)')\n",
    "plt.legend(loc='best')\n",
    "plt.xlabel('date')\n",
    "plt.ylabel('count')\n",
    "plt.title('Train and Test set')\n",
    "plt.xticks(bal2.index.unique())\n",
    "plt.locator_params(axis='x', nbins=10)\n",
    "plt.show()"
   ]
  },
  {
   "cell_type": "code",
   "execution_count": 44,
   "id": "5683de0a",
   "metadata": {
    "id": "5683de0a"
   },
   "outputs": [],
   "source": [
    "# Delete the feature to predict\n",
    "X_train = contract_train.drop(['count'], axis=1)\n",
    "y_train = contract_train['count'].values\n",
    "\n",
    "X_test = contract_test.drop(['count'], axis=1)\n",
    "y_test = contract_test['count'].values"
   ]
  },
  {
   "cell_type": "code",
   "execution_count": 45,
   "id": "97e8af30",
   "metadata": {
    "id": "97e8af30"
   },
   "outputs": [],
   "source": [
    "# Delete the feature to predict\n",
    "X_pred_train = contract_pred_train.drop(['count'], axis=1)\n",
    "y_pred_train = contract_pred_train['count'].values\n",
    "\n",
    "X_pred_test = contract_pred_test.drop(['count'], axis=1)\n",
    "y_pred_test = contract_pred_test['count'].values"
   ]
  },
  {
   "cell_type": "markdown",
   "id": "c9ba4c63",
   "metadata": {
    "id": "c9ba4c63"
   },
   "source": [
    "### Holt winter"
   ]
  },
  {
   "cell_type": "markdown",
   "id": "a0cda63f",
   "metadata": {
    "id": "a0cda63f"
   },
   "source": [
    "Holt-Winters forecasting is a way to model and predict the behavior of a sequence of values over time—a time series.\n",
    "Holt-Winters is a way to model three aspects of the time series: a typical value (average), a slope (trend) over time, and a cyclical repeating pattern (seasonality)."
   ]
  },
  {
   "cell_type": "code",
   "execution_count": 46,
   "id": "da26a68e",
   "metadata": {
    "id": "da26a68e"
   },
   "outputs": [],
   "source": [
    "# Modeling the simple exponential smoothing\n",
    "ses_model = SimpleExpSmoothing(contract_train['count']).fit(smoothing_level=0.3)\n",
    "ses_preds = ses_model.forecast(steps = 35) "
   ]
  },
  {
   "cell_type": "code",
   "execution_count": 47,
   "id": "542d38ab",
   "metadata": {
    "id": "542d38ab"
   },
   "outputs": [],
   "source": [
    "# Calculate the errors\n",
    "ses_errors_df = contract_test[['count']]\n",
    "ses_errors_df['Predicted_Count'] = ses_preds.values\n",
    "ses_errors_df['Error'] = ses_preds.values - y_test\n",
    "ses_errors_df.insert(0, 'Modelname', 'Holtman- SES')"
   ]
  },
  {
   "cell_type": "code",
   "execution_count": 48,
   "id": "846decfb",
   "metadata": {
    "id": "846decfb"
   },
   "outputs": [],
   "source": [
    "# Modeling the double exponential smoothing\n",
    "double_model = ExponentialSmoothing(contract_train['count'],trend='add').fit()\n",
    "doublemodel_preds = double_model.forecast(35).rename('DES Forecast')"
   ]
  },
  {
   "cell_type": "code",
   "execution_count": 49,
   "id": "cb09203f",
   "metadata": {
    "id": "cb09203f",
    "outputId": "15bfc906-cab7-4bcc-e0d4-079d2022bba7"
   },
   "outputs": [
    {
     "data": {
      "text/html": [
       "<div>\n",
       "<style scoped>\n",
       "    .dataframe tbody tr th:only-of-type {\n",
       "        vertical-align: middle;\n",
       "    }\n",
       "\n",
       "    .dataframe tbody tr th {\n",
       "        vertical-align: top;\n",
       "    }\n",
       "\n",
       "    .dataframe thead th {\n",
       "        text-align: right;\n",
       "    }\n",
       "</style>\n",
       "<table border=\"1\" class=\"dataframe\">\n",
       "  <thead>\n",
       "    <tr style=\"text-align: right;\">\n",
       "      <th></th>\n",
       "      <th>Modelname</th>\n",
       "      <th>count</th>\n",
       "      <th>Predicted_Count</th>\n",
       "      <th>Error</th>\n",
       "    </tr>\n",
       "    <tr>\n",
       "      <th>mese-anno</th>\n",
       "      <th></th>\n",
       "      <th></th>\n",
       "      <th></th>\n",
       "      <th></th>\n",
       "    </tr>\n",
       "  </thead>\n",
       "  <tbody>\n",
       "    <tr>\n",
       "      <th>2019-02</th>\n",
       "      <td>Holtman- DES</td>\n",
       "      <td>19251</td>\n",
       "      <td>19209.132077</td>\n",
       "      <td>-41.867923</td>\n",
       "    </tr>\n",
       "    <tr>\n",
       "      <th>2019-03</th>\n",
       "      <td>Holtman- DES</td>\n",
       "      <td>21004</td>\n",
       "      <td>19230.197535</td>\n",
       "      <td>-1773.802465</td>\n",
       "    </tr>\n",
       "    <tr>\n",
       "      <th>2019-04</th>\n",
       "      <td>Holtman- DES</td>\n",
       "      <td>26785</td>\n",
       "      <td>19251.262992</td>\n",
       "      <td>-7533.737008</td>\n",
       "    </tr>\n",
       "    <tr>\n",
       "      <th>2019-05</th>\n",
       "      <td>Holtman- DES</td>\n",
       "      <td>20982</td>\n",
       "      <td>19272.328450</td>\n",
       "      <td>-1709.671550</td>\n",
       "    </tr>\n",
       "    <tr>\n",
       "      <th>2019-06</th>\n",
       "      <td>Holtman- DES</td>\n",
       "      <td>19182</td>\n",
       "      <td>19293.393908</td>\n",
       "      <td>111.393908</td>\n",
       "    </tr>\n",
       "  </tbody>\n",
       "</table>\n",
       "</div>"
      ],
      "text/plain": [
       "              Modelname  count  Predicted_Count        Error\n",
       "mese-anno                                                   \n",
       "2019-02    Holtman- DES  19251     19209.132077   -41.867923\n",
       "2019-03    Holtman- DES  21004     19230.197535 -1773.802465\n",
       "2019-04    Holtman- DES  26785     19251.262992 -7533.737008\n",
       "2019-05    Holtman- DES  20982     19272.328450 -1709.671550\n",
       "2019-06    Holtman- DES  19182     19293.393908   111.393908"
      ]
     },
     "execution_count": 49,
     "metadata": {},
     "output_type": "execute_result"
    }
   ],
   "source": [
    "# Calculate the errors\n",
    "des_errors_df = contract_test[['count']]\n",
    "des_errors_df['Predicted_Count'] = doublemodel_preds.values\n",
    "des_errors_df['Error'] = doublemodel_preds.values - y_test\n",
    "des_errors_df.insert(0, 'Modelname', 'Holtman- DES')\n",
    "des_errors_df.head()"
   ]
  },
  {
   "cell_type": "code",
   "execution_count": 50,
   "id": "c5cf8dc8",
   "metadata": {
    "id": "c5cf8dc8"
   },
   "outputs": [
    {
     "ename": "ValueError",
     "evalue": "use_boxcox was set at model initialization and cannot be changed",
     "output_type": "error",
     "traceback": [
      "\u001b[1;31m---------------------------------------------------------------------------\u001b[0m",
      "\u001b[1;31mValueError\u001b[0m                                Traceback (most recent call last)",
      "\u001b[1;32m~\\AppData\\Local\\Temp/ipykernel_21736/1672850603.py\u001b[0m in \u001b[0;36m<module>\u001b[1;34m\u001b[0m\n\u001b[0;32m      1\u001b[0m \u001b[1;31m# Modeling the triple exponential smoothing\u001b[0m\u001b[1;33m\u001b[0m\u001b[1;33m\u001b[0m\u001b[1;33m\u001b[0m\u001b[0m\n\u001b[1;32m----> 2\u001b[1;33m \u001b[0mtriple_model\u001b[0m \u001b[1;33m=\u001b[0m \u001b[0mExponentialSmoothing\u001b[0m\u001b[1;33m(\u001b[0m\u001b[0mcontract_train\u001b[0m\u001b[1;33m[\u001b[0m\u001b[1;34m'count'\u001b[0m\u001b[1;33m]\u001b[0m\u001b[1;33m,\u001b[0m\u001b[0mtrend\u001b[0m\u001b[1;33m=\u001b[0m\u001b[1;34m'add'\u001b[0m\u001b[1;33m,\u001b[0m \u001b[0mseasonal\u001b[0m\u001b[1;33m=\u001b[0m \u001b[1;34m'mul'\u001b[0m\u001b[1;33m,\u001b[0m\u001b[0mseasonal_periods\u001b[0m\u001b[1;33m=\u001b[0m \u001b[1;36m12\u001b[0m\u001b[1;33m)\u001b[0m\u001b[1;33m.\u001b[0m\u001b[0mfit\u001b[0m\u001b[1;33m(\u001b[0m\u001b[0muse_boxcox\u001b[0m\u001b[1;33m=\u001b[0m\u001b[1;32mFalse\u001b[0m\u001b[1;33m,\u001b[0m \u001b[0mremove_bias\u001b[0m\u001b[1;33m=\u001b[0m\u001b[1;32mFalse\u001b[0m\u001b[1;33m)\u001b[0m\u001b[1;33m\u001b[0m\u001b[1;33m\u001b[0m\u001b[0m\n\u001b[0m\u001b[0;32m      3\u001b[0m \u001b[0mtes_forecast\u001b[0m \u001b[1;33m=\u001b[0m \u001b[0mtriple_model\u001b[0m\u001b[1;33m.\u001b[0m\u001b[0mforecast\u001b[0m\u001b[1;33m(\u001b[0m\u001b[1;36m35\u001b[0m\u001b[1;33m)\u001b[0m\u001b[1;33m.\u001b[0m\u001b[0mrename\u001b[0m\u001b[1;33m(\u001b[0m\u001b[1;34m'TES_Forecast'\u001b[0m\u001b[1;33m)\u001b[0m\u001b[1;33m\u001b[0m\u001b[1;33m\u001b[0m\u001b[0m\n",
      "\u001b[1;32m~\\anaconda3\\envs\\insubria\\lib\\site-packages\\pandas\\util\\_decorators.py\u001b[0m in \u001b[0;36mwrapper\u001b[1;34m(*args, **kwargs)\u001b[0m\n\u001b[0;32m    205\u001b[0m                 \u001b[1;32melse\u001b[0m\u001b[1;33m:\u001b[0m\u001b[1;33m\u001b[0m\u001b[1;33m\u001b[0m\u001b[0m\n\u001b[0;32m    206\u001b[0m                     \u001b[0mkwargs\u001b[0m\u001b[1;33m[\u001b[0m\u001b[0mnew_arg_name\u001b[0m\u001b[1;33m]\u001b[0m \u001b[1;33m=\u001b[0m \u001b[0mnew_arg_value\u001b[0m\u001b[1;33m\u001b[0m\u001b[1;33m\u001b[0m\u001b[0m\n\u001b[1;32m--> 207\u001b[1;33m             \u001b[1;32mreturn\u001b[0m \u001b[0mfunc\u001b[0m\u001b[1;33m(\u001b[0m\u001b[1;33m*\u001b[0m\u001b[0margs\u001b[0m\u001b[1;33m,\u001b[0m \u001b[1;33m**\u001b[0m\u001b[0mkwargs\u001b[0m\u001b[1;33m)\u001b[0m\u001b[1;33m\u001b[0m\u001b[1;33m\u001b[0m\u001b[0m\n\u001b[0m\u001b[0;32m    208\u001b[0m \u001b[1;33m\u001b[0m\u001b[0m\n\u001b[0;32m    209\u001b[0m         \u001b[1;32mreturn\u001b[0m \u001b[0mcast\u001b[0m\u001b[1;33m(\u001b[0m\u001b[0mF\u001b[0m\u001b[1;33m,\u001b[0m \u001b[0mwrapper\u001b[0m\u001b[1;33m)\u001b[0m\u001b[1;33m\u001b[0m\u001b[1;33m\u001b[0m\u001b[0m\n",
      "\u001b[1;32m~\\anaconda3\\envs\\insubria\\lib\\site-packages\\pandas\\util\\_decorators.py\u001b[0m in \u001b[0;36mwrapper\u001b[1;34m(*args, **kwargs)\u001b[0m\n\u001b[0;32m    205\u001b[0m                 \u001b[1;32melse\u001b[0m\u001b[1;33m:\u001b[0m\u001b[1;33m\u001b[0m\u001b[1;33m\u001b[0m\u001b[0m\n\u001b[0;32m    206\u001b[0m                     \u001b[0mkwargs\u001b[0m\u001b[1;33m[\u001b[0m\u001b[0mnew_arg_name\u001b[0m\u001b[1;33m]\u001b[0m \u001b[1;33m=\u001b[0m \u001b[0mnew_arg_value\u001b[0m\u001b[1;33m\u001b[0m\u001b[1;33m\u001b[0m\u001b[0m\n\u001b[1;32m--> 207\u001b[1;33m             \u001b[1;32mreturn\u001b[0m \u001b[0mfunc\u001b[0m\u001b[1;33m(\u001b[0m\u001b[1;33m*\u001b[0m\u001b[0margs\u001b[0m\u001b[1;33m,\u001b[0m \u001b[1;33m**\u001b[0m\u001b[0mkwargs\u001b[0m\u001b[1;33m)\u001b[0m\u001b[1;33m\u001b[0m\u001b[1;33m\u001b[0m\u001b[0m\n\u001b[0m\u001b[0;32m    208\u001b[0m \u001b[1;33m\u001b[0m\u001b[0m\n\u001b[0;32m    209\u001b[0m         \u001b[1;32mreturn\u001b[0m \u001b[0mcast\u001b[0m\u001b[1;33m(\u001b[0m\u001b[0mF\u001b[0m\u001b[1;33m,\u001b[0m \u001b[0mwrapper\u001b[0m\u001b[1;33m)\u001b[0m\u001b[1;33m\u001b[0m\u001b[1;33m\u001b[0m\u001b[0m\n",
      "\u001b[1;32m~\\anaconda3\\envs\\insubria\\lib\\site-packages\\pandas\\util\\_decorators.py\u001b[0m in \u001b[0;36mwrapper\u001b[1;34m(*args, **kwargs)\u001b[0m\n\u001b[0;32m    205\u001b[0m                 \u001b[1;32melse\u001b[0m\u001b[1;33m:\u001b[0m\u001b[1;33m\u001b[0m\u001b[1;33m\u001b[0m\u001b[0m\n\u001b[0;32m    206\u001b[0m                     \u001b[0mkwargs\u001b[0m\u001b[1;33m[\u001b[0m\u001b[0mnew_arg_name\u001b[0m\u001b[1;33m]\u001b[0m \u001b[1;33m=\u001b[0m \u001b[0mnew_arg_value\u001b[0m\u001b[1;33m\u001b[0m\u001b[1;33m\u001b[0m\u001b[0m\n\u001b[1;32m--> 207\u001b[1;33m             \u001b[1;32mreturn\u001b[0m \u001b[0mfunc\u001b[0m\u001b[1;33m(\u001b[0m\u001b[1;33m*\u001b[0m\u001b[0margs\u001b[0m\u001b[1;33m,\u001b[0m \u001b[1;33m**\u001b[0m\u001b[0mkwargs\u001b[0m\u001b[1;33m)\u001b[0m\u001b[1;33m\u001b[0m\u001b[1;33m\u001b[0m\u001b[0m\n\u001b[0m\u001b[0;32m    208\u001b[0m \u001b[1;33m\u001b[0m\u001b[0m\n\u001b[0;32m    209\u001b[0m         \u001b[1;32mreturn\u001b[0m \u001b[0mcast\u001b[0m\u001b[1;33m(\u001b[0m\u001b[0mF\u001b[0m\u001b[1;33m,\u001b[0m \u001b[0mwrapper\u001b[0m\u001b[1;33m)\u001b[0m\u001b[1;33m\u001b[0m\u001b[1;33m\u001b[0m\u001b[0m\n",
      "\u001b[1;32m~\\anaconda3\\envs\\insubria\\lib\\site-packages\\statsmodels\\tsa\\holtwinters\\model.py\u001b[0m in \u001b[0;36mfit\u001b[1;34m(self, smoothing_level, smoothing_trend, smoothing_seasonal, damping_trend, optimized, remove_bias, start_params, method, minimize_kwargs, use_brute, use_boxcox, use_basinhopping, initial_level, initial_trend)\u001b[0m\n\u001b[0;32m   1092\u001b[0m             )\n\u001b[0;32m   1093\u001b[0m         \u001b[1;32mif\u001b[0m \u001b[0muse_boxcox\u001b[0m \u001b[1;32mis\u001b[0m \u001b[1;32mnot\u001b[0m \u001b[1;32mNone\u001b[0m\u001b[1;33m:\u001b[0m\u001b[1;33m\u001b[0m\u001b[1;33m\u001b[0m\u001b[0m\n\u001b[1;32m-> 1094\u001b[1;33m             raise ValueError(\n\u001b[0m\u001b[0;32m   1095\u001b[0m                 \u001b[1;34m\"use_boxcox was set at model initialization and cannot \"\u001b[0m\u001b[1;33m\u001b[0m\u001b[1;33m\u001b[0m\u001b[0m\n\u001b[0;32m   1096\u001b[0m                 \u001b[1;34m\"be changed\"\u001b[0m\u001b[1;33m\u001b[0m\u001b[1;33m\u001b[0m\u001b[0m\n",
      "\u001b[1;31mValueError\u001b[0m: use_boxcox was set at model initialization and cannot be changed"
     ]
    }
   ],
   "source": [
    "# Modeling the triple exponential smoothing\n",
    "triple_model = ExponentialSmoothing(contract_train['count'],trend='add', seasonal= 'mul',seasonal_periods= 12).fit(use_boxcox=False, remove_bias=False)\n",
    "tes_forecast = triple_model.forecast(35).rename('TES_Forecast')"
   ]
  },
  {
   "cell_type": "code",
   "execution_count": null,
   "id": "ad45479e",
   "metadata": {
    "id": "ad45479e",
    "outputId": "5a53cf7f-983c-4ccd-8e6a-2f273b16e9e3"
   },
   "outputs": [],
   "source": [
    "# Calculate the errors\n",
    "tes_errors_df = contract_test[['count']]\n",
    "tes_errors_df['Predicted_Count'] = tes_forecast.values\n",
    "tes_errors_df['Error'] = tes_forecast.values - y_test\n",
    "tes_errors_df.insert(0, 'Modelname', 'Holtman- TES')\n",
    "tes_errors_df.head()"
   ]
  },
  {
   "cell_type": "code",
   "execution_count": null,
   "id": "3d4491c0",
   "metadata": {
    "id": "3d4491c0",
    "outputId": "b45684f8-1ab2-47dc-ddee-3f4be9dc4147"
   },
   "outputs": [],
   "source": [
    "# Plot the number of contract using holtman forecast model using Double Exponential Smoothing\n",
    "fig = plt.figure(figsize=(14,7))\n",
    "plt.plot(contract_train.index, contract_train['count'], label='Train')\n",
    "plt.plot(contract_test.index, contract_test['count'], label='Test')\n",
    "plt.plot(des_errors_df.index, des_errors_df['Predicted_Count'], label='Forecast - HW-DES')\n",
    "plt.legend(loc='best')\n",
    "plt.xlabel('date')\n",
    "plt.ylabel('count')\n",
    "plt.title('Forecast using Holt Winters-Double Exponential Smoothing')\n",
    "plt.xticks(bal2.index.unique())\n",
    "plt.locator_params(axis='x', nbins=10)\n",
    "plt.show()"
   ]
  },
  {
   "cell_type": "code",
   "execution_count": null,
   "id": "2108979a",
   "metadata": {
    "id": "2108979a",
    "outputId": "279c0dfd-ce8e-4d97-9341-df39ae2589bf"
   },
   "outputs": [],
   "source": [
    "# Plot the number of contract using holtman forecast model using Triple Exponential Smoothing\n",
    "fig = plt.figure(figsize=(14,7))\n",
    "plt.plot(contract_train.index, contract_train['count'], label='Train')\n",
    "plt.plot(contract_test.index, contract_test['count'], label='Test')\n",
    "plt.plot(tes_errors_df.index, tes_errors_df['Predicted_Count'], label='Forecast - HW-TES')\n",
    "plt.legend(loc='best')\n",
    "plt.xlabel('date')\n",
    "plt.ylabel('count')\n",
    "plt.title('Forecast using Holt Winters-Triple Exponential Smoothing')\n",
    "plt.xticks(bal2.index.unique())\n",
    "plt.locator_params(axis='x', nbins=10)\n",
    "plt.show()"
   ]
  },
  {
   "cell_type": "markdown",
   "id": "1821c4b6",
   "metadata": {
    "id": "1821c4b6"
   },
   "source": [
    "### Extra trees regressor"
   ]
  },
  {
   "cell_type": "markdown",
   "id": "b0bdd198",
   "metadata": {
    "id": "b0bdd198"
   },
   "source": [
    "* Composed of a large number of decision trees, where the final decision is obtained taking into account the prediction of every tree\n",
    "* When selecting the partition of each node, randomly choose a subset of features"
   ]
  },
  {
   "cell_type": "code",
   "execution_count": null,
   "id": "1d1f8573",
   "metadata": {
    "id": "1d1f8573",
    "outputId": "b58ba7fa-9ad7-4986-8e95-b78c6e138c53"
   },
   "outputs": [],
   "source": [
    "# Fit model\n",
    "etr_model = ExtraTreesRegressor(n_estimators=100)\n",
    "etr_model.fit(X_train, y_train)"
   ]
  },
  {
   "cell_type": "code",
   "execution_count": null,
   "id": "43ea4c1a",
   "metadata": {
    "id": "43ea4c1a",
    "outputId": "886742ba-3aae-4c6f-9651-99c3f21e4681"
   },
   "outputs": [],
   "source": [
    "# Start the prediction\n",
    "etr_preds = etr_model.predict(X_test)\n",
    "print('Prediction is done..')"
   ]
  },
  {
   "cell_type": "code",
   "execution_count": null,
   "id": "6d13ec8f",
   "metadata": {
    "id": "6d13ec8f",
    "outputId": "c1b10efd-8cfe-4621-ab65-c12b65958e01"
   },
   "outputs": [],
   "source": [
    "# Check the score for the train and test sets\n",
    "print('Model Score at Train set: {:.2%}'.format(etr_model.score(X_train, y_train)))\n",
    "print('Model Score at Test set: {:.2%}'.format(etr_model.score(X_test, y_test)))"
   ]
  },
  {
   "cell_type": "code",
   "execution_count": null,
   "id": "96ad6013",
   "metadata": {
    "id": "96ad6013",
    "outputId": "6f485efd-9311-4ca1-e99d-378a0e1bad83"
   },
   "outputs": [],
   "source": [
    "# Calculate the errors\n",
    "etr_errors_df = contract_test[['count']]\n",
    "etr_errors_df['Predicted_Count'] = etr_preds\n",
    "etr_errors_df['Error'] = etr_preds - y_test\n",
    "etr_errors_df.insert(0, 'Modelname', 'ExtreeTreesRegressor')\n",
    "etr_errors_df.head()"
   ]
  },
  {
   "cell_type": "code",
   "execution_count": null,
   "id": "af113c59",
   "metadata": {
    "id": "af113c59",
    "outputId": "ecdc88c6-39e1-4bfa-c02f-f003559fe3cd"
   },
   "outputs": [],
   "source": [
    "# Show the predictions for Extra Tree Regressor\n",
    "fig = plt.figure(figsize=(14,7))\n",
    "plt.plot(contract_train.index, contract_train['count'], label='Train')\n",
    "plt.plot(contract_test.index, contract_test['count'], label='Test')\n",
    "plt.plot(etr_errors_df.index, etr_errors_df['Predicted_Count'], label='Forecast - ExtraTreesRegressor')\n",
    "plt.legend(loc='best')\n",
    "plt.xlabel('Date')\n",
    "plt.ylabel('count')\n",
    "plt.title('Forecast using ExtraTreesRegressor model')\n",
    "plt.xticks(bal2.index.unique())\n",
    "plt.locator_params(axis='x', nbins=10)\n",
    "plt.show()"
   ]
  },
  {
   "cell_type": "markdown",
   "id": "65131c21",
   "metadata": {
    "id": "65131c21"
   },
   "source": [
    "### Linear regression"
   ]
  },
  {
   "cell_type": "markdown",
   "id": "3fbebc62",
   "metadata": {
    "id": "3fbebc62"
   },
   "source": [
    "Model for understanding the relationship between input and output numerical variables. "
   ]
  },
  {
   "cell_type": "code",
   "execution_count": null,
   "id": "5ed3bab2",
   "metadata": {
    "id": "5ed3bab2",
    "outputId": "bc6d23a1-cda7-4a82-f8f7-f2392e59ba76"
   },
   "outputs": [],
   "source": [
    "# Fit model\n",
    "lr_model = LinearRegression()\n",
    "lr_model.fit(X_train, y_train)"
   ]
  },
  {
   "cell_type": "code",
   "execution_count": null,
   "id": "d7493812",
   "metadata": {
    "id": "d7493812",
    "outputId": "09f61924-15c3-4c11-fcf9-47d00975d57f"
   },
   "outputs": [],
   "source": [
    "# Start the prediction\n",
    "lr_preds = lr_model.predict(X_test)\n",
    "print('Prediction is done..')"
   ]
  },
  {
   "cell_type": "code",
   "execution_count": null,
   "id": "ff876076",
   "metadata": {
    "id": "ff876076",
    "outputId": "b31568f8-a3f3-4d12-aed5-de6ebd69f011"
   },
   "outputs": [],
   "source": [
    "# Calculate the errors\n",
    "lr_errors_df = contract_test[['count']]\n",
    "lr_errors_df['Predicted_Count'] = lr_preds\n",
    "lr_errors_df['Error'] = lr_preds - y_test\n",
    "lr_errors_df.insert(0, 'Modelname', 'Linear Regression')\n",
    "lr_errors_df.head()"
   ]
  },
  {
   "cell_type": "code",
   "execution_count": null,
   "id": "7e89650e",
   "metadata": {
    "id": "7e89650e",
    "outputId": "9a7cf5ba-7fd9-4029-a672-a9559b724887"
   },
   "outputs": [],
   "source": [
    "# Show the predictions for Linear Regression\n",
    "fig = plt.figure(figsize=(14,7))\n",
    "plt.plot(contract_train.index, contract_train['count'], label='Train')\n",
    "plt.plot(contract_test.index, contract_test['count'], label='Test')\n",
    "plt.plot(lr_errors_df.index, lr_errors_df['Predicted_Count'], label='Forecast - Linear Regression')\n",
    "plt.legend(loc='best')\n",
    "plt.xlabel('Date')\n",
    "plt.ylabel('count')\n",
    "plt.title('Forecast using Linear Regression')\n",
    "plt.xticks(bal2.index.unique())\n",
    "plt.locator_params(axis='x', nbins=10)\n",
    "plt.show()"
   ]
  },
  {
   "cell_type": "markdown",
   "id": "bd875f09",
   "metadata": {
    "id": "bd875f09"
   },
   "source": [
    "### ARIMA e SARIMAX"
   ]
  },
  {
   "cell_type": "code",
   "execution_count": null,
   "id": "26a24149",
   "metadata": {
    "id": "26a24149",
    "outputId": "e95e0f49-32bb-4588-ab49-d15ef15120f3"
   },
   "outputs": [],
   "source": [
    "# Fit the model\n",
    "arima_model = ARIMA(bal2['count'], (3,1,3)).fit(disp=False)\n",
    "print(arima_model.summary())"
   ]
  },
  {
   "cell_type": "code",
   "execution_count": null,
   "id": "39221e43",
   "metadata": {
    "id": "39221e43",
    "outputId": "dfbcad7c-fa09-474b-8450-332a2f482620"
   },
   "outputs": [],
   "source": [
    "# Fit the model\n",
    "sarima_model = SARIMAX(bal2['count'], order=(3, 1, 3), seasonal_order=(6, 1, 0, 6), \n",
    "                       enforce_invertibility=False, enforce_stationarity=False)\n",
    "sarima_fit = sarima_model.fit()\n",
    "sarima_test_df = contract_test[[\"count\"]]\n",
    "sarima_test_df['Predicted_Count'] = sarima_fit.predict(start=contract_test.index[0],\n",
    "                                                 end=contract_test.index[-1], dynamic= True)\n",
    "plot = sarima_fit.plot_diagnostics(figsize=(14,7))\n",
    "plot"
   ]
  },
  {
   "cell_type": "code",
   "execution_count": null,
   "id": "fba53efa",
   "metadata": {
    "id": "fba53efa",
    "outputId": "36088868-d55c-4538-ca7c-506f2c5728c4"
   },
   "outputs": [],
   "source": [
    "# Evaluation of errors\n",
    "sarima_test_df['Error'] = sarima_test_df['count'] - sarima_test_df.Predicted_Count\n",
    "sarima_test_df.insert(0, 'Modelname', 'SARIMA')\n",
    "sarima_test_df.head()"
   ]
  },
  {
   "cell_type": "code",
   "execution_count": null,
   "id": "1a2b7ece",
   "metadata": {
    "id": "1a2b7ece",
    "outputId": "02af1daf-0b57-486b-edb1-57ee2dabcd9a"
   },
   "outputs": [],
   "source": [
    "# Show the predictions for SARIMA model\n",
    "fig = plt.figure(figsize=(14,7))\n",
    "plt.plot(contract_train.index, contract_train['count'], label='Train')\n",
    "plt.plot(contract_test.index, contract_test['count'], label='Test')\n",
    "plt.plot(sarima_test_df.index, sarima_test_df['Predicted_Count'], label='Forecast - SARIMA')\n",
    "plt.legend(loc='best')\n",
    "plt.xlabel('Date')\n",
    "plt.ylabel('count')\n",
    "plt.title('Forecast using SARIMA')\n",
    "plt.xticks(bal2.index.unique())\n",
    "plt.locator_params(axis='x', nbins=10)\n",
    "plt.show()"
   ]
  },
  {
   "cell_type": "code",
   "execution_count": null,
   "id": "29c41bee",
   "metadata": {
    "id": "29c41bee",
    "outputId": "8abd3ce2-3ec7-405a-faa7-a95411a109e1"
   },
   "outputs": [],
   "source": [
    "# Show the errors for the predicted and the actual values\n",
    "plt.figure(figsize=(14,7))\n",
    "plt.plot(sarima_test_df.index, np.abs(sarima_test_df['Error']), label='errors')\n",
    "plt.plot(sarima_test_df.index, sarima_test_df['count'], label='Actual Count')\n",
    "plt.plot(sarima_test_df.index, sarima_test_df['Predicted_Count'], label='Predicted Count')\n",
    "plt.legend(loc='best')\n",
    "plt.xlabel('Date')\n",
    "plt.ylabel('Count')\n",
    "plt.title('Seasonal ARIMA (SARIMA) forecasts with actual count vs errors')\n",
    "plt.xticks(sarima_test_df.index.unique())\n",
    "plt.locator_params(axis='x', nbins=10)\n",
    "plt.show()"
   ]
  },
  {
   "cell_type": "markdown",
   "id": "726da60a",
   "metadata": {
    "id": "726da60a"
   },
   "source": [
    "### SVR (Support Vector Regressor)  regressor"
   ]
  },
  {
   "cell_type": "markdown",
   "id": "0a263ae3",
   "metadata": {
    "id": "0a263ae3"
   },
   "source": [
    "Regression model that gives  the flexibility to define how much error is acceptable in our model and will find an appropriate line to fit the data."
   ]
  },
  {
   "cell_type": "code",
   "execution_count": null,
   "id": "a50a526d",
   "metadata": {
    "id": "a50a526d",
    "outputId": "50455db9-317f-4cb1-ddc5-5f9ff690f36d"
   },
   "outputs": [],
   "source": [
    "# Start the prediction\n",
    "import sklearn\n",
    "svr_model = sklearn.svm.SVR(kernel='linear', degree=3, C=1.0,).fit(X_train, y_train)\n",
    "svr_preds = svr_model.predict(X_test)\n",
    "print('Prediction is done...')\n",
    "\n",
    "# Errors calculation\n",
    "svr_errors_df = contract_test[['count']]\n",
    "svr_errors_df['Predicted_Count'] = svr_preds\n",
    "svr_errors_df['Error'] = svr_preds - y_test\n",
    "svr_errors_df.insert(0, 'Modelname', 'Support Vector Regressor')\n",
    "svr_errors_df.head()"
   ]
  },
  {
   "cell_type": "code",
   "execution_count": null,
   "id": "02065b60",
   "metadata": {
    "id": "02065b60",
    "outputId": "ef78cc11-c2b5-4165-bdfa-9bd432ea6752"
   },
   "outputs": [],
   "source": [
    "# Show predictions for Support Vector Regressor\n",
    "fig = plt.figure(figsize=(14,7))\n",
    "plt.plot(contract_train.index, contract_train['count'], label='Train')\n",
    "plt.plot(contract_test.index, contract_test['count'], label='Test')\n",
    "plt.plot(svr_errors_df.index, svr_errors_df['Predicted_Count'], label='Forecast - Support Vector Regressor')\n",
    "plt.legend(loc='best')\n",
    "plt.xlabel('Intervals')\n",
    "plt.ylabel('Count')\n",
    "plt.title('Forecast using Support Vector Regressor')\n",
    "plt.xticks(bal2.index.unique())\n",
    "plt.locator_params(axis='x', nbins=10)\n",
    "plt.show()"
   ]
  },
  {
   "cell_type": "markdown",
   "id": "bc00b19e",
   "metadata": {
    "id": "bc00b19e"
   },
   "source": [
    "### Compare the different models"
   ]
  },
  {
   "cell_type": "markdown",
   "id": "017198b6",
   "metadata": {
    "id": "017198b6"
   },
   "source": [
    "To compare the models, we use:\n",
    "* MAE: Mean Absolute Error is the average over the verification sample of the absolute values of the differences between forecast and the corresponding observation.\n",
    "* RMSE: Root Mean Squared Error is the square root of the mean of the square of all of the error.\n",
    "* MAPE: Mean Absolute Percentage Error is a measure of prediction accuracy of a forecasting method in statistics."
   ]
  },
  {
   "cell_type": "code",
   "execution_count": null,
   "id": "266caa18",
   "metadata": {
    "id": "266caa18"
   },
   "outputs": [],
   "source": [
    "# Define metrics\n",
    "\n",
    "def mae(err):\n",
    "    return np.mean(np.abs(err))\n",
    "\n",
    "def rmse(err):\n",
    "    return np.sqrt(np.mean(err ** 2))\n",
    "\n",
    "def mape(err, count=tes_errors_df['count']):\n",
    "    return np.sum(np.abs(err))/np.sum(count) * 100"
   ]
  },
  {
   "cell_type": "code",
   "execution_count": null,
   "id": "3f37e069",
   "metadata": {
    "id": "3f37e069",
    "outputId": "91a5f845-f056-49da-9fe4-50faec332535"
   },
   "outputs": [],
   "source": [
    "# Calculate metrics for SVR\n",
    "result_df_svr = svr_errors_df.groupby('Modelname').agg(Total_Count=('count', 'sum'),\n",
    "                                          Total_Pred_Count=('Predicted_Count', 'sum'),\n",
    "                                          Model_Overall_Error=('Error', 'sum'),\n",
    "                                          MAE=('Error', mae),\n",
    "                                          RMSE=('Error', rmse), \n",
    "                                          MAPE=('Error', mape))\n",
    "result_df_svr"
   ]
  },
  {
   "cell_type": "code",
   "execution_count": null,
   "id": "dc6de942",
   "metadata": {
    "id": "dc6de942",
    "outputId": "20cf102e-21b5-4c4d-9655-14a277d38615"
   },
   "outputs": [],
   "source": [
    "# Calculate metrics for SARIMA\n",
    "result_df_sarima = sarima_test_df.groupby('Modelname').agg(Total_Count=('count', 'sum'),\n",
    "                                          Total_Pred_Count=('Predicted_Count', 'sum'),\n",
    "                                          Model_Overall_Error=('Error', 'sum'),\n",
    "                                          MAE=('Error', mae),\n",
    "                                          RMSE=('Error', rmse), \n",
    "                                          MAPE=('Error', mape))\n",
    "result_df_sarima"
   ]
  },
  {
   "cell_type": "code",
   "execution_count": null,
   "id": "cbf07491",
   "metadata": {
    "id": "cbf07491",
    "outputId": "31c588c3-4513-4f0f-b930-7e735dd513f3"
   },
   "outputs": [],
   "source": [
    "# Calculate metrics for Holtman Winter\n",
    "result_df_hw = tes_errors_df.groupby('Modelname').agg(Total_Count=('count', 'sum'),\n",
    "                                          Total_Pred_Count=('Predicted_Count', 'sum'),\n",
    "                                          Model_Overall_Error=('Error', 'sum'),\n",
    "                                          MAE=('Error', mae),\n",
    "                                          RMSE=('Error', rmse), \n",
    "                                          MAPE=('Error', mape))\n",
    "result_df_hw"
   ]
  },
  {
   "cell_type": "code",
   "execution_count": null,
   "id": "00e7a21e",
   "metadata": {
    "id": "00e7a21e",
    "outputId": "3e345fc2-e1e3-40c4-f4ed-d3c3f2650352"
   },
   "outputs": [],
   "source": [
    "# Calculate metrics for Linear regression\n",
    "result_df_lr = lr_errors_df.groupby('Modelname').agg(Total_Count=('count', 'sum'),\n",
    "                                          Total_Pred_Count=('Predicted_Count', 'sum'),\n",
    "                                          Model_Overall_Error=('Error', 'sum'),\n",
    "                                          MAE=('Error', mae),\n",
    "                                          RMSE=('Error', rmse), \n",
    "                                          MAPE=('Error', mape))\n",
    "result_df_lr"
   ]
  },
  {
   "cell_type": "code",
   "execution_count": null,
   "id": "df224878",
   "metadata": {
    "id": "df224878",
    "outputId": "c09b5bc9-3d9c-4f3e-dff4-9be819122b31"
   },
   "outputs": [],
   "source": [
    "# Calculate metrics for Extra tree regression\n",
    "result_df_etr = etr_errors_df.groupby('Modelname').agg(Total_Count=('count', 'sum'),\n",
    "                                          Total_Pred_Count=('Predicted_Count', 'sum'),\n",
    "                                          Model_Overall_Error=('Error', 'sum'),\n",
    "                                          MAE=('Error', mae),\n",
    "                                          RMSE=('Error', rmse), \n",
    "                                          MAPE=('Error', mape))\n",
    "result_df_etr"
   ]
  },
  {
   "cell_type": "code",
   "execution_count": null,
   "id": "648725e2",
   "metadata": {
    "id": "648725e2",
    "outputId": "03fb8a39-b8b6-4336-ec9e-35160d81fab1"
   },
   "outputs": [],
   "source": [
    "# Create the table with all the previous calculated results\n",
    "list_objs = [result_df_svr, result_df_lr, result_df_hw, result_df_sarima, result_df_etr]\n",
    "metrics_table = pd.concat(list_objs)\n",
    "metrics_table"
   ]
  },
  {
   "cell_type": "code",
   "execution_count": null,
   "id": "31c7bca6",
   "metadata": {
    "id": "31c7bca6",
    "outputId": "05d3cd16-1eac-4d21-a375-d6ce31bbeea8"
   },
   "outputs": [],
   "source": [
    "# Check of the model\n",
    "print('Model Score at Train set: {:.2%}'.format(etr_model.score(X_train, y_train)))\n",
    "print('Model Score at Test set: {:.2%}'.format(etr_model.score(X_test, y_test)))"
   ]
  },
  {
   "cell_type": "markdown",
   "id": "1c0eda44",
   "metadata": {
    "id": "1c0eda44"
   },
   "source": [
    "From above metrics the \"Extra Trees Regressor\" model performs well, but also the Linear Regressor. \n",
    "In addition model score is not pretty accurate with (100% for Train data, 64.02% for Test data)."
   ]
  },
  {
   "cell_type": "code",
   "execution_count": null,
   "id": "dc86b0a2",
   "metadata": {
    "id": "dc86b0a2",
    "outputId": "30a8c81e-e09b-4543-ac65-9326475f1c49"
   },
   "outputs": [],
   "source": [
    "# Show Prediction of Extra Tree Regressor\n",
    "etr_prediction = pd.DataFrame(data=etr_preds, columns=['Predicted_Count'])\n",
    "contract_pred_test.drop(columns= ['rolling_mean','rolling_max','rolling_min'], inplace=True)\n",
    "contract_pred_test.reset_index(inplace=True)\n",
    "compare_results = pd.merge(contract_pred_test, etr_prediction, left_index=True, right_index=True)"
   ]
  },
  {
   "cell_type": "code",
   "execution_count": null,
   "id": "da3e50c6",
   "metadata": {
    "id": "da3e50c6",
    "outputId": "4ee746a9-9c3f-4b36-b5da-5d066f8d5062"
   },
   "outputs": [],
   "source": [
    "# Compare the predictions with the real values\n",
    "compare_results=compare_results.drop(columns='mese-anno')\n",
    "compare_results"
   ]
  },
  {
   "cell_type": "markdown",
   "id": "3e826e86",
   "metadata": {
    "id": "3e826e86"
   },
   "source": [
    "## Pre COVID Prediction"
   ]
  },
  {
   "cell_type": "code",
   "execution_count": null,
   "id": "88423db0",
   "metadata": {
    "id": "88423db0",
    "outputId": "9c6295f2-3116-4ba8-ffe8-37eab8932555"
   },
   "outputs": [],
   "source": [
    "# Extract only the elements of the pre COVID years\n",
    "pre_covid = transformed[transformed['ANNO']<2019]\n",
    "pre_covid"
   ]
  },
  {
   "cell_type": "markdown",
   "id": "1821fcb7",
   "metadata": {
    "id": "1821fcb7"
   },
   "source": [
    "### Balancing"
   ]
  },
  {
   "cell_type": "code",
   "execution_count": null,
   "id": "c4164b5c",
   "metadata": {
    "id": "c4164b5c",
    "outputId": "2502aaa2-39f0-4cbe-c2e9-21bbd1b92233"
   },
   "outputs": [],
   "source": [
    "# Check if the dataset is balanced\n",
    "pre_covid[\"contratto_transformed\"].value_counts(normalize=True)"
   ]
  },
  {
   "cell_type": "markdown",
   "id": "3a934d7d",
   "metadata": {
    "id": "3a934d7d"
   },
   "source": [
    "We notice that the dataset is not balanced basing on the type of contract"
   ]
  },
  {
   "cell_type": "code",
   "execution_count": null,
   "id": "1f8a0835",
   "metadata": {
    "id": "1f8a0835",
    "outputId": "ee779a20-4625-49e9-b096-5ea0f96a74f2"
   },
   "outputs": [],
   "source": [
    "# Count the occurencies of INDETERMINATO's contracts\n",
    "pre_covid[pre_covid[\"contratto_transformed\"]==1].count()"
   ]
  },
  {
   "cell_type": "code",
   "execution_count": null,
   "id": "fa2cb813",
   "metadata": {
    "id": "fa2cb813",
    "outputId": "ba464e06-7954-48ec-8287-8fb1696e2fd0"
   },
   "outputs": [],
   "source": [
    "# Count the occurencies of NON INDETERMINATO's contracts\n",
    "pre_covid[pre_covid[\"contratto_transformed\"]==0].count()"
   ]
  },
  {
   "cell_type": "markdown",
   "id": "9c9b7503",
   "metadata": {
    "id": "9c9b7503"
   },
   "source": [
    "#### Random Undersampling"
   ]
  },
  {
   "cell_type": "markdown",
   "id": "08b55a2c",
   "metadata": {
    "id": "08b55a2c"
   },
   "source": [
    "We use undersampling instead of oversampling because we care more about the INDETERMINATO's contracts which have less occurencies, even if there are the possibilities to lose some informations."
   ]
  },
  {
   "cell_type": "code",
   "execution_count": null,
   "id": "f9ae881a",
   "metadata": {
    "id": "f9ae881a",
    "outputId": "8818d28e-3ad6-4881-f5e8-9fde9766f62f"
   },
   "outputs": [],
   "source": [
    "# Execute the undersampling for the NON INDETERMINATO's contracts\n",
    "data_0 = pre_covid[pre_covid[\"contratto_transformed\"]==0].sample(n=1064553,random_state=16) \n",
    "data_1 = pre_covid[pre_covid[\"contratto_transformed\"]==1]\n",
    "balanced_pre = data_0.append(data_1)\n",
    "balanced_pre"
   ]
  },
  {
   "cell_type": "code",
   "execution_count": null,
   "id": "fbf09b7f",
   "metadata": {
    "id": "fbf09b7f",
    "outputId": "04889986-4e16-4f46-ca91-31d20e7b87b5"
   },
   "outputs": [],
   "source": [
    "# Check if the dataset is balanced\n",
    "balanced_pre[\"contratto_transformed\"].value_counts(normalize=True)"
   ]
  },
  {
   "cell_type": "markdown",
   "id": "021777ea",
   "metadata": {
    "id": "021777ea"
   },
   "source": [
    "### Create the train and test sets"
   ]
  },
  {
   "cell_type": "code",
   "execution_count": null,
   "id": "27dba04a",
   "metadata": {
    "id": "27dba04a"
   },
   "outputs": [],
   "source": [
    "# Create the train and test sets\n",
    "X = balanced_pre[[\"ETA\",\"ANNO\",\"contratto_transformed\",\"nazionalita_transformed\",\"genere_transformed\"]].values\n",
    "y = pd.DataFrame(balanced_pre['Output_transformed'].copy()).values\n",
    "\n",
    "X_train, X_test, y_train, y_test = train_test_split(X, y, test_size = 0.3, random_state = 7)"
   ]
  },
  {
   "cell_type": "code",
   "execution_count": null,
   "id": "c2303efe",
   "metadata": {
    "id": "c2303efe"
   },
   "outputs": [],
   "source": [
    "# To avoid the MemoryError, we change the dataset's type into a new lighter one\n",
    "X_train=X_train.astype(np.uint8)\n",
    "y_train=y_train.astype(np.uint8)"
   ]
  },
  {
   "cell_type": "markdown",
   "id": "25ae6a6e",
   "metadata": {
    "id": "25ae6a6e"
   },
   "source": [
    "### Decision Tree"
   ]
  },
  {
   "cell_type": "code",
   "execution_count": null,
   "id": "166a3b1a",
   "metadata": {
    "id": "166a3b1a",
    "outputId": "06446fce-f82a-49ca-813d-cb4dc3e9a93a"
   },
   "outputs": [],
   "source": [
    "# Define the Decision Tree\n",
    "dct = tree.DecisionTreeClassifier()\n",
    "DecisionTreeClassifier(criterion='entropy', splitter='best', max_depth=10,\n",
    "                           min_samples_split=2, min_samples_leaf=1, min_weight_fraction_leaf=0.0, \n",
    "                           max_features=None, \n",
    "                           random_state=None, max_leaf_nodes=None, min_impurity_decrease=0.0, \n",
    "                           class_weight=None)"
   ]
  },
  {
   "cell_type": "code",
   "execution_count": null,
   "id": "2342d9ec",
   "metadata": {
    "id": "2342d9ec",
    "outputId": "4eca132d-109f-474d-8329-5ba7adad69c7"
   },
   "outputs": [],
   "source": [
    "# Create Decision tree and fit it\n",
    "dct.fit(X_train, y_train)"
   ]
  },
  {
   "cell_type": "code",
   "execution_count": null,
   "id": "d6134e3d",
   "metadata": {
    "id": "d6134e3d"
   },
   "outputs": [],
   "source": [
    "# With the following sintax we will create a .dot file with the code for visualizing th tree\n",
    "tree.export_graphviz(dct, out_file='tree.dot', feature_names=[\"ETA\",\"ANNO\",\"contratto_transformed\",\"nazionalita_transformed\",\"genere_transformed\"])"
   ]
  },
  {
   "cell_type": "code",
   "execution_count": null,
   "id": "f3fc746c",
   "metadata": {
    "id": "f3fc746c"
   },
   "outputs": [],
   "source": [
    "# Show Decision tree\n",
    "tree.plot_tree(dct)"
   ]
  },
  {
   "cell_type": "code",
   "execution_count": null,
   "id": "e1fa727d",
   "metadata": {
    "id": "e1fa727d",
    "outputId": "1b469f8a-a2a8-472d-b68e-92dd360ed92a"
   },
   "outputs": [],
   "source": [
    "# Probablistic prediction the values\n",
    "y_pred_prob = dct.predict_proba(X_test)\n",
    "y_pred_prob"
   ]
  },
  {
   "cell_type": "code",
   "execution_count": null,
   "id": "9c72aee8",
   "metadata": {
    "id": "9c72aee8",
    "outputId": "d9c9f934-6d3f-43f0-e65f-6a48ff3a3d76"
   },
   "outputs": [],
   "source": [
    "# Predict the values\n",
    "y_pred = dct.predict(X_test)\n",
    "y_pred"
   ]
  },
  {
   "cell_type": "markdown",
   "id": "12188b61",
   "metadata": {
    "id": "12188b61"
   },
   "source": [
    "#### Confusion Matrix"
   ]
  },
  {
   "cell_type": "code",
   "execution_count": null,
   "id": "2684f4bc",
   "metadata": {
    "id": "2684f4bc",
    "outputId": "4cca36bd-dd52-4cb0-f7bd-7af02aff0b46"
   },
   "outputs": [],
   "source": [
    "# To avoid the MemoryError, we change the dataset's type into a new lighter one\n",
    "y_test=y_test.astype(np.uint8)\n",
    "y_pred=y_pred.astype(np.uint8)\n",
    "\n",
    "# Print the confusion matrix\n",
    "confusion = metrics.confusion_matrix(y_test, y_pred)\n",
    "print(confusion)"
   ]
  },
  {
   "cell_type": "markdown",
   "id": "d57c42be",
   "metadata": {
    "id": "d57c42be"
   },
   "source": [
    "### ARIMA"
   ]
  },
  {
   "cell_type": "markdown",
   "id": "39afe5ab",
   "metadata": {
    "id": "39afe5ab"
   },
   "source": [
    "Prediction of the number of activated contracts wiht Autoregressive integrated moving average model."
   ]
  },
  {
   "cell_type": "code",
   "execution_count": null,
   "id": "0f0a8cd0",
   "metadata": {
    "id": "0f0a8cd0",
    "outputId": "994061c8-6afd-43b1-99da-653ee25bef1e"
   },
   "outputs": [],
   "source": [
    "# Load the dataset\n",
    "balanced1 = balanced_pre.copy()\n",
    "balanced1 = balanced1.reset_index(drop=True)\n",
    "balanced1"
   ]
  },
  {
   "cell_type": "code",
   "execution_count": null,
   "id": "e2ed1c43",
   "metadata": {
    "id": "e2ed1c43",
    "outputId": "a360c066-7c02-4fa0-fd01-9f1ec487031f"
   },
   "outputs": [],
   "source": [
    "# Set mese-anno like index\n",
    "# Show count of contract for each mese-anno\n",
    "balanced2 = balanced1.groupby(\"mese-anno\").size().reset_index(name='count')\n",
    "balanced2 = balanced2.set_index('mese-anno')\n",
    "f, ax1 = plt.subplots(1,1,figsize=(15,5))\n",
    "balanced2.plot(ax=ax1)\n",
    "ax1.set_xlabel(\"time\")\n",
    "ax1.set_ylabel(\"Number of Contracts\")\n",
    "plt.grid(True)"
   ]
  },
  {
   "cell_type": "code",
   "execution_count": null,
   "id": "82dc0ad7",
   "metadata": {
    "id": "82dc0ad7",
    "outputId": "74241f34-e1cd-4990-fbb1-4ddccf882323"
   },
   "outputs": [],
   "source": [
    "# Calculate the Augmented Dickey-Fuller test can be used to test for a unit root in a univariate \n",
    "#process in the presence of serial correlation.\n",
    "results = adfuller(balanced2['count'])\n",
    "print('ADF Statistic: %f' % results[0])\n",
    "print('p-value: %f' % results[1])"
   ]
  },
  {
   "cell_type": "code",
   "execution_count": null,
   "id": "b80c8218",
   "metadata": {
    "id": "b80c8218",
    "outputId": "cad88dc3-e8c1-486e-de8e-86e05ea52d02"
   },
   "outputs": [],
   "source": [
    "# Show seasonality and trend\n",
    "plt.rcParams['figure.figsize'] = 20, 10\n",
    "# Additive decomposition\n",
    "decomposed_add = seasonal_decompose(balanced2, model=\"additive\", period=5)\n",
    "\n",
    "fig, ax = plt.subplots(4, 1, figsize=(15, 8))\n",
    "# Plot the series\n",
    "decomposed_add.observed.plot(ax = ax[0])\n",
    "decomposed_add.trend.plot(ax = ax[1])\n",
    "decomposed_add.seasonal.plot(ax = ax[2])\n",
    "decomposed_add.resid.plot(ax = ax[3])\n",
    "# Add the labels to the Y-axis\n",
    "ax[0].set_ylabel('')\n",
    "ax[1].set_ylabel('Trend')\n",
    "ax[2].set_ylabel('Seasonal')\n",
    "ax[3].set_ylabel('Residual')\n",
    "\n",
    "plt.tight_layout()\n",
    "plt.show()"
   ]
  },
  {
   "cell_type": "code",
   "execution_count": null,
   "id": "bbecc96b",
   "metadata": {
    "id": "bbecc96b",
    "outputId": "327cbf4b-1e22-4b62-857a-c3b8fc2739bc"
   },
   "outputs": [],
   "source": [
    "# Search p and q values\n",
    "\n",
    "arima_df = pd.DataFrame(columns=[\"p\",\"q\",\"aic\",\"bic\"])\n",
    "\n",
    "i=0\n",
    "# Loop over p values from 0-5\n",
    "for p in range(4):\n",
    "    # Loop over q values from 0-5\n",
    "    for q in range(4):\n",
    "        \n",
    "        try:\n",
    "            # creating and fitting ARIMA(p,1,q) model\n",
    "            model = ARIMA(balanced2['count'].astype(float), order=(p,1,q))\n",
    "            results = model.fit()\n",
    "            \n",
    "            # Printing order, AIC and BIC\n",
    "            #print(p, q, results.aic, results.bic)\n",
    "            arima_df.loc[i,\"p\"] = p\n",
    "            arima_df.loc[i,\"q\"] = q\n",
    "            arima_df.loc[i,\"aic\"] = results.aic\n",
    "            arima_df.loc[i,\"bic\"] = results.bic\n",
    "            i = i+1\n",
    "        except:\n",
    "            #print(p, q, None, None)\n",
    "            i = i+1\n",
    "    \n",
    "arima_df[\"sum_aic_bic\"] = arima_df[\"aic\"]+arima_df[\"bic\"]\n",
    "arima_df.sort_values(by=\"aic\", ascending=False, inplace=True)\n",
    "arima_df"
   ]
  },
  {
   "cell_type": "code",
   "execution_count": null,
   "id": "53270a53",
   "metadata": {
    "id": "53270a53",
    "outputId": "1cfec4ff-2364-46f7-d8be-92430c6f8af5"
   },
   "outputs": [],
   "source": [
    "# Compute the model\n",
    "model2 = SARIMAX(balanced2, order=(3,1,3), seasonal_order=(0,1,0,6))\n",
    "results = model2.fit()\n",
    "results.summary()"
   ]
  },
  {
   "cell_type": "code",
   "execution_count": null,
   "id": "e2364760",
   "metadata": {
    "id": "e2364760",
    "outputId": "a29d1017-4cc6-48cb-80a9-da3e9f24a0e6"
   },
   "outputs": [],
   "source": [
    "# Show ---\n",
    "plt.rcParams['figure.figsize'] = 12, 8\n",
    "plot = results.plot_diagnostics()"
   ]
  },
  {
   "cell_type": "code",
   "execution_count": null,
   "id": "71ba224b",
   "metadata": {
    "id": "71ba224b",
    "outputId": "729c8bb1-cc31-42ec-943b-c948d988efa6"
   },
   "outputs": [],
   "source": [
    "# Prediction of the future\n",
    "\n",
    "# Create SARIMA mean forecast\n",
    "forecast = results.get_forecast(steps=30)\n",
    "lower = forecast.conf_int()[\"lower count\"]\n",
    "upper = forecast.conf_int()[\"upper count\"]\n",
    "\n",
    "# Plot mean SARIMA predictions\n",
    "fig,ax = plt.subplots(1,1,figsize=(20,10))\n",
    "\n",
    "plt.plot(balanced2, label='original')\n",
    "plt.plot(forecast.predicted_mean, label='SARIMAX', c=\"r\")\n",
    "\n",
    "plt.xticks(balanced2.index.unique())\n",
    "plt.locator_params(axis='x', nbins=10)\n",
    "\n",
    "plt.xlabel('time')\n",
    "plt.ylabel('Number of contracts')\n",
    "plt.title('Pre-covid Situation')\n",
    "plt.legend()\n",
    "plt.show()"
   ]
  },
  {
   "cell_type": "markdown",
   "id": "9d1e2150",
   "metadata": {
    "id": "9d1e2150"
   },
   "source": [
    "#### Pre vs Post COVID"
   ]
  },
  {
   "cell_type": "code",
   "execution_count": null,
   "id": "97c80ec7",
   "metadata": {
    "id": "97c80ec7",
    "outputId": "a2f1b6f7-19db-42a8-c4bb-a81115f5b09c"
   },
   "outputs": [],
   "source": [
    "# Extract only the elements of the post COVID years\n",
    "post_covid = transformed[transformed['ANNO']>=2019]\n",
    "post_covid"
   ]
  },
  {
   "cell_type": "markdown",
   "id": "528e2d69",
   "metadata": {
    "id": "528e2d69"
   },
   "source": [
    "##### Balancing"
   ]
  },
  {
   "cell_type": "code",
   "execution_count": null,
   "id": "9a7421bb",
   "metadata": {
    "id": "9a7421bb",
    "outputId": "a09941f3-b8c0-43e5-dec1-66967d7835bd"
   },
   "outputs": [],
   "source": [
    "# Check if the dataset is balanced\n",
    "post_covid[\"contratto_transformed\"].value_counts(normalize=True)"
   ]
  },
  {
   "cell_type": "code",
   "execution_count": null,
   "id": "3102aa0a",
   "metadata": {
    "id": "3102aa0a",
    "outputId": "db19edf1-16f0-4dc9-91ae-38af179ed663"
   },
   "outputs": [],
   "source": [
    "# Count the occurencies of INDETERMINATO's contracts\n",
    "post_covid[post_covid[\"contratto_transformed\"]==1].count()"
   ]
  },
  {
   "cell_type": "code",
   "execution_count": null,
   "id": "5ce86ee4",
   "metadata": {
    "id": "5ce86ee4",
    "outputId": "60d2310f-3cb5-4bde-dbfd-0ac1789d8f2e"
   },
   "outputs": [],
   "source": [
    "# Count the occurencies of NON INDETERMINATO's contracts\n",
    "post_covid[post_covid[\"contratto_transformed\"]==0].count()"
   ]
  },
  {
   "cell_type": "markdown",
   "id": "9ab5bc51",
   "metadata": {
    "id": "9ab5bc51"
   },
   "source": [
    "###### Random Undersampling"
   ]
  },
  {
   "cell_type": "code",
   "execution_count": null,
   "id": "ffad5d07",
   "metadata": {
    "id": "ffad5d07",
    "outputId": "b4b76a23-0fe7-4bae-a4c7-15d0fceaf2e4"
   },
   "outputs": [],
   "source": [
    "# Execute the undersampling for the NON INDETERMINATO's contracts\n",
    "data_0 = post_covid[post_covid[\"contratto_transformed\"]==0].sample(n=287419,random_state=16) \n",
    "data_1 = post_covid[post_covid[\"contratto_transformed\"]==1]\n",
    "balanced_covid = data_0.append(data_1)\n",
    "balanced_covid"
   ]
  },
  {
   "cell_type": "code",
   "execution_count": null,
   "id": "45950c2f",
   "metadata": {
    "id": "45950c2f",
    "outputId": "cef06202-cdad-406c-b61b-b763dd871fae"
   },
   "outputs": [],
   "source": [
    "# Check if the dataset is balanced\n",
    "balanced_covid[\"contratto_transformed\"].value_counts(normalize=True)"
   ]
  },
  {
   "cell_type": "markdown",
   "id": "1d04072a",
   "metadata": {},
   "source": [
    "##### Prediction"
   ]
  },
  {
   "cell_type": "code",
   "execution_count": null,
   "id": "e2c7c3c7",
   "metadata": {
    "id": "e2c7c3c7",
    "outputId": "7724f906-8b96-4e83-feb5-4b2ff438bd89"
   },
   "outputs": [],
   "source": [
    "# Set mese-anno like index\n",
    "# Show count of contract for each mese-anno\n",
    "balanced_covid1 = balanced_covid.groupby(\"mese-anno\").size().reset_index(name='count')\n",
    "balanced_covid1 = balanced_covid1.set_index('mese-anno')\n",
    "f, ax1 = plt.subplots(1,1,figsize=(15,5))\n",
    "balanced_covid1.plot(ax=ax1)\n",
    "ax1.set_xlabel(\"time\")\n",
    "ax1.set_ylabel(\"Number of Contracts\")"
   ]
  },
  {
   "cell_type": "code",
   "execution_count": null,
   "id": "2b128a8b",
   "metadata": {
    "id": "2b128a8b",
    "outputId": "cc01cb37-f0dd-4536-9c96-f8d66b3ff3c4"
   },
   "outputs": [],
   "source": [
    "# Create SARIMA mean forecast\n",
    "forecast = results.get_forecast(steps=30)\n",
    "lower = forecast.conf_int()[\"lower count\"]\n",
    "upper = forecast.conf_int()[\"upper count\"]\n",
    "\n",
    "# Plot mean SARIMA predictions\n",
    "fig,ax = plt.subplots(1,1,figsize=(20,10))\n",
    "\n",
    "plt.plot(balanced2, label='Real values before COVID')\n",
    "plt.plot(forecast.predicted_mean, label='SARIMAX prediction', c=\"r\")\n",
    "plt.plot(balanced_covid1, label='Real values after COVID', c='g')\n",
    "plt.xticks(balanced2.index.unique())\n",
    "plt.locator_params(axis='x', nbins=10)\n",
    "\n",
    "plt.xlabel('time')\n",
    "plt.ylabel('Number of contracts')\n",
    "plt.title('COVID Situation (Checking)')\n",
    "plt.legend()\n",
    "plt.show()"
   ]
  },
  {
   "cell_type": "markdown",
   "id": "9ab3a551",
   "metadata": {
    "id": "9ab3a551"
   },
   "source": [
    "#### Results"
   ]
  },
  {
   "cell_type": "markdown",
   "id": "0288d9b2",
   "metadata": {
    "id": "0288d9b2"
   },
   "source": [
    "As we can see in the graph, the COVID situation led to decrease in the number of contracts, compared to the prediction based on data through 2019. "
   ]
  }
 ],
 "metadata": {
  "colab": {
   "name": "LAB3.ipynb",
   "provenance": []
  },
  "kernelspec": {
   "display_name": "Python 3 (ipykernel)",
   "language": "python",
   "name": "python3"
  },
  "language_info": {
   "codemirror_mode": {
    "name": "ipython",
    "version": 3
   },
   "file_extension": ".py",
   "mimetype": "text/x-python",
   "name": "python",
   "nbconvert_exporter": "python",
   "pygments_lexer": "ipython3",
   "version": "3.8.12"
  }
 },
 "nbformat": 4,
 "nbformat_minor": 5
}
