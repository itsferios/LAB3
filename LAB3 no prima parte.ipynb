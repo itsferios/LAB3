{
 "cells": [
  {
   "cell_type": "markdown",
   "id": "29fe2263",
   "metadata": {},
   "source": [
    "                        Project done by Michela Pirozzi MAT:732531 and Sara Ferioli MAT:733105"
   ]
  },
  {
   "cell_type": "markdown",
   "id": "ae64e88b",
   "metadata": {},
   "source": [
    "# LAB 3"
   ]
  },
  {
   "cell_type": "markdown",
   "id": "d8d000c5",
   "metadata": {},
   "source": [
    "## Goal"
   ]
  },
  {
   "cell_type": "markdown",
   "id": "8e553508",
   "metadata": {},
   "source": [
    "* Date le feature del dataset,  qualè la combinazione migliore che permette di avere un nuovo contratto (Es. INDETERMINATO) prima del covid? la combinazione di feature è la stessa anche dopo il covid?\n",
    "* predirre numero di contratti"
   ]
  },
  {
   "cell_type": "markdown",
   "id": "e5e24639",
   "metadata": {},
   "source": [
    "## Libraries"
   ]
  },
  {
   "cell_type": "code",
   "execution_count": 1,
   "id": "c7d9c7b4",
   "metadata": {},
   "outputs": [],
   "source": [
    "import pandas as pd\n",
    "import numpy as np\n",
    "import matplotlib as mpl\n",
    "import matplotlib.pyplot as plt\n",
    "from sklearn import preprocessing\n",
    "from statsmodels.tsa.stattools import adfuller\n",
    "from sklearn.linear_model import LinearRegression\n",
    "from sklearn.metrics import mean_squared_error\n",
    "from sklearn.model_selection import train_test_split\n",
    "from sklearn import tree\n",
    "from sklearn.tree import DecisionTreeClassifier\n",
    "import seaborn as sns\n",
    "from statsmodels.tsa.seasonal import seasonal_decompose\n",
    "from statsmodels.tsa.holtwinters import SimpleExpSmoothing, ExponentialSmoothing\n",
    "from statsmodels.tsa.api import ExponentialSmoothing, SimpleExpSmoothing\n",
    "from statsmodels.graphics.tsaplots import plot_acf, plot_pacf\n",
    "from statsmodels.tsa.arima_model import ARIMA\n",
    "from statsmodels.tsa.statespace.sarimax import SARIMAX\n",
    "from sklearn.ensemble import ExtraTreesRegressor\n",
    "from sklearn.metrics import accuracy_score\n",
    "from sklearn.model_selection import ParameterGrid, GridSearchCV\n",
    "from sklearn.metrics import make_scorer\n",
    "from sklearn import svm\n",
    "from sklearn.neighbors import KNeighborsClassifier\n",
    "from sklearn import metrics\n",
    "import warnings\n",
    "warnings.filterwarnings('ignore')"
   ]
  },
  {
   "cell_type": "markdown",
   "id": "acbba537",
   "metadata": {},
   "source": [
    "## Import data and analysis"
   ]
  },
  {
   "cell_type": "code",
   "execution_count": 2,
   "id": "d22b3239",
   "metadata": {},
   "outputs": [
    {
     "data": {
      "text/html": [
       "<div>\n",
       "<style scoped>\n",
       "    .dataframe tbody tr th:only-of-type {\n",
       "        vertical-align: middle;\n",
       "    }\n",
       "\n",
       "    .dataframe tbody tr th {\n",
       "        vertical-align: top;\n",
       "    }\n",
       "\n",
       "    .dataframe thead th {\n",
       "        text-align: right;\n",
       "    }\n",
       "</style>\n",
       "<table border=\"1\" class=\"dataframe\">\n",
       "  <thead>\n",
       "    <tr style=\"text-align: right;\">\n",
       "      <th></th>\n",
       "      <th>ETA</th>\n",
       "      <th>ANNO</th>\n",
       "      <th>nazionalita_transformed</th>\n",
       "      <th>contratto_transformed</th>\n",
       "      <th>genere_transformed</th>\n",
       "      <th>Output_transformed</th>\n",
       "    </tr>\n",
       "  </thead>\n",
       "  <tbody>\n",
       "    <tr>\n",
       "      <th>0</th>\n",
       "      <td>25</td>\n",
       "      <td>2014</td>\n",
       "      <td>89</td>\n",
       "      <td>0</td>\n",
       "      <td>1</td>\n",
       "      <td>13966</td>\n",
       "    </tr>\n",
       "    <tr>\n",
       "      <th>1</th>\n",
       "      <td>46</td>\n",
       "      <td>2011</td>\n",
       "      <td>89</td>\n",
       "      <td>0</td>\n",
       "      <td>0</td>\n",
       "      <td>13797</td>\n",
       "    </tr>\n",
       "    <tr>\n",
       "      <th>2</th>\n",
       "      <td>24</td>\n",
       "      <td>2016</td>\n",
       "      <td>144</td>\n",
       "      <td>0</td>\n",
       "      <td>0</td>\n",
       "      <td>6674</td>\n",
       "    </tr>\n",
       "    <tr>\n",
       "      <th>3</th>\n",
       "      <td>38</td>\n",
       "      <td>2020</td>\n",
       "      <td>89</td>\n",
       "      <td>0</td>\n",
       "      <td>1</td>\n",
       "      <td>26059</td>\n",
       "    </tr>\n",
       "    <tr>\n",
       "      <th>4</th>\n",
       "      <td>32</td>\n",
       "      <td>2012</td>\n",
       "      <td>89</td>\n",
       "      <td>0</td>\n",
       "      <td>1</td>\n",
       "      <td>26698</td>\n",
       "    </tr>\n",
       "    <tr>\n",
       "      <th>...</th>\n",
       "      <td>...</td>\n",
       "      <td>...</td>\n",
       "      <td>...</td>\n",
       "      <td>...</td>\n",
       "      <td>...</td>\n",
       "      <td>...</td>\n",
       "    </tr>\n",
       "    <tr>\n",
       "      <th>2703939</th>\n",
       "      <td>26</td>\n",
       "      <td>2019</td>\n",
       "      <td>89</td>\n",
       "      <td>1</td>\n",
       "      <td>1</td>\n",
       "      <td>18030</td>\n",
       "    </tr>\n",
       "    <tr>\n",
       "      <th>2703940</th>\n",
       "      <td>28</td>\n",
       "      <td>2014</td>\n",
       "      <td>89</td>\n",
       "      <td>1</td>\n",
       "      <td>1</td>\n",
       "      <td>18031</td>\n",
       "    </tr>\n",
       "    <tr>\n",
       "      <th>2703941</th>\n",
       "      <td>33</td>\n",
       "      <td>2009</td>\n",
       "      <td>89</td>\n",
       "      <td>1</td>\n",
       "      <td>0</td>\n",
       "      <td>18036</td>\n",
       "    </tr>\n",
       "    <tr>\n",
       "      <th>2703942</th>\n",
       "      <td>34</td>\n",
       "      <td>2021</td>\n",
       "      <td>89</td>\n",
       "      <td>1</td>\n",
       "      <td>0</td>\n",
       "      <td>18031</td>\n",
       "    </tr>\n",
       "    <tr>\n",
       "      <th>2703943</th>\n",
       "      <td>34</td>\n",
       "      <td>2011</td>\n",
       "      <td>89</td>\n",
       "      <td>1</td>\n",
       "      <td>0</td>\n",
       "      <td>18021</td>\n",
       "    </tr>\n",
       "  </tbody>\n",
       "</table>\n",
       "<p>2703944 rows × 6 columns</p>\n",
       "</div>"
      ],
      "text/plain": [
       "         ETA  ANNO  nazionalita_transformed  contratto_transformed  \\\n",
       "0         25  2014                       89                      0   \n",
       "1         46  2011                       89                      0   \n",
       "2         24  2016                      144                      0   \n",
       "3         38  2020                       89                      0   \n",
       "4         32  2012                       89                      0   \n",
       "...      ...   ...                      ...                    ...   \n",
       "2703939   26  2019                       89                      1   \n",
       "2703940   28  2014                       89                      1   \n",
       "2703941   33  2009                       89                      1   \n",
       "2703942   34  2021                       89                      1   \n",
       "2703943   34  2011                       89                      1   \n",
       "\n",
       "         genere_transformed  Output_transformed  \n",
       "0                         1               13966  \n",
       "1                         0               13797  \n",
       "2                         0                6674  \n",
       "3                         1               26059  \n",
       "4                         1               26698  \n",
       "...                     ...                 ...  \n",
       "2703939                   1               18030  \n",
       "2703940                   1               18031  \n",
       "2703941                   0               18036  \n",
       "2703942                   0               18031  \n",
       "2703943                   0               18021  \n",
       "\n",
       "[2703944 rows x 6 columns]"
      ]
     },
     "execution_count": 2,
     "metadata": {},
     "output_type": "execute_result"
    }
   ],
   "source": [
    "# Load the dataset\n",
    "transformed = pd.read_csv('transformed.csv')\n",
    "transformed = transformed.drop(labels='Unnamed: 0', axis=1)\n",
    "transformed"
   ]
  },
  {
   "cell_type": "markdown",
   "id": "c56cbd2b",
   "metadata": {},
   "source": [
    "### Balancing"
   ]
  },
  {
   "cell_type": "code",
   "execution_count": null,
   "id": "7bb1d59b",
   "metadata": {},
   "outputs": [],
   "source": [
    "# Check if the dataset is balanced\n",
    "transformed[\"contratto_transformed\"].value_counts(normalize=True)"
   ]
  },
  {
   "cell_type": "markdown",
   "id": "2f185139",
   "metadata": {},
   "source": [
    "We notice that the dataset is not balanced basing on the type of contract"
   ]
  },
  {
   "cell_type": "code",
   "execution_count": null,
   "id": "a3563ae3",
   "metadata": {},
   "outputs": [],
   "source": [
    "# Count the occurencies of INDETERMINATO's contracts\n",
    "transformed[transformed[\"contratto_transformed\"]==1].count()"
   ]
  },
  {
   "cell_type": "code",
   "execution_count": null,
   "id": "2a5a84c6",
   "metadata": {},
   "outputs": [],
   "source": [
    "# Count the occurencies of NON INDETERMINATO's contracts\n",
    "transformed[transformed[\"contratto_transformed\"]==0].count()"
   ]
  },
  {
   "cell_type": "markdown",
   "id": "f6993599",
   "metadata": {},
   "source": [
    "#### Random Undersampling"
   ]
  },
  {
   "cell_type": "markdown",
   "id": "14fc4d05",
   "metadata": {},
   "source": [
    "We use undersampling instead of oversampling because we care more about the INDETERMINATO's contracts which have less occurencies, even if there are the possibilities to lose some informations."
   ]
  },
  {
   "cell_type": "code",
   "execution_count": null,
   "id": "d3b98ca6",
   "metadata": {},
   "outputs": [],
   "source": [
    "# Execute the undersampling for the NON INDETERMINATO's contracts\n",
    "data_0 = transformed[transformed[\"contratto_transformed\"]==0].sample(n=1351972,random_state=16) \n",
    "data_1 = transformed[transformed[\"contratto_transformed\"]==1]\n",
    "balanced = data_0.append(data_1)\n",
    "balanced"
   ]
  },
  {
   "cell_type": "code",
   "execution_count": null,
   "id": "a1285656",
   "metadata": {},
   "outputs": [],
   "source": [
    "# Check if the dataset is balanced\n",
    "balanced[\"contratto_transformed\"].value_counts(normalize=True)"
   ]
  },
  {
   "cell_type": "markdown",
   "id": "c5aad301",
   "metadata": {},
   "source": [
    "## Create the train and test sets"
   ]
  },
  {
   "cell_type": "code",
   "execution_count": 3,
   "id": "e9c76877",
   "metadata": {},
   "outputs": [],
   "source": [
    "# Create the train and test sets\n",
    "X = balanced[[\"ETA\",\"ANNO\",\"contratto_transformed\",\"nazionalita_transformed\",\"genere_transformed\"]].values\n",
    "y = pd.DataFrame(balanced['Output_transformed'].copy()).values\n",
    "\n",
    "X_train, X_test, y_train, y_test = train_test_split(X, y, test_size = 0.3, random_state = 7)"
   ]
  },
  {
   "cell_type": "code",
   "execution_count": 4,
   "id": "3a6cecec",
   "metadata": {},
   "outputs": [],
   "source": [
    "# To avoid the MemoryError, we change the dataset's type into a new lighter one\n",
    "X_train=X_train.astype(np.uint8)\n",
    "y_train=y_train.astype(np.uint8)"
   ]
  },
  {
   "cell_type": "markdown",
   "id": "331a25ad",
   "metadata": {},
   "source": [
    "## Find the best max_depth"
   ]
  },
  {
   "cell_type": "code",
   "execution_count": 5,
   "id": "044dd1be",
   "metadata": {},
   "outputs": [
    {
     "data": {
      "text/plain": [
       "<matplotlib.legend.Legend at 0x24696392100>"
      ]
     },
     "execution_count": 5,
     "metadata": {},
     "output_type": "execute_result"
    },
    {
     "data": {
      "image/png": "[encoded data removed]",
      "text/plain": [
       "<Figure size 432x288 with 1 Axes>"
      ]
     },
     "metadata": {
      "needs_background": "light"
     },
     "output_type": "display_data"
    }
   ],
   "source": [
    "# Find the max depth neccessary for the Decision tree\n",
    "max_depth = []\n",
    "acc_gini = []\n",
    "acc_entropy = []\n",
    "for i in range(1,30):\n",
    "     dtree = DecisionTreeClassifier(criterion='gini', max_depth=i)\n",
    "     dtree.fit(X_train, y_train)\n",
    "     pred = dtree.predict(X_test)\n",
    "     acc_gini.append(accuracy_score(y_test, pred))\n",
    "     ####\n",
    "     dtree = DecisionTreeClassifier(criterion='entropy', max_depth=i)\n",
    "     dtree.fit(X_train, y_train)\n",
    "     pred = dtree.predict(X_test)\n",
    "     acc_entropy.append(accuracy_score(y_test, pred))\n",
    "     ####\n",
    "     max_depth.append(i)\n",
    "d = pd.DataFrame({'acc_gini':pd.Series(acc_gini), \n",
    " 'acc_entropy':pd.Series(acc_entropy),\n",
    " 'max_depth':pd.Series(max_depth)})\n",
    "# visualizing changes in parameters\n",
    "plt.plot('max_depth','acc_gini', data=d, label='gini')\n",
    "plt.plot('max_depth','acc_entropy', data=d, label='entropy')\n",
    "plt.xlabel('max_depth')\n",
    "plt.ylabel('accuracy')\n",
    "plt.legend()"
   ]
  },
  {
   "cell_type": "markdown",
   "id": "0576bdb6",
   "metadata": {},
   "source": [
    "We notice that the best accuracy is when max_depth is (more or less) equal to 10."
   ]
  },
  {
   "cell_type": "markdown",
   "id": "6b6dae18",
   "metadata": {},
   "source": [
    "## Decision Tree"
   ]
  },
  {
   "cell_type": "code",
   "execution_count": 6,
   "id": "230f8705",
   "metadata": {},
   "outputs": [],
   "source": [
    "# Method that allow to calculate the decision tree\n",
    "# syntax:\n",
    "# X_train: input train dataframe\n",
    "# y_train: output train dataframe\n",
    "def dct(X_train, y_train):\n",
    "    dct = tree.DecisionTreeClassifier()\n",
    "    \n",
    "    DecisionTreeClassifier(criterion='entropy', splitter='best', max_depth=10,\n",
    "                           min_samples_split=2, min_samples_leaf=1, min_weight_fraction_leaf=0.0, max_features=None, \n",
    "                           random_state=None, max_leaf_nodes=None, min_impurity_decrease=0.0, \n",
    "                           class_weight=None)\n",
    "    \n",
    "    return dct"
   ]
  },
  {
   "cell_type": "code",
   "execution_count": 7,
   "id": "fe8a6ebf",
   "metadata": {},
   "outputs": [
    {
     "data": {
      "text/plain": [
       "DecisionTreeClassifier()"
      ]
     },
     "execution_count": 7,
     "metadata": {},
     "output_type": "execute_result"
    }
   ],
   "source": [
    "# Create Decision tree and fit it\n",
    "dct = dct(X_train, y_train)\n",
    "dct.fit(X_train, y_train)"
   ]
  },
  {
   "cell_type": "code",
   "execution_count": 8,
   "id": "bc2c1eba",
   "metadata": {},
   "outputs": [],
   "source": [
    "# With the following sintax we will create a .dot file with the code for visualizing th tree\n",
    "tree.export_graphviz(dct, out_file='tree.dot', feature_names=[\"ETA\",\"ANNO\",\"contratto_transformed\",\"nazionalita_transformed\",\"genere_transformed\"])"
   ]
  },
  {
   "cell_type": "code",
   "execution_count": null,
   "id": "3c953171",
   "metadata": {},
   "outputs": [],
   "source": [
    "# Show Decision tree\n",
    "tree.plot_tree(dct)"
   ]
  },
  {
   "cell_type": "code",
   "execution_count": 9,
   "id": "902caa02",
   "metadata": {},
   "outputs": [
    {
     "data": {
      "text/plain": [
       "array([[0.00239234, 0.00717703, 0.00239234, ..., 0.        , 0.        ,\n",
       "        0.        ],\n",
       "       [0.00104822, 0.00209644, 0.00733753, ..., 0.00419287, 0.        ,\n",
       "        0.00104822],\n",
       "       [0.        , 0.        , 0.        , ..., 0.        , 0.        ,\n",
       "        0.        ],\n",
       "       ...,\n",
       "       [0.        , 0.00274725, 0.00824176, ..., 0.00274725, 0.00274725,\n",
       "        0.00549451],\n",
       "       [0.00197628, 0.00197628, 0.00790514, ..., 0.00197628, 0.01581028,\n",
       "        0.00395257],\n",
       "       [0.        , 0.        , 0.        , ..., 0.        , 0.        ,\n",
       "        0.        ]])"
      ]
     },
     "execution_count": 9,
     "metadata": {},
     "output_type": "execute_result"
    }
   ],
   "source": [
    "# Probablistic prediction the values\n",
    "y_pred_prob = dct.predict_proba(X_test)\n",
    "y_pred_prob"
   ]
  },
  {
   "cell_type": "code",
   "execution_count": 10,
   "id": "69a5d680",
   "metadata": {},
   "outputs": [
    {
     "data": {
      "text/plain": [
       "array([ 79, 120,  51, ...,  79, 186,  26], dtype=uint8)"
      ]
     },
     "execution_count": 10,
     "metadata": {},
     "output_type": "execute_result"
    }
   ],
   "source": [
    "# Predict the values\n",
    "y_pred = dct.predict(X_test)\n",
    "y_pred"
   ]
  },
  {
   "cell_type": "markdown",
   "id": "37dadee4",
   "metadata": {},
   "source": [
    "### Confusion matrix"
   ]
  },
  {
   "cell_type": "code",
   "execution_count": 11,
   "id": "c82eaf89",
   "metadata": {},
   "outputs": [
    {
     "name": "stdout",
     "output_type": "stream",
     "text": [
      "[[  2   3  36 ...   1   2   1]\n",
      " [  2   2  31 ...   0   4   0]\n",
      " [ 42  15 465 ...   1  11   1]\n",
      " ...\n",
      " [  6   3  67 ...   2   8   0]\n",
      " [  6   0  52 ...   2 153   2]\n",
      " [  1   0  28 ...   0  10  15]]\n"
     ]
    }
   ],
   "source": [
    "# To avoid the MemoryError, we change the dataset's type into a new lighter one\n",
    "y_test=y_test.astype(np.uint8)\n",
    "y_pred=y_pred.astype(np.uint8)\n",
    "\n",
    "# Print the confusion matrix\n",
    "confusion = metrics.confusion_matrix(y_test, y_pred)\n",
    "print(confusion)"
   ]
  },
  {
   "cell_type": "markdown",
   "id": "a7cd063d",
   "metadata": {},
   "source": [
    "### Prune the tree"
   ]
  },
  {
   "cell_type": "markdown",
   "id": "45273a77",
   "metadata": {},
   "source": [
    "#### Best Depth Tree"
   ]
  },
  {
   "cell_type": "code",
   "execution_count": null,
   "id": "33ae826d",
   "metadata": {},
   "outputs": [],
   "source": [
    "# Calculate the max depth in the decision tree ?????\n",
    "max_depth = dct.get_depth()\n",
    "max_depth"
   ]
  },
  {
   "cell_type": "code",
   "execution_count": null,
   "id": "0014d1f3",
   "metadata": {},
   "outputs": [],
   "source": [
    "# va all'infinito\n",
    "max_depth_grid_search = GridSearchCV(estimator=DecisionTreeClassifier(random_state=42),\n",
    "                                    scoring=make_scorer(accuracy_score),\n",
    "                                    param_grid=ParameterGrid({\"max_depth\":[[max_depth] for max_depth in range(1, max_depth+1)]}),)\n",
    "max_depth_grid_search.fit(X_train, y_train)"
   ]
  },
  {
   "cell_type": "code",
   "execution_count": null,
   "id": "5e8529a0",
   "metadata": {},
   "outputs": [],
   "source": [
    "# \n",
    "max_depth_grid_search.best_params_"
   ]
  },
  {
   "cell_type": "code",
   "execution_count": null,
   "id": "c12277d0",
   "metadata": {},
   "outputs": [],
   "source": [
    "# \n",
    "best_max_depth_tree=max_depth_grid_search.best_estimator_\n",
    "best_max_depth = best_max_depth_tree.get_depth()\n",
    "\n",
    "plt.figure(figsize=(4,4), dpi=1000)\n",
    "plot_tree(best_max_depth_tree,\n",
    "         feature_names=[\"ETA\",\"ANNO\",\"contratto_transformed\",\"nazionalita_transformed\",\"genere_transformed\"],\n",
    "          filled=True,)\n",
    "plt.show()"
   ]
  },
  {
   "cell_type": "markdown",
   "id": "6896cf68",
   "metadata": {},
   "source": [
    "#### Pruned Tree"
   ]
  },
  {
   "cell_type": "code",
   "execution_count": 39,
   "id": "d770e9f5",
   "metadata": {},
   "outputs": [
    {
     "ename": "KeyboardInterrupt",
     "evalue": "",
     "output_type": "error",
     "traceback": [
      "\u001b[1;31m---------------------------------------------------------------------------\u001b[0m",
      "\u001b[1;31mKeyboardInterrupt\u001b[0m                         Traceback (most recent call last)",
      "\u001b[1;32m~\\AppData\\Local\\Temp/ipykernel_23100/2625787953.py\u001b[0m in \u001b[0;36m<module>\u001b[1;34m\u001b[0m\n\u001b[0;32m      6\u001b[0m                                     \u001b[0mscoring\u001b[0m\u001b[1;33m=\u001b[0m\u001b[0mmake_scorer\u001b[0m\u001b[1;33m(\u001b[0m\u001b[0maccuracy_score\u001b[0m\u001b[1;33m)\u001b[0m\u001b[1;33m,\u001b[0m\u001b[1;33m\u001b[0m\u001b[1;33m\u001b[0m\u001b[0m\n\u001b[0;32m      7\u001b[0m                                     param_grid=ParameterGrid({\"ccp_alpha\":[[alpha] for alpha in ccp_alphas]}),)\n\u001b[1;32m----> 8\u001b[1;33m \u001b[0mccp_alphas_grid_search\u001b[0m\u001b[1;33m.\u001b[0m\u001b[0mfit\u001b[0m\u001b[1;33m(\u001b[0m\u001b[0mX_train\u001b[0m\u001b[1;33m,\u001b[0m \u001b[0my_train\u001b[0m\u001b[1;33m)\u001b[0m\u001b[1;33m\u001b[0m\u001b[1;33m\u001b[0m\u001b[0m\n\u001b[0m",
      "\u001b[1;32m~\\anaconda3\\envs\\insubria\\lib\\site-packages\\sklearn\\model_selection\\_search.py\u001b[0m in \u001b[0;36mfit\u001b[1;34m(self, X, y, groups, **fit_params)\u001b[0m\n\u001b[0;32m    889\u001b[0m                 \u001b[1;32mreturn\u001b[0m \u001b[0mresults\u001b[0m\u001b[1;33m\u001b[0m\u001b[1;33m\u001b[0m\u001b[0m\n\u001b[0;32m    890\u001b[0m \u001b[1;33m\u001b[0m\u001b[0m\n\u001b[1;32m--> 891\u001b[1;33m             \u001b[0mself\u001b[0m\u001b[1;33m.\u001b[0m\u001b[0m_run_search\u001b[0m\u001b[1;33m(\u001b[0m\u001b[0mevaluate_candidates\u001b[0m\u001b[1;33m)\u001b[0m\u001b[1;33m\u001b[0m\u001b[1;33m\u001b[0m\u001b[0m\n\u001b[0m\u001b[0;32m    892\u001b[0m \u001b[1;33m\u001b[0m\u001b[0m\n\u001b[0;32m    893\u001b[0m             \u001b[1;31m# multimetric is determined here because in the case of a callable\u001b[0m\u001b[1;33m\u001b[0m\u001b[1;33m\u001b[0m\u001b[1;33m\u001b[0m\u001b[0m\n",
      "\u001b[1;32m~\\anaconda3\\envs\\insubria\\lib\\site-packages\\sklearn\\model_selection\\_search.py\u001b[0m in \u001b[0;36m_run_search\u001b[1;34m(self, evaluate_candidates)\u001b[0m\n\u001b[0;32m   1390\u001b[0m     \u001b[1;32mdef\u001b[0m \u001b[0m_run_search\u001b[0m\u001b[1;33m(\u001b[0m\u001b[0mself\u001b[0m\u001b[1;33m,\u001b[0m \u001b[0mevaluate_candidates\u001b[0m\u001b[1;33m)\u001b[0m\u001b[1;33m:\u001b[0m\u001b[1;33m\u001b[0m\u001b[1;33m\u001b[0m\u001b[0m\n\u001b[0;32m   1391\u001b[0m         \u001b[1;34m\"\"\"Search all candidates in param_grid\"\"\"\u001b[0m\u001b[1;33m\u001b[0m\u001b[1;33m\u001b[0m\u001b[0m\n\u001b[1;32m-> 1392\u001b[1;33m         \u001b[0mevaluate_candidates\u001b[0m\u001b[1;33m(\u001b[0m\u001b[0mParameterGrid\u001b[0m\u001b[1;33m(\u001b[0m\u001b[0mself\u001b[0m\u001b[1;33m.\u001b[0m\u001b[0mparam_grid\u001b[0m\u001b[1;33m)\u001b[0m\u001b[1;33m)\u001b[0m\u001b[1;33m\u001b[0m\u001b[1;33m\u001b[0m\u001b[0m\n\u001b[0m\u001b[0;32m   1393\u001b[0m \u001b[1;33m\u001b[0m\u001b[0m\n\u001b[0;32m   1394\u001b[0m \u001b[1;33m\u001b[0m\u001b[0m\n",
      "\u001b[1;32m~\\anaconda3\\envs\\insubria\\lib\\site-packages\\sklearn\\model_selection\\_search.py\u001b[0m in \u001b[0;36mevaluate_candidates\u001b[1;34m(candidate_params, cv, more_results)\u001b[0m\n\u001b[0;32m    836\u001b[0m                     )\n\u001b[0;32m    837\u001b[0m \u001b[1;33m\u001b[0m\u001b[0m\n\u001b[1;32m--> 838\u001b[1;33m                 out = parallel(\n\u001b[0m\u001b[0;32m    839\u001b[0m                     delayed(_fit_and_score)(\n\u001b[0;32m    840\u001b[0m                         \u001b[0mclone\u001b[0m\u001b[1;33m(\u001b[0m\u001b[0mbase_estimator\u001b[0m\u001b[1;33m)\u001b[0m\u001b[1;33m,\u001b[0m\u001b[1;33m\u001b[0m\u001b[1;33m\u001b[0m\u001b[0m\n",
      "\u001b[1;32m~\\anaconda3\\envs\\insubria\\lib\\site-packages\\joblib\\parallel.py\u001b[0m in \u001b[0;36m__call__\u001b[1;34m(self, iterable)\u001b[0m\n\u001b[0;32m   1044\u001b[0m                 \u001b[0mself\u001b[0m\u001b[1;33m.\u001b[0m\u001b[0m_iterating\u001b[0m \u001b[1;33m=\u001b[0m \u001b[0mself\u001b[0m\u001b[1;33m.\u001b[0m\u001b[0m_original_iterator\u001b[0m \u001b[1;32mis\u001b[0m \u001b[1;32mnot\u001b[0m \u001b[1;32mNone\u001b[0m\u001b[1;33m\u001b[0m\u001b[1;33m\u001b[0m\u001b[0m\n\u001b[0;32m   1045\u001b[0m \u001b[1;33m\u001b[0m\u001b[0m\n\u001b[1;32m-> 1046\u001b[1;33m             \u001b[1;32mwhile\u001b[0m \u001b[0mself\u001b[0m\u001b[1;33m.\u001b[0m\u001b[0mdispatch_one_batch\u001b[0m\u001b[1;33m(\u001b[0m\u001b[0miterator\u001b[0m\u001b[1;33m)\u001b[0m\u001b[1;33m:\u001b[0m\u001b[1;33m\u001b[0m\u001b[1;33m\u001b[0m\u001b[0m\n\u001b[0m\u001b[0;32m   1047\u001b[0m                 \u001b[1;32mpass\u001b[0m\u001b[1;33m\u001b[0m\u001b[1;33m\u001b[0m\u001b[0m\n\u001b[0;32m   1048\u001b[0m \u001b[1;33m\u001b[0m\u001b[0m\n",
      "\u001b[1;32m~\\anaconda3\\envs\\insubria\\lib\\site-packages\\joblib\\parallel.py\u001b[0m in \u001b[0;36mdispatch_one_batch\u001b[1;34m(self, iterator)\u001b[0m\n\u001b[0;32m    859\u001b[0m                 \u001b[1;32mreturn\u001b[0m \u001b[1;32mFalse\u001b[0m\u001b[1;33m\u001b[0m\u001b[1;33m\u001b[0m\u001b[0m\n\u001b[0;32m    860\u001b[0m             \u001b[1;32melse\u001b[0m\u001b[1;33m:\u001b[0m\u001b[1;33m\u001b[0m\u001b[1;33m\u001b[0m\u001b[0m\n\u001b[1;32m--> 861\u001b[1;33m                 \u001b[0mself\u001b[0m\u001b[1;33m.\u001b[0m\u001b[0m_dispatch\u001b[0m\u001b[1;33m(\u001b[0m\u001b[0mtasks\u001b[0m\u001b[1;33m)\u001b[0m\u001b[1;33m\u001b[0m\u001b[1;33m\u001b[0m\u001b[0m\n\u001b[0m\u001b[0;32m    862\u001b[0m                 \u001b[1;32mreturn\u001b[0m \u001b[1;32mTrue\u001b[0m\u001b[1;33m\u001b[0m\u001b[1;33m\u001b[0m\u001b[0m\n\u001b[0;32m    863\u001b[0m \u001b[1;33m\u001b[0m\u001b[0m\n",
      "\u001b[1;32m~\\anaconda3\\envs\\insubria\\lib\\site-packages\\joblib\\parallel.py\u001b[0m in \u001b[0;36m_dispatch\u001b[1;34m(self, batch)\u001b[0m\n\u001b[0;32m    777\u001b[0m         \u001b[1;32mwith\u001b[0m \u001b[0mself\u001b[0m\u001b[1;33m.\u001b[0m\u001b[0m_lock\u001b[0m\u001b[1;33m:\u001b[0m\u001b[1;33m\u001b[0m\u001b[1;33m\u001b[0m\u001b[0m\n\u001b[0;32m    778\u001b[0m             \u001b[0mjob_idx\u001b[0m \u001b[1;33m=\u001b[0m \u001b[0mlen\u001b[0m\u001b[1;33m(\u001b[0m\u001b[0mself\u001b[0m\u001b[1;33m.\u001b[0m\u001b[0m_jobs\u001b[0m\u001b[1;33m)\u001b[0m\u001b[1;33m\u001b[0m\u001b[1;33m\u001b[0m\u001b[0m\n\u001b[1;32m--> 779\u001b[1;33m             \u001b[0mjob\u001b[0m \u001b[1;33m=\u001b[0m \u001b[0mself\u001b[0m\u001b[1;33m.\u001b[0m\u001b[0m_backend\u001b[0m\u001b[1;33m.\u001b[0m\u001b[0mapply_async\u001b[0m\u001b[1;33m(\u001b[0m\u001b[0mbatch\u001b[0m\u001b[1;33m,\u001b[0m \u001b[0mcallback\u001b[0m\u001b[1;33m=\u001b[0m\u001b[0mcb\u001b[0m\u001b[1;33m)\u001b[0m\u001b[1;33m\u001b[0m\u001b[1;33m\u001b[0m\u001b[0m\n\u001b[0m\u001b[0;32m    780\u001b[0m             \u001b[1;31m# A job can complete so quickly than its callback is\u001b[0m\u001b[1;33m\u001b[0m\u001b[1;33m\u001b[0m\u001b[1;33m\u001b[0m\u001b[0m\n\u001b[0;32m    781\u001b[0m             \u001b[1;31m# called before we get here, causing self._jobs to\u001b[0m\u001b[1;33m\u001b[0m\u001b[1;33m\u001b[0m\u001b[1;33m\u001b[0m\u001b[0m\n",
      "\u001b[1;32m~\\anaconda3\\envs\\insubria\\lib\\site-packages\\joblib\\_parallel_backends.py\u001b[0m in \u001b[0;36mapply_async\u001b[1;34m(self, func, callback)\u001b[0m\n\u001b[0;32m    206\u001b[0m     \u001b[1;32mdef\u001b[0m \u001b[0mapply_async\u001b[0m\u001b[1;33m(\u001b[0m\u001b[0mself\u001b[0m\u001b[1;33m,\u001b[0m \u001b[0mfunc\u001b[0m\u001b[1;33m,\u001b[0m \u001b[0mcallback\u001b[0m\u001b[1;33m=\u001b[0m\u001b[1;32mNone\u001b[0m\u001b[1;33m)\u001b[0m\u001b[1;33m:\u001b[0m\u001b[1;33m\u001b[0m\u001b[1;33m\u001b[0m\u001b[0m\n\u001b[0;32m    207\u001b[0m         \u001b[1;34m\"\"\"Schedule a func to be run\"\"\"\u001b[0m\u001b[1;33m\u001b[0m\u001b[1;33m\u001b[0m\u001b[0m\n\u001b[1;32m--> 208\u001b[1;33m         \u001b[0mresult\u001b[0m \u001b[1;33m=\u001b[0m \u001b[0mImmediateResult\u001b[0m\u001b[1;33m(\u001b[0m\u001b[0mfunc\u001b[0m\u001b[1;33m)\u001b[0m\u001b[1;33m\u001b[0m\u001b[1;33m\u001b[0m\u001b[0m\n\u001b[0m\u001b[0;32m    209\u001b[0m         \u001b[1;32mif\u001b[0m \u001b[0mcallback\u001b[0m\u001b[1;33m:\u001b[0m\u001b[1;33m\u001b[0m\u001b[1;33m\u001b[0m\u001b[0m\n\u001b[0;32m    210\u001b[0m             \u001b[0mcallback\u001b[0m\u001b[1;33m(\u001b[0m\u001b[0mresult\u001b[0m\u001b[1;33m)\u001b[0m\u001b[1;33m\u001b[0m\u001b[1;33m\u001b[0m\u001b[0m\n",
      "\u001b[1;32m~\\anaconda3\\envs\\insubria\\lib\\site-packages\\joblib\\_parallel_backends.py\u001b[0m in \u001b[0;36m__init__\u001b[1;34m(self, batch)\u001b[0m\n\u001b[0;32m    570\u001b[0m         \u001b[1;31m# Don't delay the application, to avoid keeping the input\u001b[0m\u001b[1;33m\u001b[0m\u001b[1;33m\u001b[0m\u001b[1;33m\u001b[0m\u001b[0m\n\u001b[0;32m    571\u001b[0m         \u001b[1;31m# arguments in memory\u001b[0m\u001b[1;33m\u001b[0m\u001b[1;33m\u001b[0m\u001b[1;33m\u001b[0m\u001b[0m\n\u001b[1;32m--> 572\u001b[1;33m         \u001b[0mself\u001b[0m\u001b[1;33m.\u001b[0m\u001b[0mresults\u001b[0m \u001b[1;33m=\u001b[0m \u001b[0mbatch\u001b[0m\u001b[1;33m(\u001b[0m\u001b[1;33m)\u001b[0m\u001b[1;33m\u001b[0m\u001b[1;33m\u001b[0m\u001b[0m\n\u001b[0m\u001b[0;32m    573\u001b[0m \u001b[1;33m\u001b[0m\u001b[0m\n\u001b[0;32m    574\u001b[0m     \u001b[1;32mdef\u001b[0m \u001b[0mget\u001b[0m\u001b[1;33m(\u001b[0m\u001b[0mself\u001b[0m\u001b[1;33m)\u001b[0m\u001b[1;33m:\u001b[0m\u001b[1;33m\u001b[0m\u001b[1;33m\u001b[0m\u001b[0m\n",
      "\u001b[1;32m~\\anaconda3\\envs\\insubria\\lib\\site-packages\\joblib\\parallel.py\u001b[0m in \u001b[0;36m__call__\u001b[1;34m(self)\u001b[0m\n\u001b[0;32m    260\u001b[0m         \u001b[1;31m# change the default number of processes to -1\u001b[0m\u001b[1;33m\u001b[0m\u001b[1;33m\u001b[0m\u001b[1;33m\u001b[0m\u001b[0m\n\u001b[0;32m    261\u001b[0m         \u001b[1;32mwith\u001b[0m \u001b[0mparallel_backend\u001b[0m\u001b[1;33m(\u001b[0m\u001b[0mself\u001b[0m\u001b[1;33m.\u001b[0m\u001b[0m_backend\u001b[0m\u001b[1;33m,\u001b[0m \u001b[0mn_jobs\u001b[0m\u001b[1;33m=\u001b[0m\u001b[0mself\u001b[0m\u001b[1;33m.\u001b[0m\u001b[0m_n_jobs\u001b[0m\u001b[1;33m)\u001b[0m\u001b[1;33m:\u001b[0m\u001b[1;33m\u001b[0m\u001b[1;33m\u001b[0m\u001b[0m\n\u001b[1;32m--> 262\u001b[1;33m             return [func(*args, **kwargs)\n\u001b[0m\u001b[0;32m    263\u001b[0m                     for func, args, kwargs in self.items]\n\u001b[0;32m    264\u001b[0m \u001b[1;33m\u001b[0m\u001b[0m\n",
      "\u001b[1;32m~\\anaconda3\\envs\\insubria\\lib\\site-packages\\joblib\\parallel.py\u001b[0m in \u001b[0;36m<listcomp>\u001b[1;34m(.0)\u001b[0m\n\u001b[0;32m    260\u001b[0m         \u001b[1;31m# change the default number of processes to -1\u001b[0m\u001b[1;33m\u001b[0m\u001b[1;33m\u001b[0m\u001b[1;33m\u001b[0m\u001b[0m\n\u001b[0;32m    261\u001b[0m         \u001b[1;32mwith\u001b[0m \u001b[0mparallel_backend\u001b[0m\u001b[1;33m(\u001b[0m\u001b[0mself\u001b[0m\u001b[1;33m.\u001b[0m\u001b[0m_backend\u001b[0m\u001b[1;33m,\u001b[0m \u001b[0mn_jobs\u001b[0m\u001b[1;33m=\u001b[0m\u001b[0mself\u001b[0m\u001b[1;33m.\u001b[0m\u001b[0m_n_jobs\u001b[0m\u001b[1;33m)\u001b[0m\u001b[1;33m:\u001b[0m\u001b[1;33m\u001b[0m\u001b[1;33m\u001b[0m\u001b[0m\n\u001b[1;32m--> 262\u001b[1;33m             return [func(*args, **kwargs)\n\u001b[0m\u001b[0;32m    263\u001b[0m                     for func, args, kwargs in self.items]\n\u001b[0;32m    264\u001b[0m \u001b[1;33m\u001b[0m\u001b[0m\n",
      "\u001b[1;32m~\\anaconda3\\envs\\insubria\\lib\\site-packages\\sklearn\\utils\\fixes.py\u001b[0m in \u001b[0;36m__call__\u001b[1;34m(self, *args, **kwargs)\u001b[0m\n\u001b[0;32m    214\u001b[0m     \u001b[1;32mdef\u001b[0m \u001b[0m__call__\u001b[0m\u001b[1;33m(\u001b[0m\u001b[0mself\u001b[0m\u001b[1;33m,\u001b[0m \u001b[1;33m*\u001b[0m\u001b[0margs\u001b[0m\u001b[1;33m,\u001b[0m \u001b[1;33m**\u001b[0m\u001b[0mkwargs\u001b[0m\u001b[1;33m)\u001b[0m\u001b[1;33m:\u001b[0m\u001b[1;33m\u001b[0m\u001b[1;33m\u001b[0m\u001b[0m\n\u001b[0;32m    215\u001b[0m         \u001b[1;32mwith\u001b[0m \u001b[0mconfig_context\u001b[0m\u001b[1;33m(\u001b[0m\u001b[1;33m**\u001b[0m\u001b[0mself\u001b[0m\u001b[1;33m.\u001b[0m\u001b[0mconfig\u001b[0m\u001b[1;33m)\u001b[0m\u001b[1;33m:\u001b[0m\u001b[1;33m\u001b[0m\u001b[1;33m\u001b[0m\u001b[0m\n\u001b[1;32m--> 216\u001b[1;33m             \u001b[1;32mreturn\u001b[0m \u001b[0mself\u001b[0m\u001b[1;33m.\u001b[0m\u001b[0mfunction\u001b[0m\u001b[1;33m(\u001b[0m\u001b[1;33m*\u001b[0m\u001b[0margs\u001b[0m\u001b[1;33m,\u001b[0m \u001b[1;33m**\u001b[0m\u001b[0mkwargs\u001b[0m\u001b[1;33m)\u001b[0m\u001b[1;33m\u001b[0m\u001b[1;33m\u001b[0m\u001b[0m\n\u001b[0m\u001b[0;32m    217\u001b[0m \u001b[1;33m\u001b[0m\u001b[0m\n\u001b[0;32m    218\u001b[0m \u001b[1;33m\u001b[0m\u001b[0m\n",
      "\u001b[1;32m~\\anaconda3\\envs\\insubria\\lib\\site-packages\\sklearn\\model_selection\\_validation.py\u001b[0m in \u001b[0;36m_fit_and_score\u001b[1;34m(estimator, X, y, scorer, train, test, verbose, parameters, fit_params, return_train_score, return_parameters, return_n_test_samples, return_times, return_estimator, split_progress, candidate_progress, error_score)\u001b[0m\n\u001b[0;32m    678\u001b[0m             \u001b[0mestimator\u001b[0m\u001b[1;33m.\u001b[0m\u001b[0mfit\u001b[0m\u001b[1;33m(\u001b[0m\u001b[0mX_train\u001b[0m\u001b[1;33m,\u001b[0m \u001b[1;33m**\u001b[0m\u001b[0mfit_params\u001b[0m\u001b[1;33m)\u001b[0m\u001b[1;33m\u001b[0m\u001b[1;33m\u001b[0m\u001b[0m\n\u001b[0;32m    679\u001b[0m         \u001b[1;32melse\u001b[0m\u001b[1;33m:\u001b[0m\u001b[1;33m\u001b[0m\u001b[1;33m\u001b[0m\u001b[0m\n\u001b[1;32m--> 680\u001b[1;33m             \u001b[0mestimator\u001b[0m\u001b[1;33m.\u001b[0m\u001b[0mfit\u001b[0m\u001b[1;33m(\u001b[0m\u001b[0mX_train\u001b[0m\u001b[1;33m,\u001b[0m \u001b[0my_train\u001b[0m\u001b[1;33m,\u001b[0m \u001b[1;33m**\u001b[0m\u001b[0mfit_params\u001b[0m\u001b[1;33m)\u001b[0m\u001b[1;33m\u001b[0m\u001b[1;33m\u001b[0m\u001b[0m\n\u001b[0m\u001b[0;32m    681\u001b[0m \u001b[1;33m\u001b[0m\u001b[0m\n\u001b[0;32m    682\u001b[0m     \u001b[1;32mexcept\u001b[0m \u001b[0mException\u001b[0m\u001b[1;33m:\u001b[0m\u001b[1;33m\u001b[0m\u001b[1;33m\u001b[0m\u001b[0m\n",
      "\u001b[1;32m~\\anaconda3\\envs\\insubria\\lib\\site-packages\\sklearn\\tree\\_classes.py\u001b[0m in \u001b[0;36mfit\u001b[1;34m(self, X, y, sample_weight, check_input, X_idx_sorted)\u001b[0m\n\u001b[0;32m    935\u001b[0m         \"\"\"\n\u001b[0;32m    936\u001b[0m \u001b[1;33m\u001b[0m\u001b[0m\n\u001b[1;32m--> 937\u001b[1;33m         super().fit(\n\u001b[0m\u001b[0;32m    938\u001b[0m             \u001b[0mX\u001b[0m\u001b[1;33m,\u001b[0m\u001b[1;33m\u001b[0m\u001b[1;33m\u001b[0m\u001b[0m\n\u001b[0;32m    939\u001b[0m             \u001b[0my\u001b[0m\u001b[1;33m,\u001b[0m\u001b[1;33m\u001b[0m\u001b[1;33m\u001b[0m\u001b[0m\n",
      "\u001b[1;32m~\\anaconda3\\envs\\insubria\\lib\\site-packages\\sklearn\\tree\\_classes.py\u001b[0m in \u001b[0;36mfit\u001b[1;34m(self, X, y, sample_weight, check_input, X_idx_sorted)\u001b[0m\n\u001b[0;32m    418\u001b[0m             )\n\u001b[0;32m    419\u001b[0m \u001b[1;33m\u001b[0m\u001b[0m\n\u001b[1;32m--> 420\u001b[1;33m         \u001b[0mbuilder\u001b[0m\u001b[1;33m.\u001b[0m\u001b[0mbuild\u001b[0m\u001b[1;33m(\u001b[0m\u001b[0mself\u001b[0m\u001b[1;33m.\u001b[0m\u001b[0mtree_\u001b[0m\u001b[1;33m,\u001b[0m \u001b[0mX\u001b[0m\u001b[1;33m,\u001b[0m \u001b[0my\u001b[0m\u001b[1;33m,\u001b[0m \u001b[0msample_weight\u001b[0m\u001b[1;33m)\u001b[0m\u001b[1;33m\u001b[0m\u001b[1;33m\u001b[0m\u001b[0m\n\u001b[0m\u001b[0;32m    421\u001b[0m \u001b[1;33m\u001b[0m\u001b[0m\n\u001b[0;32m    422\u001b[0m         \u001b[1;32mif\u001b[0m \u001b[0mself\u001b[0m\u001b[1;33m.\u001b[0m\u001b[0mn_outputs_\u001b[0m \u001b[1;33m==\u001b[0m \u001b[1;36m1\u001b[0m \u001b[1;32mand\u001b[0m \u001b[0mis_classifier\u001b[0m\u001b[1;33m(\u001b[0m\u001b[0mself\u001b[0m\u001b[1;33m)\u001b[0m\u001b[1;33m:\u001b[0m\u001b[1;33m\u001b[0m\u001b[1;33m\u001b[0m\u001b[0m\n",
      "\u001b[1;31mKeyboardInterrupt\u001b[0m: "
     ]
    }
   ],
   "source": [
    "# ci mette una vita\n",
    "path = dct.cost_complexity_pruning_path(X_train, y_train)\n",
    "ccp_alphas, impurities = path.ccp_alphas, path.impurities\n",
    "\n",
    "ccp_alphas_grid_search = GridSearchCV(estimator=DecisionTreeClassifier(random_state=42),\n",
    "                                    scoring=make_scorer(accuracy_score),\n",
    "                                    param_grid=ParameterGrid({\"ccp_alpha\":[[alpha] for alpha in ccp_alphas]}),)\n",
    "ccp_alphas_grid_search.fit(X_train, y_train)"
   ]
  },
  {
   "cell_type": "code",
   "execution_count": null,
   "id": "42bf7f4d",
   "metadata": {},
   "outputs": [],
   "source": [
    "#\n",
    "ccp_alphas_grid_search.best_params_"
   ]
  },
  {
   "cell_type": "code",
   "execution_count": null,
   "id": "b120239b",
   "metadata": {},
   "outputs": [],
   "source": [
    "#\n",
    "best_ccp_alphas_tree=ccp_alphas_grid_search.best_estimator_\n",
    "\n",
    "plt.figure(figsize=(4,4), dpi=1000)\n",
    "plot_tree(best_ccp_alphas_tree,\n",
    "         feature_names=[\"ETA\",\"ANNO\",\"contratto_transformed\",\"nazionalita_transformed\",\"genere_transformed\"], \n",
    "          filled=True,)\n",
    "plt.show()"
   ]
  },
  {
   "cell_type": "markdown",
   "id": "fb0817d3",
   "metadata": {},
   "source": [
    "#### Pre-Pruning"
   ]
  },
  {
   "cell_type": "code",
   "execution_count": 47,
   "id": "b6f804dc",
   "metadata": {},
   "outputs": [
    {
     "ename": "KeyboardInterrupt",
     "evalue": "",
     "output_type": "error",
     "traceback": [
      "\u001b[1;31m---------------------------------------------------------------------------\u001b[0m",
      "\u001b[1;31mKeyboardInterrupt\u001b[0m                         Traceback (most recent call last)",
      "\u001b[1;32m~\\AppData\\Local\\Temp/ipykernel_23100/3412910143.py\u001b[0m in \u001b[0;36m<module>\u001b[1;34m\u001b[0m\n\u001b[0;32m      7\u001b[0m             }\n\u001b[0;32m      8\u001b[0m \u001b[0mgrid_search\u001b[0m\u001b[1;33m=\u001b[0m\u001b[0mGridSearchCV\u001b[0m\u001b[1;33m(\u001b[0m\u001b[0mestimator\u001b[0m\u001b[1;33m=\u001b[0m\u001b[0mdct\u001b[0m\u001b[1;33m,\u001b[0m\u001b[0mparam_grid\u001b[0m\u001b[1;33m=\u001b[0m\u001b[0mgrid_param\u001b[0m\u001b[1;33m,\u001b[0m\u001b[0mcv\u001b[0m\u001b[1;33m=\u001b[0m\u001b[1;36m5\u001b[0m\u001b[1;33m,\u001b[0m\u001b[0mn_jobs\u001b[0m\u001b[1;33m=\u001b[0m\u001b[1;33m-\u001b[0m\u001b[1;36m1\u001b[0m\u001b[1;33m)\u001b[0m\u001b[1;33m\u001b[0m\u001b[1;33m\u001b[0m\u001b[0m\n\u001b[1;32m----> 9\u001b[1;33m \u001b[0mgrid_search\u001b[0m\u001b[1;33m.\u001b[0m\u001b[0mfit\u001b[0m\u001b[1;33m(\u001b[0m\u001b[0mX_train\u001b[0m\u001b[1;33m,\u001b[0m\u001b[0my_train\u001b[0m\u001b[1;33m)\u001b[0m\u001b[1;33m\u001b[0m\u001b[1;33m\u001b[0m\u001b[0m\n\u001b[0m",
      "\u001b[1;32m~\\anaconda3\\envs\\insubria\\lib\\site-packages\\sklearn\\model_selection\\_search.py\u001b[0m in \u001b[0;36mfit\u001b[1;34m(self, X, y, groups, **fit_params)\u001b[0m\n\u001b[0;32m    889\u001b[0m                 \u001b[1;32mreturn\u001b[0m \u001b[0mresults\u001b[0m\u001b[1;33m\u001b[0m\u001b[1;33m\u001b[0m\u001b[0m\n\u001b[0;32m    890\u001b[0m \u001b[1;33m\u001b[0m\u001b[0m\n\u001b[1;32m--> 891\u001b[1;33m             \u001b[0mself\u001b[0m\u001b[1;33m.\u001b[0m\u001b[0m_run_search\u001b[0m\u001b[1;33m(\u001b[0m\u001b[0mevaluate_candidates\u001b[0m\u001b[1;33m)\u001b[0m\u001b[1;33m\u001b[0m\u001b[1;33m\u001b[0m\u001b[0m\n\u001b[0m\u001b[0;32m    892\u001b[0m \u001b[1;33m\u001b[0m\u001b[0m\n\u001b[0;32m    893\u001b[0m             \u001b[1;31m# multimetric is determined here because in the case of a callable\u001b[0m\u001b[1;33m\u001b[0m\u001b[1;33m\u001b[0m\u001b[1;33m\u001b[0m\u001b[0m\n",
      "\u001b[1;32m~\\anaconda3\\envs\\insubria\\lib\\site-packages\\sklearn\\model_selection\\_search.py\u001b[0m in \u001b[0;36m_run_search\u001b[1;34m(self, evaluate_candidates)\u001b[0m\n\u001b[0;32m   1390\u001b[0m     \u001b[1;32mdef\u001b[0m \u001b[0m_run_search\u001b[0m\u001b[1;33m(\u001b[0m\u001b[0mself\u001b[0m\u001b[1;33m,\u001b[0m \u001b[0mevaluate_candidates\u001b[0m\u001b[1;33m)\u001b[0m\u001b[1;33m:\u001b[0m\u001b[1;33m\u001b[0m\u001b[1;33m\u001b[0m\u001b[0m\n\u001b[0;32m   1391\u001b[0m         \u001b[1;34m\"\"\"Search all candidates in param_grid\"\"\"\u001b[0m\u001b[1;33m\u001b[0m\u001b[1;33m\u001b[0m\u001b[0m\n\u001b[1;32m-> 1392\u001b[1;33m         \u001b[0mevaluate_candidates\u001b[0m\u001b[1;33m(\u001b[0m\u001b[0mParameterGrid\u001b[0m\u001b[1;33m(\u001b[0m\u001b[0mself\u001b[0m\u001b[1;33m.\u001b[0m\u001b[0mparam_grid\u001b[0m\u001b[1;33m)\u001b[0m\u001b[1;33m)\u001b[0m\u001b[1;33m\u001b[0m\u001b[1;33m\u001b[0m\u001b[0m\n\u001b[0m\u001b[0;32m   1393\u001b[0m \u001b[1;33m\u001b[0m\u001b[0m\n\u001b[0;32m   1394\u001b[0m \u001b[1;33m\u001b[0m\u001b[0m\n",
      "\u001b[1;32m~\\anaconda3\\envs\\insubria\\lib\\site-packages\\sklearn\\model_selection\\_search.py\u001b[0m in \u001b[0;36mevaluate_candidates\u001b[1;34m(candidate_params, cv, more_results)\u001b[0m\n\u001b[0;32m    836\u001b[0m                     )\n\u001b[0;32m    837\u001b[0m \u001b[1;33m\u001b[0m\u001b[0m\n\u001b[1;32m--> 838\u001b[1;33m                 out = parallel(\n\u001b[0m\u001b[0;32m    839\u001b[0m                     delayed(_fit_and_score)(\n\u001b[0;32m    840\u001b[0m                         \u001b[0mclone\u001b[0m\u001b[1;33m(\u001b[0m\u001b[0mbase_estimator\u001b[0m\u001b[1;33m)\u001b[0m\u001b[1;33m,\u001b[0m\u001b[1;33m\u001b[0m\u001b[1;33m\u001b[0m\u001b[0m\n",
      "\u001b[1;32m~\\anaconda3\\envs\\insubria\\lib\\site-packages\\joblib\\parallel.py\u001b[0m in \u001b[0;36m__call__\u001b[1;34m(self, iterable)\u001b[0m\n\u001b[0;32m   1054\u001b[0m \u001b[1;33m\u001b[0m\u001b[0m\n\u001b[0;32m   1055\u001b[0m             \u001b[1;32mwith\u001b[0m \u001b[0mself\u001b[0m\u001b[1;33m.\u001b[0m\u001b[0m_backend\u001b[0m\u001b[1;33m.\u001b[0m\u001b[0mretrieval_context\u001b[0m\u001b[1;33m(\u001b[0m\u001b[1;33m)\u001b[0m\u001b[1;33m:\u001b[0m\u001b[1;33m\u001b[0m\u001b[1;33m\u001b[0m\u001b[0m\n\u001b[1;32m-> 1056\u001b[1;33m                 \u001b[0mself\u001b[0m\u001b[1;33m.\u001b[0m\u001b[0mretrieve\u001b[0m\u001b[1;33m(\u001b[0m\u001b[1;33m)\u001b[0m\u001b[1;33m\u001b[0m\u001b[1;33m\u001b[0m\u001b[0m\n\u001b[0m\u001b[0;32m   1057\u001b[0m             \u001b[1;31m# Make sure that we get a last message telling us we are done\u001b[0m\u001b[1;33m\u001b[0m\u001b[1;33m\u001b[0m\u001b[1;33m\u001b[0m\u001b[0m\n\u001b[0;32m   1058\u001b[0m             \u001b[0melapsed_time\u001b[0m \u001b[1;33m=\u001b[0m \u001b[0mtime\u001b[0m\u001b[1;33m.\u001b[0m\u001b[0mtime\u001b[0m\u001b[1;33m(\u001b[0m\u001b[1;33m)\u001b[0m \u001b[1;33m-\u001b[0m \u001b[0mself\u001b[0m\u001b[1;33m.\u001b[0m\u001b[0m_start_time\u001b[0m\u001b[1;33m\u001b[0m\u001b[1;33m\u001b[0m\u001b[0m\n",
      "\u001b[1;32m~\\anaconda3\\envs\\insubria\\lib\\site-packages\\joblib\\parallel.py\u001b[0m in \u001b[0;36mretrieve\u001b[1;34m(self)\u001b[0m\n\u001b[0;32m    933\u001b[0m             \u001b[1;32mtry\u001b[0m\u001b[1;33m:\u001b[0m\u001b[1;33m\u001b[0m\u001b[1;33m\u001b[0m\u001b[0m\n\u001b[0;32m    934\u001b[0m                 \u001b[1;32mif\u001b[0m \u001b[0mgetattr\u001b[0m\u001b[1;33m(\u001b[0m\u001b[0mself\u001b[0m\u001b[1;33m.\u001b[0m\u001b[0m_backend\u001b[0m\u001b[1;33m,\u001b[0m \u001b[1;34m'supports_timeout'\u001b[0m\u001b[1;33m,\u001b[0m \u001b[1;32mFalse\u001b[0m\u001b[1;33m)\u001b[0m\u001b[1;33m:\u001b[0m\u001b[1;33m\u001b[0m\u001b[1;33m\u001b[0m\u001b[0m\n\u001b[1;32m--> 935\u001b[1;33m                     \u001b[0mself\u001b[0m\u001b[1;33m.\u001b[0m\u001b[0m_output\u001b[0m\u001b[1;33m.\u001b[0m\u001b[0mextend\u001b[0m\u001b[1;33m(\u001b[0m\u001b[0mjob\u001b[0m\u001b[1;33m.\u001b[0m\u001b[0mget\u001b[0m\u001b[1;33m(\u001b[0m\u001b[0mtimeout\u001b[0m\u001b[1;33m=\u001b[0m\u001b[0mself\u001b[0m\u001b[1;33m.\u001b[0m\u001b[0mtimeout\u001b[0m\u001b[1;33m)\u001b[0m\u001b[1;33m)\u001b[0m\u001b[1;33m\u001b[0m\u001b[1;33m\u001b[0m\u001b[0m\n\u001b[0m\u001b[0;32m    936\u001b[0m                 \u001b[1;32melse\u001b[0m\u001b[1;33m:\u001b[0m\u001b[1;33m\u001b[0m\u001b[1;33m\u001b[0m\u001b[0m\n\u001b[0;32m    937\u001b[0m                     \u001b[0mself\u001b[0m\u001b[1;33m.\u001b[0m\u001b[0m_output\u001b[0m\u001b[1;33m.\u001b[0m\u001b[0mextend\u001b[0m\u001b[1;33m(\u001b[0m\u001b[0mjob\u001b[0m\u001b[1;33m.\u001b[0m\u001b[0mget\u001b[0m\u001b[1;33m(\u001b[0m\u001b[1;33m)\u001b[0m\u001b[1;33m)\u001b[0m\u001b[1;33m\u001b[0m\u001b[1;33m\u001b[0m\u001b[0m\n",
      "\u001b[1;32m~\\anaconda3\\envs\\insubria\\lib\\site-packages\\joblib\\_parallel_backends.py\u001b[0m in \u001b[0;36mwrap_future_result\u001b[1;34m(future, timeout)\u001b[0m\n\u001b[0;32m    540\u001b[0m         AsyncResults.get from multiprocessing.\"\"\"\n\u001b[0;32m    541\u001b[0m         \u001b[1;32mtry\u001b[0m\u001b[1;33m:\u001b[0m\u001b[1;33m\u001b[0m\u001b[1;33m\u001b[0m\u001b[0m\n\u001b[1;32m--> 542\u001b[1;33m             \u001b[1;32mreturn\u001b[0m \u001b[0mfuture\u001b[0m\u001b[1;33m.\u001b[0m\u001b[0mresult\u001b[0m\u001b[1;33m(\u001b[0m\u001b[0mtimeout\u001b[0m\u001b[1;33m=\u001b[0m\u001b[0mtimeout\u001b[0m\u001b[1;33m)\u001b[0m\u001b[1;33m\u001b[0m\u001b[1;33m\u001b[0m\u001b[0m\n\u001b[0m\u001b[0;32m    543\u001b[0m         \u001b[1;32mexcept\u001b[0m \u001b[0mCfTimeoutError\u001b[0m \u001b[1;32mas\u001b[0m \u001b[0me\u001b[0m\u001b[1;33m:\u001b[0m\u001b[1;33m\u001b[0m\u001b[1;33m\u001b[0m\u001b[0m\n\u001b[0;32m    544\u001b[0m             \u001b[1;32mraise\u001b[0m \u001b[0mTimeoutError\u001b[0m \u001b[1;32mfrom\u001b[0m \u001b[0me\u001b[0m\u001b[1;33m\u001b[0m\u001b[1;33m\u001b[0m\u001b[0m\n",
      "\u001b[1;32m~\\anaconda3\\envs\\insubria\\lib\\concurrent\\futures\\_base.py\u001b[0m in \u001b[0;36mresult\u001b[1;34m(self, timeout)\u001b[0m\n\u001b[0;32m    437\u001b[0m                     \u001b[1;32mreturn\u001b[0m \u001b[0mself\u001b[0m\u001b[1;33m.\u001b[0m\u001b[0m__get_result\u001b[0m\u001b[1;33m(\u001b[0m\u001b[1;33m)\u001b[0m\u001b[1;33m\u001b[0m\u001b[1;33m\u001b[0m\u001b[0m\n\u001b[0;32m    438\u001b[0m \u001b[1;33m\u001b[0m\u001b[0m\n\u001b[1;32m--> 439\u001b[1;33m                 \u001b[0mself\u001b[0m\u001b[1;33m.\u001b[0m\u001b[0m_condition\u001b[0m\u001b[1;33m.\u001b[0m\u001b[0mwait\u001b[0m\u001b[1;33m(\u001b[0m\u001b[0mtimeout\u001b[0m\u001b[1;33m)\u001b[0m\u001b[1;33m\u001b[0m\u001b[1;33m\u001b[0m\u001b[0m\n\u001b[0m\u001b[0;32m    440\u001b[0m \u001b[1;33m\u001b[0m\u001b[0m\n\u001b[0;32m    441\u001b[0m                 \u001b[1;32mif\u001b[0m \u001b[0mself\u001b[0m\u001b[1;33m.\u001b[0m\u001b[0m_state\u001b[0m \u001b[1;32min\u001b[0m \u001b[1;33m[\u001b[0m\u001b[0mCANCELLED\u001b[0m\u001b[1;33m,\u001b[0m \u001b[0mCANCELLED_AND_NOTIFIED\u001b[0m\u001b[1;33m]\u001b[0m\u001b[1;33m:\u001b[0m\u001b[1;33m\u001b[0m\u001b[1;33m\u001b[0m\u001b[0m\n",
      "\u001b[1;32m~\\anaconda3\\envs\\insubria\\lib\\threading.py\u001b[0m in \u001b[0;36mwait\u001b[1;34m(self, timeout)\u001b[0m\n\u001b[0;32m    300\u001b[0m         \u001b[1;32mtry\u001b[0m\u001b[1;33m:\u001b[0m    \u001b[1;31m# restore state no matter what (e.g., KeyboardInterrupt)\u001b[0m\u001b[1;33m\u001b[0m\u001b[1;33m\u001b[0m\u001b[0m\n\u001b[0;32m    301\u001b[0m             \u001b[1;32mif\u001b[0m \u001b[0mtimeout\u001b[0m \u001b[1;32mis\u001b[0m \u001b[1;32mNone\u001b[0m\u001b[1;33m:\u001b[0m\u001b[1;33m\u001b[0m\u001b[1;33m\u001b[0m\u001b[0m\n\u001b[1;32m--> 302\u001b[1;33m                 \u001b[0mwaiter\u001b[0m\u001b[1;33m.\u001b[0m\u001b[0macquire\u001b[0m\u001b[1;33m(\u001b[0m\u001b[1;33m)\u001b[0m\u001b[1;33m\u001b[0m\u001b[1;33m\u001b[0m\u001b[0m\n\u001b[0m\u001b[0;32m    303\u001b[0m                 \u001b[0mgotit\u001b[0m \u001b[1;33m=\u001b[0m \u001b[1;32mTrue\u001b[0m\u001b[1;33m\u001b[0m\u001b[1;33m\u001b[0m\u001b[0m\n\u001b[0;32m    304\u001b[0m             \u001b[1;32melse\u001b[0m\u001b[1;33m:\u001b[0m\u001b[1;33m\u001b[0m\u001b[1;33m\u001b[0m\u001b[0m\n",
      "\u001b[1;31mKeyboardInterrupt\u001b[0m: "
     ]
    }
   ],
   "source": [
    "# va all'infinito\n",
    "grid_param={\"criterion\":[\"gini\",\"entropy\"],\n",
    "             \"splitter\":[\"best\",\"random\"],\n",
    "             \"max_depth\":range(2,50,1),\n",
    "             \"min_samples_leaf\":range(1,15,1),\n",
    "             \"min_samples_split\":range(2,20,1) \n",
    "            }\n",
    "grid_search=GridSearchCV(estimator=dct,param_grid=grid_param,cv=5,n_jobs=-1)\n",
    "grid_search.fit(X_train,y_train)"
   ]
  },
  {
   "cell_type": "code",
   "execution_count": null,
   "id": "e7698699",
   "metadata": {},
   "outputs": [],
   "source": [
    "#\n",
    "print(grid_search.best_params_)"
   ]
  },
  {
   "cell_type": "code",
   "execution_count": null,
   "id": "03731e0e",
   "metadata": {},
   "outputs": [],
   "source": [
    "#\n",
    "clf=DecisionTreeClassifier(criterion= 'gini',max_depth= 17,min_samples_leaf= 3,min_samples_split= 12,splitter= 'random')\n",
    "clf.fit(X_train,y_train)\n",
    "plt.figure(figsize=(20,12))\n",
    "tree.plot_tree(clf,rounded=True,filled=True)\n",
    "plt.show()"
   ]
  },
  {
   "cell_type": "code",
   "execution_count": null,
   "id": "a611b1b3",
   "metadata": {},
   "outputs": [],
   "source": [
    "# Predict the values\n",
    "y_pred=clf.predict(X_test)\n",
    "accuracy_score(y_test,y_pred)"
   ]
  },
  {
   "cell_type": "markdown",
   "id": "ab023b7c",
   "metadata": {},
   "source": [
    "#### Post pruning techniques"
   ]
  },
  {
   "cell_type": "code",
   "execution_count": null,
   "id": "bf562763",
   "metadata": {},
   "outputs": [],
   "source": [
    "# MemoryError\n",
    "path = dct.cost_complexity_pruning_path(X_train, y_train)\n",
    "ccp_alphas, impurities = path.ccp_alphas, path.impurities\n",
    "clfs = []\n",
    "for ccp_alpha in ccp_alphas:\n",
    "    clf = tree.DecisionTreeClassifier(ccp_alpha=ccp_alpha)\n",
    "    clf.fit(X_train, y_train)\n",
    "    clfs.append(clf)"
   ]
  },
  {
   "cell_type": "code",
   "execution_count": null,
   "id": "8423d32a",
   "metadata": {},
   "outputs": [],
   "source": [
    "#\n",
    "clfs = clfs[:-1]\n",
    "ccp_alphas = ccp_alphas[:-1]\n",
    "node_counts = [clf.tree_.node_count for clf in clfs]\n",
    "depth = [clf.tree_.max_depth for clf in clfs]\n",
    "plt.scatter(ccp_alphas,node_counts)\n",
    "plt.scatter(ccp_alphas,depth)\n",
    "plt.plot(ccp_alphas,node_counts,label='no of nodes',drawstyle=\"steps-post\")\n",
    "plt.plot(ccp_alphas,depth,label='depth',drawstyle=\"steps-post\")\n",
    "plt.legend()\n",
    "plt.show()"
   ]
  },
  {
   "cell_type": "markdown",
   "id": "0a516985",
   "metadata": {},
   "source": [
    "##  K-Nearest Neighbors Classification"
   ]
  },
  {
   "cell_type": "code",
   "execution_count": 12,
   "id": "3e796e24",
   "metadata": {},
   "outputs": [],
   "source": [
    "\n",
    "def scaleFeaturesDF(data_train, data_test):\n",
    "    # Feature scaling is a type of transformation that only changes the\n",
    "    # scale, but not number of features. Because of this, we can still\n",
    "    # use the original dataset's column names... so long as we keep in\n",
    "    # mind that the _units_ have been altered:\n",
    "\n",
    "    transf = preprocessing.MinMaxScaler().fit(data_train)\n",
    "    data_train = transf.transform(data_train)\n",
    "    data_train = pd.DataFrame(data_train)\n",
    "    data_test = transf.transform(data_test)\n",
    "    data_test = pd.DataFrame(data_test)\n",
    "    \n",
    "    \n",
    "    return data_train, data_test"
   ]
  },
  {
   "cell_type": "code",
   "execution_count": 13,
   "id": "64072c59",
   "metadata": {},
   "outputs": [],
   "source": [
    "[X_train, X_test]=scaleFeaturesDF(X_train, X_test)"
   ]
  },
  {
   "cell_type": "code",
   "execution_count": 14,
   "id": "c908519f",
   "metadata": {},
   "outputs": [
    {
     "data": {
      "text/plain": [
       "KNeighborsClassifier()"
      ]
     },
     "execution_count": 14,
     "metadata": {},
     "output_type": "execute_result"
    }
   ],
   "source": [
    "\n",
    "knmodel = KNeighborsClassifier(n_neighbors =5, weights='uniform')\n",
    "knmodel.fit(X_train, y_train)"
   ]
  },
  {
   "cell_type": "code",
   "execution_count": 15,
   "id": "c0214cdc",
   "metadata": {},
   "outputs": [
    {
     "data": {
      "text/plain": [
       "9.94747426946139"
      ]
     },
     "execution_count": 15,
     "metadata": {},
     "output_type": "execute_result"
    }
   ],
   "source": [
    "y_pred = knmodel.predict(X_train)\n",
    "mse = mean_squared_error(y_train, y_pred)\n",
    "from math import sqrt\n",
    "rmse = sqrt(mse)\n",
    "rmse"
   ]
  },
  {
   "cell_type": "markdown",
   "id": "73b518c0",
   "metadata": {},
   "source": [
    "### Confusion Matrix"
   ]
  },
  {
   "cell_type": "code",
   "execution_count": 16,
   "id": "f4525cc1",
   "metadata": {},
   "outputs": [
    {
     "name": "stdout",
     "output_type": "stream",
     "text": [
      "[[ 347   23  126 ...    1    3    0]\n",
      " [  29  362   86 ...    1    5    0]\n",
      " [ 192   98 3836 ...    2    4    0]\n",
      " ...\n",
      " [  30   28  159 ...   27    6    0]\n",
      " [ 116   62  262 ...    2  204    3]\n",
      " [  34   30  153 ...    0    7   20]]\n"
     ]
    }
   ],
   "source": [
    "# To avoid the MemoryError, we change the dataset's type into a new lighter one\n",
    "y_test=y_test.astype(np.uint8)\n",
    "y_pred=y_pred.astype(np.uint8)\n",
    "\n",
    "# Print the confusion matrix\n",
    "confusion = metrics.confusion_matrix(y_train, y_pred)\n",
    "print(confusion)"
   ]
  },
  {
   "cell_type": "markdown",
   "id": "52902872",
   "metadata": {},
   "source": [
    "## Future Prediction"
   ]
  },
  {
   "cell_type": "markdown",
   "id": "d77b1533",
   "metadata": {},
   "source": [
    "### ARIMA"
   ]
  },
  {
   "cell_type": "markdown",
   "id": "4e732425",
   "metadata": {},
   "source": [
    "Prediction of the number of activated contracts wiht Autoregressive integrated moving average model."
   ]
  },
  {
   "cell_type": "code",
   "execution_count": 17,
   "id": "60b6e335",
   "metadata": {},
   "outputs": [
    {
     "data": {
      "text/html": [
       "<div>\n",
       "<style scoped>\n",
       "    .dataframe tbody tr th:only-of-type {\n",
       "        vertical-align: middle;\n",
       "    }\n",
       "\n",
       "    .dataframe tbody tr th {\n",
       "        vertical-align: top;\n",
       "    }\n",
       "\n",
       "    .dataframe thead th {\n",
       "        text-align: right;\n",
       "    }\n",
       "</style>\n",
       "<table border=\"1\" class=\"dataframe\">\n",
       "  <thead>\n",
       "    <tr style=\"text-align: right;\">\n",
       "      <th></th>\n",
       "      <th>ETA</th>\n",
       "      <th>ANNO</th>\n",
       "      <th>nazionalita_transformed</th>\n",
       "      <th>contratto_transformed</th>\n",
       "      <th>genere_transformed</th>\n",
       "      <th>Output_transformed</th>\n",
       "    </tr>\n",
       "  </thead>\n",
       "  <tbody>\n",
       "    <tr>\n",
       "      <th>0</th>\n",
       "      <td>25</td>\n",
       "      <td>2014</td>\n",
       "      <td>89</td>\n",
       "      <td>0</td>\n",
       "      <td>1</td>\n",
       "      <td>13966</td>\n",
       "    </tr>\n",
       "    <tr>\n",
       "      <th>1</th>\n",
       "      <td>46</td>\n",
       "      <td>2011</td>\n",
       "      <td>89</td>\n",
       "      <td>0</td>\n",
       "      <td>0</td>\n",
       "      <td>13797</td>\n",
       "    </tr>\n",
       "    <tr>\n",
       "      <th>2</th>\n",
       "      <td>24</td>\n",
       "      <td>2016</td>\n",
       "      <td>144</td>\n",
       "      <td>0</td>\n",
       "      <td>0</td>\n",
       "      <td>6674</td>\n",
       "    </tr>\n",
       "    <tr>\n",
       "      <th>3</th>\n",
       "      <td>38</td>\n",
       "      <td>2020</td>\n",
       "      <td>89</td>\n",
       "      <td>0</td>\n",
       "      <td>1</td>\n",
       "      <td>26059</td>\n",
       "    </tr>\n",
       "    <tr>\n",
       "      <th>4</th>\n",
       "      <td>32</td>\n",
       "      <td>2012</td>\n",
       "      <td>89</td>\n",
       "      <td>0</td>\n",
       "      <td>1</td>\n",
       "      <td>26698</td>\n",
       "    </tr>\n",
       "    <tr>\n",
       "      <th>...</th>\n",
       "      <td>...</td>\n",
       "      <td>...</td>\n",
       "      <td>...</td>\n",
       "      <td>...</td>\n",
       "      <td>...</td>\n",
       "      <td>...</td>\n",
       "    </tr>\n",
       "    <tr>\n",
       "      <th>2703939</th>\n",
       "      <td>26</td>\n",
       "      <td>2019</td>\n",
       "      <td>89</td>\n",
       "      <td>1</td>\n",
       "      <td>1</td>\n",
       "      <td>18030</td>\n",
       "    </tr>\n",
       "    <tr>\n",
       "      <th>2703940</th>\n",
       "      <td>28</td>\n",
       "      <td>2014</td>\n",
       "      <td>89</td>\n",
       "      <td>1</td>\n",
       "      <td>1</td>\n",
       "      <td>18031</td>\n",
       "    </tr>\n",
       "    <tr>\n",
       "      <th>2703941</th>\n",
       "      <td>33</td>\n",
       "      <td>2009</td>\n",
       "      <td>89</td>\n",
       "      <td>1</td>\n",
       "      <td>0</td>\n",
       "      <td>18036</td>\n",
       "    </tr>\n",
       "    <tr>\n",
       "      <th>2703942</th>\n",
       "      <td>34</td>\n",
       "      <td>2021</td>\n",
       "      <td>89</td>\n",
       "      <td>1</td>\n",
       "      <td>0</td>\n",
       "      <td>18031</td>\n",
       "    </tr>\n",
       "    <tr>\n",
       "      <th>2703943</th>\n",
       "      <td>34</td>\n",
       "      <td>2011</td>\n",
       "      <td>89</td>\n",
       "      <td>1</td>\n",
       "      <td>0</td>\n",
       "      <td>18021</td>\n",
       "    </tr>\n",
       "  </tbody>\n",
       "</table>\n",
       "<p>2703944 rows × 6 columns</p>\n",
       "</div>"
      ],
      "text/plain": [
       "         ETA  ANNO  nazionalita_transformed  contratto_transformed  \\\n",
       "0         25  2014                       89                      0   \n",
       "1         46  2011                       89                      0   \n",
       "2         24  2016                      144                      0   \n",
       "3         38  2020                       89                      0   \n",
       "4         32  2012                       89                      0   \n",
       "...      ...   ...                      ...                    ...   \n",
       "2703939   26  2019                       89                      1   \n",
       "2703940   28  2014                       89                      1   \n",
       "2703941   33  2009                       89                      1   \n",
       "2703942   34  2021                       89                      1   \n",
       "2703943   34  2011                       89                      1   \n",
       "\n",
       "         genere_transformed  Output_transformed  \n",
       "0                         1               13966  \n",
       "1                         0               13797  \n",
       "2                         0                6674  \n",
       "3                         1               26059  \n",
       "4                         1               26698  \n",
       "...                     ...                 ...  \n",
       "2703939                   1               18030  \n",
       "2703940                   1               18031  \n",
       "2703941                   0               18036  \n",
       "2703942                   0               18031  \n",
       "2703943                   0               18021  \n",
       "\n",
       "[2703944 rows x 6 columns]"
      ]
     },
     "execution_count": 17,
     "metadata": {},
     "output_type": "execute_result"
    }
   ],
   "source": [
    "# Load the dataset\n",
    "balanced\n",
    "bal1 = balanced.copy()\n",
    "bal1 = bal1.reset_index(drop=True)\n",
    "bal1"
   ]
  },
  {
   "cell_type": "code",
   "execution_count": 18,
   "id": "f466e77c",
   "metadata": {},
   "outputs": [
    {
     "ename": "KeyError",
     "evalue": "'mese-anno'",
     "output_type": "error",
     "traceback": [
      "\u001b[1;31m---------------------------------------------------------------------------\u001b[0m",
      "\u001b[1;31mKeyError\u001b[0m                                  Traceback (most recent call last)",
      "\u001b[1;32m~\\AppData\\Local\\Temp/ipykernel_23032/756110792.py\u001b[0m in \u001b[0;36m<module>\u001b[1;34m\u001b[0m\n\u001b[0;32m      1\u001b[0m \u001b[1;31m# Set mese-anno like index\u001b[0m\u001b[1;33m\u001b[0m\u001b[1;33m\u001b[0m\u001b[1;33m\u001b[0m\u001b[0m\n\u001b[0;32m      2\u001b[0m \u001b[1;31m# Show count of contract for each mese-anno\u001b[0m\u001b[1;33m\u001b[0m\u001b[1;33m\u001b[0m\u001b[1;33m\u001b[0m\u001b[0m\n\u001b[1;32m----> 3\u001b[1;33m \u001b[0mbal2\u001b[0m \u001b[1;33m=\u001b[0m \u001b[0mbal1\u001b[0m\u001b[1;33m.\u001b[0m\u001b[0mgroupby\u001b[0m\u001b[1;33m(\u001b[0m\u001b[1;34m\"mese-anno\"\u001b[0m\u001b[1;33m)\u001b[0m\u001b[1;33m.\u001b[0m\u001b[0msize\u001b[0m\u001b[1;33m(\u001b[0m\u001b[1;33m)\u001b[0m\u001b[1;33m.\u001b[0m\u001b[0mreset_index\u001b[0m\u001b[1;33m(\u001b[0m\u001b[0mname\u001b[0m\u001b[1;33m=\u001b[0m\u001b[1;34m'count'\u001b[0m\u001b[1;33m)\u001b[0m\u001b[1;33m\u001b[0m\u001b[1;33m\u001b[0m\u001b[0m\n\u001b[0m\u001b[0;32m      4\u001b[0m \u001b[0mbal2\u001b[0m \u001b[1;33m=\u001b[0m \u001b[0mbal2\u001b[0m\u001b[1;33m.\u001b[0m\u001b[0mset_index\u001b[0m\u001b[1;33m(\u001b[0m\u001b[1;34m'mese-anno'\u001b[0m\u001b[1;33m)\u001b[0m\u001b[1;33m\u001b[0m\u001b[1;33m\u001b[0m\u001b[0m\n\u001b[0;32m      5\u001b[0m \u001b[0mf\u001b[0m\u001b[1;33m,\u001b[0m \u001b[0max1\u001b[0m \u001b[1;33m=\u001b[0m \u001b[0mplt\u001b[0m\u001b[1;33m.\u001b[0m\u001b[0msubplots\u001b[0m\u001b[1;33m(\u001b[0m\u001b[1;36m1\u001b[0m\u001b[1;33m,\u001b[0m\u001b[1;36m1\u001b[0m\u001b[1;33m,\u001b[0m\u001b[0mfigsize\u001b[0m\u001b[1;33m=\u001b[0m\u001b[1;33m(\u001b[0m\u001b[1;36m15\u001b[0m\u001b[1;33m,\u001b[0m\u001b[1;36m5\u001b[0m\u001b[1;33m)\u001b[0m\u001b[1;33m)\u001b[0m\u001b[1;33m\u001b[0m\u001b[1;33m\u001b[0m\u001b[0m\n",
      "\u001b[1;32m~\\anaconda3\\envs\\insubria\\lib\\site-packages\\pandas\\core\\frame.py\u001b[0m in \u001b[0;36mgroupby\u001b[1;34m(self, by, axis, level, as_index, sort, group_keys, squeeze, observed, dropna)\u001b[0m\n\u001b[0;32m   7704\u001b[0m         \u001b[1;31m# error: Argument \"squeeze\" to \"DataFrameGroupBy\" has incompatible type\u001b[0m\u001b[1;33m\u001b[0m\u001b[1;33m\u001b[0m\u001b[1;33m\u001b[0m\u001b[0m\n\u001b[0;32m   7705\u001b[0m         \u001b[1;31m# \"Union[bool, NoDefault]\"; expected \"bool\"\u001b[0m\u001b[1;33m\u001b[0m\u001b[1;33m\u001b[0m\u001b[1;33m\u001b[0m\u001b[0m\n\u001b[1;32m-> 7706\u001b[1;33m         return DataFrameGroupBy(\n\u001b[0m\u001b[0;32m   7707\u001b[0m             \u001b[0mobj\u001b[0m\u001b[1;33m=\u001b[0m\u001b[0mself\u001b[0m\u001b[1;33m,\u001b[0m\u001b[1;33m\u001b[0m\u001b[1;33m\u001b[0m\u001b[0m\n\u001b[0;32m   7708\u001b[0m             \u001b[0mkeys\u001b[0m\u001b[1;33m=\u001b[0m\u001b[0mby\u001b[0m\u001b[1;33m,\u001b[0m\u001b[1;33m\u001b[0m\u001b[1;33m\u001b[0m\u001b[0m\n",
      "\u001b[1;32m~\\anaconda3\\envs\\insubria\\lib\\site-packages\\pandas\\core\\groupby\\groupby.py\u001b[0m in \u001b[0;36m__init__\u001b[1;34m(self, obj, keys, axis, level, grouper, exclusions, selection, as_index, sort, group_keys, squeeze, observed, mutated, dropna)\u001b[0m\n\u001b[0;32m    880\u001b[0m             \u001b[1;32mfrom\u001b[0m \u001b[0mpandas\u001b[0m\u001b[1;33m.\u001b[0m\u001b[0mcore\u001b[0m\u001b[1;33m.\u001b[0m\u001b[0mgroupby\u001b[0m\u001b[1;33m.\u001b[0m\u001b[0mgrouper\u001b[0m \u001b[1;32mimport\u001b[0m \u001b[0mget_grouper\u001b[0m\u001b[1;33m\u001b[0m\u001b[1;33m\u001b[0m\u001b[0m\n\u001b[0;32m    881\u001b[0m \u001b[1;33m\u001b[0m\u001b[0m\n\u001b[1;32m--> 882\u001b[1;33m             grouper, exclusions, obj = get_grouper(\n\u001b[0m\u001b[0;32m    883\u001b[0m                 \u001b[0mobj\u001b[0m\u001b[1;33m,\u001b[0m\u001b[1;33m\u001b[0m\u001b[1;33m\u001b[0m\u001b[0m\n\u001b[0;32m    884\u001b[0m                 \u001b[0mkeys\u001b[0m\u001b[1;33m,\u001b[0m\u001b[1;33m\u001b[0m\u001b[1;33m\u001b[0m\u001b[0m\n",
      "\u001b[1;32m~\\anaconda3\\envs\\insubria\\lib\\site-packages\\pandas\\core\\groupby\\grouper.py\u001b[0m in \u001b[0;36mget_grouper\u001b[1;34m(obj, key, axis, level, sort, observed, mutated, validate, dropna)\u001b[0m\n\u001b[0;32m    880\u001b[0m                 \u001b[0min_axis\u001b[0m\u001b[1;33m,\u001b[0m \u001b[0mlevel\u001b[0m\u001b[1;33m,\u001b[0m \u001b[0mgpr\u001b[0m \u001b[1;33m=\u001b[0m \u001b[1;32mFalse\u001b[0m\u001b[1;33m,\u001b[0m \u001b[0mgpr\u001b[0m\u001b[1;33m,\u001b[0m \u001b[1;32mNone\u001b[0m\u001b[1;33m\u001b[0m\u001b[1;33m\u001b[0m\u001b[0m\n\u001b[0;32m    881\u001b[0m             \u001b[1;32melse\u001b[0m\u001b[1;33m:\u001b[0m\u001b[1;33m\u001b[0m\u001b[1;33m\u001b[0m\u001b[0m\n\u001b[1;32m--> 882\u001b[1;33m                 \u001b[1;32mraise\u001b[0m \u001b[0mKeyError\u001b[0m\u001b[1;33m(\u001b[0m\u001b[0mgpr\u001b[0m\u001b[1;33m)\u001b[0m\u001b[1;33m\u001b[0m\u001b[1;33m\u001b[0m\u001b[0m\n\u001b[0m\u001b[0;32m    883\u001b[0m         \u001b[1;32melif\u001b[0m \u001b[0misinstance\u001b[0m\u001b[1;33m(\u001b[0m\u001b[0mgpr\u001b[0m\u001b[1;33m,\u001b[0m \u001b[0mGrouper\u001b[0m\u001b[1;33m)\u001b[0m \u001b[1;32mand\u001b[0m \u001b[0mgpr\u001b[0m\u001b[1;33m.\u001b[0m\u001b[0mkey\u001b[0m \u001b[1;32mis\u001b[0m \u001b[1;32mnot\u001b[0m \u001b[1;32mNone\u001b[0m\u001b[1;33m:\u001b[0m\u001b[1;33m\u001b[0m\u001b[1;33m\u001b[0m\u001b[0m\n\u001b[0;32m    884\u001b[0m             \u001b[1;31m# Add key to exclusions\u001b[0m\u001b[1;33m\u001b[0m\u001b[1;33m\u001b[0m\u001b[1;33m\u001b[0m\u001b[0m\n",
      "\u001b[1;31mKeyError\u001b[0m: 'mese-anno'"
     ]
    }
   ],
   "source": [
    "# Set mese-anno like index\n",
    "# Show count of contract for each mese-anno\n",
    "bal2 = bal1.groupby(\"mese-anno\").size().reset_index(name='count')\n",
    "bal2 = bal2.set_index('mese-anno')\n",
    "f, ax1 = plt.subplots(1,1,figsize=(15,5))\n",
    "bal2.plot(ax=ax1)\n",
    "ax1.set_xlabel(\"time\")\n",
    "ax1.set_ylabel(\"Number of Contracts\")\n",
    "plt.grid(True)"
   ]
  },
  {
   "cell_type": "code",
   "execution_count": null,
   "id": "e7eb2823",
   "metadata": {},
   "outputs": [],
   "source": [
    "# Calculate the Augmented Dickey-Fuller test can be used to test for a unit root in a univariate \n",
    "#process in the presence of serial correlation.\n",
    "results = adfuller(bal2['count'])\n",
    "print('ADF Statistic: %f' % results[0])\n",
    "print('p-value: %f' % results[1])"
   ]
  },
  {
   "cell_type": "code",
   "execution_count": null,
   "id": "ec71bba4",
   "metadata": {},
   "outputs": [],
   "source": [
    "# Show seasonality and trend\n",
    "plt.rcParams['figure.figsize'] = 20, 10\n",
    "# Additive decomposition\n",
    "decomposed_add = seasonal_decompose(bal2, model=\"additive\", period=5)\n",
    "\n",
    "fig, ax = plt.subplots(4, 1, figsize=(15, 8))\n",
    "# Plot the series\n",
    "decomposed_add.observed.plot(ax = ax[0])\n",
    "decomposed_add.trend.plot(ax = ax[1])\n",
    "decomposed_add.seasonal.plot(ax = ax[2])\n",
    "decomposed_add.resid.plot(ax = ax[3])\n",
    "# Add the labels to the Y-axis\n",
    "ax[0].set_ylabel('')\n",
    "ax[1].set_ylabel('Trend')\n",
    "ax[2].set_ylabel('Seasonal')\n",
    "ax[3].set_ylabel('Residual')\n",
    "\n",
    "plt.tight_layout()\n",
    "plt.show()"
   ]
  },
  {
   "cell_type": "code",
   "execution_count": null,
   "id": "f356b208",
   "metadata": {},
   "outputs": [],
   "source": [
    "# Calculate differential\n",
    "bal_diff = bal2['count'].diff().dropna()\n",
    "plt.figure(figsize=(12,5))\n",
    "ax1 = bal_diff.plot()\n",
    "ax1.set_xlabel(\"Anno\")\n",
    "ax1.set_ylabel(\"diff\")\n",
    "plt.grid(True)\n",
    "plt.show()"
   ]
  },
  {
   "cell_type": "code",
   "execution_count": null,
   "id": "ac66bba3",
   "metadata": {},
   "outputs": [],
   "source": [
    "# Calculate the Augmented Dickey-Fuller test\n",
    "\n",
    "results = adfuller(bal_diff)\n",
    "print('ADF Statistic: %f' % results[0])\n",
    "print('p-value: %f' % results[1])"
   ]
  },
  {
   "cell_type": "code",
   "execution_count": null,
   "id": "8f5dbf6f",
   "metadata": {},
   "outputs": [],
   "source": [
    "# Calculate the Augmented Dickey-Fuller test\n",
    "results = adfuller(bal2['count'].diff().diff().dropna())\n",
    "print('ADF Statistic: %f' % results[0])\n",
    "print(\"P-value of a test is: {}\".format(results[1]))"
   ]
  },
  {
   "cell_type": "code",
   "execution_count": null,
   "id": "f73655c5",
   "metadata": {},
   "outputs": [],
   "source": [
    "# Show autocorrelation and partial correlation\n",
    "fig,ax = plt.subplots(2,1,figsize=(20,10))\n",
    "plot_acf(bal_diff, lags=4, ax=ax[0])\n",
    "plot_pacf(bal_diff, lags=4, ax=ax[1])\n",
    "plt.show()"
   ]
  },
  {
   "cell_type": "code",
   "execution_count": null,
   "id": "ad451d03",
   "metadata": {},
   "outputs": [],
   "source": [
    "# Search p and q values\n",
    "\n",
    "arima_df = pd.DataFrame(columns=[\"p\",\"q\",\"aic\",\"bic\"])\n",
    "\n",
    "i=0\n",
    "# Loop over p values from 0-5\n",
    "for p in range(4):\n",
    "    # Loop over q values from 0-5\n",
    "    for q in range(4):\n",
    "        \n",
    "        try:\n",
    "            # creating and fitting ARIMA(p,1,q) model\n",
    "            model = ARIMA(bal2['count'].astype(float), order=(p,1,q))\n",
    "            results = model.fit()\n",
    "            \n",
    "            # Printing order, AIC and BIC\n",
    "            #print(p, q, results.aic, results.bic)\n",
    "            arima_df.loc[i,\"p\"] = p\n",
    "            arima_df.loc[i,\"q\"] = q\n",
    "            arima_df.loc[i,\"aic\"] = results.aic\n",
    "            arima_df.loc[i,\"bic\"] = results.bic\n",
    "            i = i+1\n",
    "        except:\n",
    "            #print(p, q, None, None)\n",
    "            i = i+1\n",
    "    \n",
    "arima_df[\"sum_aic_bic\"] = arima_df[\"aic\"]+arima_df[\"bic\"]\n",
    "arima_df.sort_values(by=\"aic\", ascending=False, inplace=True)\n",
    "arima_df"
   ]
  },
  {
   "cell_type": "code",
   "execution_count": null,
   "id": "0c434e3a",
   "metadata": {},
   "outputs": [],
   "source": [
    "# Compute the model\n",
    "model2 = SARIMAX(bal2, order=(2,1,1), seasonal_order=(0,1,0,6))\n",
    "results = model2.fit()\n",
    "results.summary()"
   ]
  },
  {
   "cell_type": "code",
   "execution_count": null,
   "id": "6dff1f56",
   "metadata": {},
   "outputs": [],
   "source": [
    "# Show ---\n",
    "plt.rcParams['figure.figsize'] = 12, 8\n",
    "plot = results.plot_diagnostics()"
   ]
  },
  {
   "cell_type": "code",
   "execution_count": null,
   "id": "76cbdd59",
   "metadata": {},
   "outputs": [],
   "source": [
    "# Prediction of the future\n",
    "\n",
    "# Create SARIMA mean forecast\n",
    "forecast = results.get_forecast(steps=30)\n",
    "lower = forecast.conf_int()[\"lower count\"]\n",
    "upper = forecast.conf_int()[\"upper count\"]\n",
    "\n",
    "# Plot mean SARIMA predictions\n",
    "fig,ax = plt.subplots(1,1,figsize=(20,10))\n",
    "\n",
    "plt.plot(bal2, label='original')\n",
    "plt.plot(forecast.predicted_mean, label='SARIMAX', c=\"r\")\n",
    "\n",
    "plt.xticks(bal2.index.unique())\n",
    "plt.locator_params(axis='x', nbins=10)\n",
    "\n",
    "plt.xlabel('time')\n",
    "plt.ylabel('Number of contracts')\n",
    "plt.legend()\n",
    "plt.show()"
   ]
  },
  {
   "cell_type": "markdown",
   "id": "18ff135f",
   "metadata": {},
   "source": [
    "## Model Validation"
   ]
  },
  {
   "cell_type": "markdown",
   "id": "d8ab921b",
   "metadata": {},
   "source": [
    "### Featuring engineering"
   ]
  },
  {
   "cell_type": "code",
   "execution_count": null,
   "id": "8c10aedc",
   "metadata": {},
   "outputs": [],
   "source": [
    "# Featuring engineering\n",
    "# Lag features and Shift index\n",
    "for i in range(1,3):\n",
    "    lag_i = 'lag_' + str(i)\n",
    "    bal2[lag_i] = bal2['count'].shift(i)\n",
    "    \n",
    "# Rolling window\n",
    "bal2['rolling_mean'] = bal2['count'].rolling(window=2).mean()\n",
    "bal2['rolling_max'] = bal2['count'].rolling(window=2).max()\n",
    "bal2['rolling_min'] = bal2['count'].rolling(window=2).min()"
   ]
  },
  {
   "cell_type": "markdown",
   "id": "e952d4e5",
   "metadata": {},
   "source": [
    "### Correlation Feature"
   ]
  },
  {
   "cell_type": "code",
   "execution_count": null,
   "id": "db2d9775",
   "metadata": {},
   "outputs": [],
   "source": [
    "corr = bal2.corr()\n",
    "fig = plt.figure(figsize=(6,4))\n",
    "sns.heatmap(corr, linewidths=.5)"
   ]
  },
  {
   "cell_type": "code",
   "execution_count": null,
   "id": "b8016599",
   "metadata": {},
   "outputs": [],
   "source": [
    "# Inference: count is less correlated with lag_1 and lag_2. Hence removing them from dataset.\n",
    "# Capire qual è quello meno correlato e levarlo\n",
    "bal2 = bal2[[\"rolling_mean\",\"rolling_max\", \"rolling_min\", \"count\"]]\n",
    "print('Shape:', bal2.shape)\n",
    "bal2.head()"
   ]
  },
  {
   "cell_type": "code",
   "execution_count": null,
   "id": "ac4c6c59",
   "metadata": {},
   "outputs": [],
   "source": [
    "# Fill NaN values with mean value\n",
    "bal2.fillna(bal2.mean(), inplace = True)\n",
    "bal2.head()"
   ]
  },
  {
   "cell_type": "code",
   "execution_count": null,
   "id": "f4ee6cb8",
   "metadata": {},
   "outputs": [],
   "source": [
    "# Show the dimension of the dataset to calculate the train and the test\n",
    "bal2.shape"
   ]
  },
  {
   "cell_type": "code",
   "execution_count": null,
   "id": "8d634b9e",
   "metadata": {},
   "outputs": [],
   "source": [
    "# Split the time series data (Train-80, Test-20)\n",
    "print('Total records in dataset:', len(bal2))\n",
    "contract_train = bal2.iloc[0:138]               \n",
    "contract_test = bal2.iloc[138:]\n",
    "\n",
    "contract_pred_train = bal2.iloc[0:138]               \n",
    "contract_pred_test = bal2.iloc[138:]\n",
    "print('Total records in Training set:', len(contract_train))\n",
    "print('Total records in Test set:', len(rcontract_test))"
   ]
  },
  {
   "cell_type": "code",
   "execution_count": null,
   "id": "c8377ff8",
   "metadata": {},
   "outputs": [],
   "source": [
    "# Plot train and test sets\n",
    "contract_train['count'].plot(legend=True,label='TRAIN (80%)')\n",
    "contract_test['count'].plot(legend=True,label='TEST(20%)',figsize=(12,8));"
   ]
  },
  {
   "cell_type": "code",
   "execution_count": null,
   "id": "5683de0a",
   "metadata": {},
   "outputs": [],
   "source": [
    "# Delete the feature to predict\n",
    "X_train = contract_train.drop(['count'], axis=1)\n",
    "y_train = contract_train['count'].values\n",
    "\n",
    "X_test = contract_test.drop(['count'], axis=1)\n",
    "y_test = contract_test['count'].values"
   ]
  },
  {
   "cell_type": "code",
   "execution_count": null,
   "id": "97e8af30",
   "metadata": {},
   "outputs": [],
   "source": [
    "# Delete the feature to predict\n",
    "X_pred_train = contract_pred_train.drop(['count'], axis=1)\n",
    "y_pred_train = contract_pred_train['count'].values\n",
    "\n",
    "X_pred_test = contract_pred_test.drop(['count'], axis=1)\n",
    "y_pred_test = contract_pred_test['count'].values"
   ]
  },
  {
   "cell_type": "markdown",
   "id": "c9ba4c63",
   "metadata": {},
   "source": [
    "### Holt winter"
   ]
  },
  {
   "cell_type": "markdown",
   "id": "a0cda63f",
   "metadata": {},
   "source": [
    "Holt-Winters forecasting is a way to model and predict the behavior of a sequence of values over time—a time series.\n",
    "Holt-Winters is a way to model three aspects of the time series: a typical value (average), a slope (trend) over time, and a cyclical repeating pattern (seasonality)."
   ]
  },
  {
   "cell_type": "code",
   "execution_count": null,
   "id": "da26a68e",
   "metadata": {},
   "outputs": [],
   "source": [
    "# Modeling the simple exponential smoothing\n",
    "ses_model = SimpleExpSmoothing(contract_train['count']).fit(smoothing_level=0.3)\n",
    "ses_preds = ses_model.forecast(steps = 35) "
   ]
  },
  {
   "cell_type": "code",
   "execution_count": null,
   "id": "542d38ab",
   "metadata": {},
   "outputs": [],
   "source": [
    "# Calculate the errors\n",
    "ses_errors_df = contract_test[['count']]\n",
    "ses_errors_df['Predicted_Count'] = ses_preds.values\n",
    "ses_errors_df['Error'] = ses_preds.values - y_test\n",
    "ses_errors_df.insert(0, 'Modelname', 'Holtman- SES')"
   ]
  },
  {
   "cell_type": "code",
   "execution_count": null,
   "id": "846decfb",
   "metadata": {},
   "outputs": [],
   "source": [
    "# Modeling the double exponential smoothing\n",
    "double_model = ExponentialSmoothing(contract_train['count'],trend='add').fit()\n",
    "doublemodel_preds = double_model.forecast(35).rename('DES Forecast')"
   ]
  },
  {
   "cell_type": "code",
   "execution_count": null,
   "id": "cb09203f",
   "metadata": {},
   "outputs": [],
   "source": [
    "# Calculate the errors\n",
    "des_errors_df = contract_test[['count']]\n",
    "des_errors_df['Predicted_Count'] = doublemodel_preds.values\n",
    "des_errors_df['Error'] = doublemodel_preds.values - y_test\n",
    "des_errors_df.insert(0, 'Modelname', 'Holtman- DES')\n",
    "des_errors_df.head()"
   ]
  },
  {
   "cell_type": "code",
   "execution_count": null,
   "id": "c5cf8dc8",
   "metadata": {},
   "outputs": [],
   "source": [
    "# Modeling the triple exponential smoothing\n",
    "triple_model = ExponentialSmoothing(contract_train['count'],trend='add', seasonal= 'mul',seasonal_periods= 12).fit(use_boxcox=False, remove_bias=False)\n",
    "tes_forecast = triple_model.forecast(35).rename('TES_Forecast')"
   ]
  },
  {
   "cell_type": "code",
   "execution_count": null,
   "id": "ad45479e",
   "metadata": {},
   "outputs": [],
   "source": [
    "# Calculate the errors\n",
    "tes_errors_df = contract_test[['count']]\n",
    "tes_errors_df['Predicted_Count'] = tes_forecast.values\n",
    "tes_errors_df['Error'] = tes_forecast.values - y_test\n",
    "tes_errors_df.insert(0, 'Modelname', 'Holtman- TES')\n",
    "tes_errors_df.head()"
   ]
  },
  {
   "cell_type": "code",
   "execution_count": null,
   "id": "3d4491c0",
   "metadata": {},
   "outputs": [],
   "source": [
    "# Plot the number of contract using holtman forecast model using Double Exponential Smoothing\n",
    "fig = plt.figure(figsize=(14,7))\n",
    "plt.plot(contract_train.index, contract_train['count'], label='Train')\n",
    "plt.plot(contract_test.index, contract_test['count'], label='Test')\n",
    "plt.plot(des_errors_df.index, des_errors_df['Predicted_Count'], label='Forecast - HW-DES')\n",
    "plt.legend(loc='best')\n",
    "plt.xlabel('date')\n",
    "plt.ylabel('count')\n",
    "plt.title('Forecast using Holt Winters-Double Exponential Smoothing')\n",
    "plt.show()"
   ]
  },
  {
   "cell_type": "code",
   "execution_count": null,
   "id": "2108979a",
   "metadata": {},
   "outputs": [],
   "source": [
    "# Plot the number of contract using holtman forecast model using Triple Exponential Smoothing\n",
    "fig = plt.figure(figsize=(14,7))\n",
    "plt.plot(contract_train.index, contract_train['count'], label='Train')\n",
    "plt.plot(contract_test.index, contract_test['count'], label='Test')\n",
    "plt.plot(tes_errors_df.index, tes_errors_df['Predicted_Count'], label='Forecast - HW-TES')\n",
    "plt.legend(loc='best')\n",
    "plt.xlabel('date')\n",
    "plt.ylabel('count')\n",
    "plt.title('Forecast using Holt Winters-Triple Exponential Smoothing')\n",
    "plt.show()"
   ]
  },
  {
   "cell_type": "code",
   "execution_count": null,
   "id": "266caa18",
   "metadata": {},
   "outputs": [],
   "source": [
    "# Define metrics\n",
    "\n",
    "def mae(err):\n",
    "    return np.mean(np.abs(err))\n",
    "\n",
    "def rmse(err):\n",
    "    return np.sqrt(np.mean(err ** 2))\n",
    "\n",
    "def mape(err, count=tes_errors_df['count']):\n",
    "    return np.sum(np.abs(err))/np.sum(count) * 100"
   ]
  },
  {
   "cell_type": "markdown",
   "id": "1821c4b6",
   "metadata": {},
   "source": [
    "### Extra trees regressor"
   ]
  },
  {
   "cell_type": "markdown",
   "id": "b0bdd198",
   "metadata": {},
   "source": [
    "* Composed of a large number of decision trees, where the final decision is obtained taking into account the prediction of every tree\n",
    "* When selecting the partition of each node, randomly choose a subset of features"
   ]
  },
  {
   "cell_type": "code",
   "execution_count": null,
   "id": "1d1f8573",
   "metadata": {},
   "outputs": [],
   "source": [
    "# Fit model\n",
    "etr_model = ExtraTreesRegressor(n_estimators=100)\n",
    "etr_model.fit(X_train, y_train)"
   ]
  },
  {
   "cell_type": "code",
   "execution_count": null,
   "id": "43ea4c1a",
   "metadata": {},
   "outputs": [],
   "source": [
    "# Start the prediction\n",
    "etr_preds = etr_model.predict(X_test)\n",
    "print('Prediction is done..')"
   ]
  },
  {
   "cell_type": "code",
   "execution_count": null,
   "id": "6d13ec8f",
   "metadata": {},
   "outputs": [],
   "source": [
    "# Check the score for the train and test sets\n",
    "print('Model Score at Train set: {:.2%}'.format(etr_model.score(X_train, y_train)))\n",
    "print('Model Score at Test set: {:.2%}'.format(etr_model.score(X_test, y_test)))"
   ]
  },
  {
   "cell_type": "code",
   "execution_count": null,
   "id": "96ad6013",
   "metadata": {},
   "outputs": [],
   "source": [
    "# Calculate the errors\n",
    "etr_errors_df = contract_test[['count']]\n",
    "etr_errors_df['Predicted_Count'] = etr_preds\n",
    "etr_errors_df['Error'] = etr_preds - y_test\n",
    "etr_errors_df.insert(0, 'Modelname', 'ExtreeTreesRegressor')\n",
    "etr_errors_df.head()"
   ]
  },
  {
   "cell_type": "code",
   "execution_count": null,
   "id": "af113c59",
   "metadata": {},
   "outputs": [],
   "source": [
    "# Show the predictions for Extra Tree Regressor\n",
    "fig = plt.figure(figsize=(14,7))\n",
    "plt.plot(contract_train.index, contract_train['count'], label='Train')\n",
    "plt.plot(contract_test.index, contract_test['count'], label='Test')\n",
    "plt.plot(etr_errors_df.index, etr_errors_df['Predicted_Count'], label='Forecast - ExtraTreesRegressor')\n",
    "plt.legend(loc='best')\n",
    "plt.xlabel('Date')\n",
    "plt.ylabel('count')\n",
    "plt.title('Forecast using ExtraTreesRegressor model')\n",
    "plt.show()"
   ]
  },
  {
   "cell_type": "markdown",
   "id": "65131c21",
   "metadata": {},
   "source": [
    "### Linear regression"
   ]
  },
  {
   "cell_type": "markdown",
   "id": "3fbebc62",
   "metadata": {},
   "source": [
    "Model for understanding the relationship between input and output numerical variables. "
   ]
  },
  {
   "cell_type": "code",
   "execution_count": null,
   "id": "5ed3bab2",
   "metadata": {},
   "outputs": [],
   "source": [
    "# Fit model\n",
    "lr_model = LinearRegression()\n",
    "lr_model.fit(X_train, y_train)"
   ]
  },
  {
   "cell_type": "code",
   "execution_count": null,
   "id": "d7493812",
   "metadata": {},
   "outputs": [],
   "source": [
    "# Start the prediction\n",
    "lr_preds = lr_model.predict(X_test)\n",
    "print('Prediction is done..')"
   ]
  },
  {
   "cell_type": "code",
   "execution_count": null,
   "id": "ff876076",
   "metadata": {},
   "outputs": [],
   "source": [
    "# Calculate the errors\n",
    "lr_errors_df = contract_test[['count']]\n",
    "lr_errors_df['Predicted_Count'] = lr_preds\n",
    "lr_errors_df['Error'] = lr_preds - y_test\n",
    "lr_errors_df.insert(0, 'Modelname', 'Linear Regression')\n",
    "lr_errors_df.head()"
   ]
  },
  {
   "cell_type": "code",
   "execution_count": null,
   "id": "7e89650e",
   "metadata": {},
   "outputs": [],
   "source": [
    "# Show the predictions for Linear Regression\n",
    "fig = plt.figure(figsize=(14,7))\n",
    "plt.plot(contract_train.index, contract_train['count'], label='Train')\n",
    "plt.plot(contract_test.index, contract_test['count'], label='Test')\n",
    "plt.plot(lr_errors_df.index, lr_errors_df['Predicted_Count'], label='Forecast - Linear Regression')\n",
    "plt.legend(loc='best')\n",
    "plt.xlabel('Date')\n",
    "plt.ylabel('count')\n",
    "plt.title('Forecast using Linear Regression')\n",
    "plt.show()"
   ]
  },
  {
   "cell_type": "markdown",
   "id": "bd875f09",
   "metadata": {},
   "source": [
    "### ARIMA e SARIMAX"
   ]
  },
  {
   "cell_type": "code",
   "execution_count": null,
   "id": "26a24149",
   "metadata": {},
   "outputs": [],
   "source": [
    "# Fit the model\n",
    "arima_model = ARIMA(bal2['count'], (3,1,3)).fit(disp=False)\n",
    "print(arima_model.summary())"
   ]
  },
  {
   "cell_type": "code",
   "execution_count": null,
   "id": "39221e43",
   "metadata": {},
   "outputs": [],
   "source": [
    "# Fit the model\n",
    "sarima_model = SARIMAX(bal2['count'], order=(3, 1, 3), seasonal_order=(6, 1, 0, 6), \n",
    "                       enforce_invertibility=False, enforce_stationarity=False)\n",
    "sarima_fit = sarima_model.fit()\n",
    "sarima_test_df = contract_test[[\"count\"]]\n",
    "sarima_test_df['Predicted_Count'] = sarima_fit.predict(start=contract_test.index[0],\n",
    "                                                 end=contract_test.index[-1], dynamic= True)\n",
    "plot = sarima_fit.plot_diagnostics(figsize=(14,7))\n",
    "plot"
   ]
  },
  {
   "cell_type": "code",
   "execution_count": null,
   "id": "fba53efa",
   "metadata": {},
   "outputs": [],
   "source": [
    "# Evaluation of errors\n",
    "sarima_test_df['Error'] = sarima_test_df['count'] - sarima_test_df.Predicted_Count\n",
    "sarima_test_df.insert(0, 'Modelname', 'SARIMA')\n",
    "sarima_test_df.head()"
   ]
  },
  {
   "cell_type": "code",
   "execution_count": null,
   "id": "1a2b7ece",
   "metadata": {},
   "outputs": [],
   "source": [
    "# Show the predictions for SARIMA model\n",
    "fig = plt.figure(figsize=(14,7))\n",
    "plt.plot(contract_train.index, contract_train['count'], label='Train')\n",
    "plt.plot(contract_test.index, contract_test['count'], label='Test')\n",
    "plt.plot(sarima_test_df.index, sarima_test_df['Predicted_Count'], label='Forecast - SARIMA')\n",
    "plt.legend(loc='best')\n",
    "plt.xlabel('Date')\n",
    "plt.ylabel('count')\n",
    "plt.title('Forecast using SARIMA')\n",
    "plt.show()"
   ]
  },
  {
   "cell_type": "code",
   "execution_count": null,
   "id": "29c41bee",
   "metadata": {},
   "outputs": [],
   "source": [
    "# Show the errors for the predicted and the actual values\n",
    "plt.figure(figsize=(14,7))\n",
    "plt.plot(sarima_test_df.index, np.abs(sarima_test_df['Error']), label='errors')\n",
    "plt.plot(sarima_test_df.index, sarima_test_df['count'], label='Actual Count')\n",
    "plt.plot(sarima_test_df.index, sarima_test_df['Predicted_Count'], label='Predicted Count')\n",
    "plt.legend(loc='best')\n",
    "plt.xlabel('Date')\n",
    "plt.ylabel('Count')\n",
    "plt.title('Seasonal ARIMA (SARIMA) forecasts with actual count vs errors')\n",
    "plt.show()"
   ]
  },
  {
   "cell_type": "markdown",
   "id": "726da60a",
   "metadata": {},
   "source": [
    "### SVR (Support Vector Regressor)  regressor"
   ]
  },
  {
   "cell_type": "markdown",
   "id": "0a263ae3",
   "metadata": {},
   "source": [
    "Regression model that gives  the flexibility to define how much error is acceptable in our model and will find an appropriate line to fit the data."
   ]
  },
  {
   "cell_type": "code",
   "execution_count": null,
   "id": "a50a526d",
   "metadata": {},
   "outputs": [],
   "source": [
    "# Start the prediction\n",
    "svr_model = sklearn.svm.SVR(kernel='linear', degree=3, C=1.0,).fit(X_train, y_train)\n",
    "svr_preds = svr_model.predict(X_test)\n",
    "print('Prediction is done...')\n",
    "\n",
    "# Errors calculation\n",
    "svr_errors_df = contract_test[['count']]\n",
    "svr_errors_df['Predicted_Count'] = svr_preds\n",
    "svr_errors_df['Error'] = svr_preds - y_test\n",
    "svr_errors_df.insert(0, 'Modelname', 'Support Vector Regressor')\n",
    "svr_errors_df.head()"
   ]
  },
  {
   "cell_type": "code",
   "execution_count": null,
   "id": "02065b60",
   "metadata": {},
   "outputs": [],
   "source": [
    "# Show predictions for Support Vector Regressor\n",
    "fig = plt.figure(figsize=(14,7))\n",
    "plt.plot(contract_train.index, contract_train['count'], label='Train')\n",
    "plt.plot(contract_test.index, contract_test['count'], label='Test')\n",
    "plt.plot(svr_errors_df.index, svr_errors_df['Predicted_Count'], label='Forecast - Support Vector Regressor')\n",
    "plt.legend(loc='best')\n",
    "plt.xlabel('Intervals')\n",
    "plt.ylabel('Count')\n",
    "plt.title('Forecast using Support Vector Regressor')\n",
    "plt.show()"
   ]
  },
  {
   "cell_type": "markdown",
   "id": "bc00b19e",
   "metadata": {},
   "source": [
    "## Compare the different models"
   ]
  },
  {
   "cell_type": "markdown",
   "id": "017198b6",
   "metadata": {},
   "source": [
    "To compare the models, we use:\n",
    "* MAE: Mean Absolute Error is the average over the verification sample of the absolute values of the differences between forecast and the corresponding observation.\n",
    "* RMSE: Root Mean Squared Error is the square root of the mean of the square of all of the error.\n",
    "* MAPE: Mean Absolute Percentage Error is a measure of prediction accuracy of a forecasting method in statistics."
   ]
  },
  {
   "cell_type": "code",
   "execution_count": null,
   "id": "3f37e069",
   "metadata": {},
   "outputs": [],
   "source": [
    "# Calculate metrics for SVR\n",
    "result_df_svr = svr_errors_df.groupby('Modelname').agg(Total_Count=('count', 'sum'),\n",
    "                                          Total_Pred_Count=('Predicted_Count', 'sum'),\n",
    "                                          Model_Overall_Error=('Error', 'sum'),\n",
    "                                          MAE=('Error', mae),\n",
    "                                          RMSE=('Error', rmse), \n",
    "                                          MAPE=('Error', mape))\n",
    "result_df_svr"
   ]
  },
  {
   "cell_type": "code",
   "execution_count": null,
   "id": "dc6de942",
   "metadata": {},
   "outputs": [],
   "source": [
    "# Calculate metrics for SARIMA\n",
    "result_df_sarima = sarima_test_df.groupby('Modelname').agg(Total_Count=('count', 'sum'),\n",
    "                                          Total_Pred_Count=('Predicted_Count', 'sum'),\n",
    "                                          Model_Overall_Error=('Error', 'sum'),\n",
    "                                          MAE=('Error', mae),\n",
    "                                          RMSE=('Error', rmse), \n",
    "                                          MAPE=('Error', mape))\n",
    "result_df_sarima"
   ]
  },
  {
   "cell_type": "code",
   "execution_count": null,
   "id": "cbf07491",
   "metadata": {},
   "outputs": [],
   "source": [
    "# Calculate metrics for Holtman Winter\n",
    "result_df_hw = tes_errors_df.groupby('Modelname').agg(Total_Count=('count', 'sum'),\n",
    "                                          Total_Pred_Count=('Predicted_Count', 'sum'),\n",
    "                                          Model_Overall_Error=('Error', 'sum'),\n",
    "                                          MAE=('Error', mae),\n",
    "                                          RMSE=('Error', rmse), \n",
    "                                          MAPE=('Error', mape))\n",
    "result_df_hw"
   ]
  },
  {
   "cell_type": "code",
   "execution_count": null,
   "id": "00e7a21e",
   "metadata": {},
   "outputs": [],
   "source": [
    "# Calculate metrics for Linear regression\n",
    "result_df_lr = lr_errors_df.groupby('Modelname').agg(Total_Count=('count', 'sum'),\n",
    "                                          Total_Pred_Count=('Predicted_Count', 'sum'),\n",
    "                                          Model_Overall_Error=('Error', 'sum'),\n",
    "                                          MAE=('Error', mae),\n",
    "                                          RMSE=('Error', rmse), \n",
    "                                          MAPE=('Error', mape))\n",
    "result_df_lr"
   ]
  },
  {
   "cell_type": "code",
   "execution_count": null,
   "id": "df224878",
   "metadata": {},
   "outputs": [],
   "source": [
    "result_df_etr = etr_errors_df.groupby('Modelname').agg(Total_Count=('count', 'sum'),\n",
    "                                          Total_Pred_Count=('Predicted_Count', 'sum'),\n",
    "                                          Model_Overall_Error=('Error', 'sum'),\n",
    "                                          MAE=('Error', mae),\n",
    "                                          RMSE=('Error', rmse), \n",
    "                                          MAPE=('Error', mape))\n",
    "result_df_etr"
   ]
  },
  {
   "cell_type": "code",
   "execution_count": null,
   "id": "648725e2",
   "metadata": {},
   "outputs": [],
   "source": [
    "# Create the table with all the previous calculated results\n",
    "list_objs = [result_df_svr, result_df_lr, result_df_hw, result_df_sarima, result_df_etr]\n",
    "metrics_table = pd.concat(list_objs)\n",
    "metrics_table"
   ]
  },
  {
   "cell_type": "code",
   "execution_count": null,
   "id": "31c7bca6",
   "metadata": {},
   "outputs": [],
   "source": [
    "# Check of the model\n",
    "print('Model Score at Train set: {:.2%}'.format(etr_model.score(X_train, y_train)))\n",
    "print('Model Score at Test set: {:.2%}'.format(etr_model.score(X_test, y_test)))"
   ]
  },
  {
   "cell_type": "markdown",
   "id": "1c0eda44",
   "metadata": {},
   "source": [
    "Inference: From above metrics it was clear that \"Extra Trees Regressor\" model performs well out of all 6 models. In addition model score is pretty accurate with (100% for Train data, 96.91% for Test data). Hence, finalizing the model for predicting retail sales and obtaining results in CSV file."
   ]
  },
  {
   "cell_type": "markdown",
   "id": "0f824a31",
   "metadata": {},
   "source": [
    "## try to predict with extratree regressor"
   ]
  },
  {
   "cell_type": "code",
   "execution_count": null,
   "id": "57b57f05",
   "metadata": {},
   "outputs": [],
   "source": []
  },
  {
   "cell_type": "markdown",
   "id": "3e826e86",
   "metadata": {},
   "source": [
    "## Prima del covid"
   ]
  },
  {
   "cell_type": "code",
   "execution_count": 19,
   "id": "88423db0",
   "metadata": {},
   "outputs": [
    {
     "data": {
      "text/html": [
       "<div>\n",
       "<style scoped>\n",
       "    .dataframe tbody tr th:only-of-type {\n",
       "        vertical-align: middle;\n",
       "    }\n",
       "\n",
       "    .dataframe tbody tr th {\n",
       "        vertical-align: top;\n",
       "    }\n",
       "\n",
       "    .dataframe thead th {\n",
       "        text-align: right;\n",
       "    }\n",
       "</style>\n",
       "<table border=\"1\" class=\"dataframe\">\n",
       "  <thead>\n",
       "    <tr style=\"text-align: right;\">\n",
       "      <th></th>\n",
       "      <th>ETA</th>\n",
       "      <th>ANNO</th>\n",
       "      <th>nazionalita_transformed</th>\n",
       "      <th>contratto_transformed</th>\n",
       "      <th>genere_transformed</th>\n",
       "      <th>Output_transformed</th>\n",
       "    </tr>\n",
       "  </thead>\n",
       "  <tbody>\n",
       "    <tr>\n",
       "      <th>0</th>\n",
       "      <td>25</td>\n",
       "      <td>2014</td>\n",
       "      <td>89</td>\n",
       "      <td>0</td>\n",
       "      <td>1</td>\n",
       "      <td>13966</td>\n",
       "    </tr>\n",
       "    <tr>\n",
       "      <th>1</th>\n",
       "      <td>46</td>\n",
       "      <td>2011</td>\n",
       "      <td>89</td>\n",
       "      <td>0</td>\n",
       "      <td>0</td>\n",
       "      <td>13797</td>\n",
       "    </tr>\n",
       "    <tr>\n",
       "      <th>2</th>\n",
       "      <td>24</td>\n",
       "      <td>2016</td>\n",
       "      <td>144</td>\n",
       "      <td>0</td>\n",
       "      <td>0</td>\n",
       "      <td>6674</td>\n",
       "    </tr>\n",
       "    <tr>\n",
       "      <th>4</th>\n",
       "      <td>32</td>\n",
       "      <td>2012</td>\n",
       "      <td>89</td>\n",
       "      <td>0</td>\n",
       "      <td>1</td>\n",
       "      <td>26698</td>\n",
       "    </tr>\n",
       "    <tr>\n",
       "      <th>7</th>\n",
       "      <td>18</td>\n",
       "      <td>2014</td>\n",
       "      <td>89</td>\n",
       "      <td>0</td>\n",
       "      <td>1</td>\n",
       "      <td>29660</td>\n",
       "    </tr>\n",
       "    <tr>\n",
       "      <th>...</th>\n",
       "      <td>...</td>\n",
       "      <td>...</td>\n",
       "      <td>...</td>\n",
       "      <td>...</td>\n",
       "      <td>...</td>\n",
       "      <td>...</td>\n",
       "    </tr>\n",
       "    <tr>\n",
       "      <th>2703936</th>\n",
       "      <td>31</td>\n",
       "      <td>2014</td>\n",
       "      <td>70</td>\n",
       "      <td>1</td>\n",
       "      <td>0</td>\n",
       "      <td>18031</td>\n",
       "    </tr>\n",
       "    <tr>\n",
       "      <th>2703937</th>\n",
       "      <td>34</td>\n",
       "      <td>2012</td>\n",
       "      <td>89</td>\n",
       "      <td>1</td>\n",
       "      <td>0</td>\n",
       "      <td>18039</td>\n",
       "    </tr>\n",
       "    <tr>\n",
       "      <th>2703940</th>\n",
       "      <td>28</td>\n",
       "      <td>2014</td>\n",
       "      <td>89</td>\n",
       "      <td>1</td>\n",
       "      <td>1</td>\n",
       "      <td>18031</td>\n",
       "    </tr>\n",
       "    <tr>\n",
       "      <th>2703941</th>\n",
       "      <td>33</td>\n",
       "      <td>2009</td>\n",
       "      <td>89</td>\n",
       "      <td>1</td>\n",
       "      <td>0</td>\n",
       "      <td>18036</td>\n",
       "    </tr>\n",
       "    <tr>\n",
       "      <th>2703943</th>\n",
       "      <td>34</td>\n",
       "      <td>2011</td>\n",
       "      <td>89</td>\n",
       "      <td>1</td>\n",
       "      <td>0</td>\n",
       "      <td>18021</td>\n",
       "    </tr>\n",
       "  </tbody>\n",
       "</table>\n",
       "<p>2114197 rows × 6 columns</p>\n",
       "</div>"
      ],
      "text/plain": [
       "         ETA  ANNO  nazionalita_transformed  contratto_transformed  \\\n",
       "0         25  2014                       89                      0   \n",
       "1         46  2011                       89                      0   \n",
       "2         24  2016                      144                      0   \n",
       "4         32  2012                       89                      0   \n",
       "7         18  2014                       89                      0   \n",
       "...      ...   ...                      ...                    ...   \n",
       "2703936   31  2014                       70                      1   \n",
       "2703937   34  2012                       89                      1   \n",
       "2703940   28  2014                       89                      1   \n",
       "2703941   33  2009                       89                      1   \n",
       "2703943   34  2011                       89                      1   \n",
       "\n",
       "         genere_transformed  Output_transformed  \n",
       "0                         1               13966  \n",
       "1                         0               13797  \n",
       "2                         0                6674  \n",
       "4                         1               26698  \n",
       "7                         1               29660  \n",
       "...                     ...                 ...  \n",
       "2703936                   0               18031  \n",
       "2703937                   0               18039  \n",
       "2703940                   1               18031  \n",
       "2703941                   0               18036  \n",
       "2703943                   0               18021  \n",
       "\n",
       "[2114197 rows x 6 columns]"
      ]
     },
     "execution_count": 19,
     "metadata": {},
     "output_type": "execute_result"
    }
   ],
   "source": [
    "transformed = transformed[transformed['ANNO']<2019]\n",
    "transformed"
   ]
  },
  {
   "cell_type": "markdown",
   "id": "1821fcb7",
   "metadata": {},
   "source": [
    "### Balancing"
   ]
  },
  {
   "cell_type": "code",
   "execution_count": 20,
   "id": "c4164b5c",
   "metadata": {},
   "outputs": [
    {
     "data": {
      "text/plain": [
       "1    0.503526\n",
       "0    0.496474\n",
       "Name: contratto_transformed, dtype: float64"
      ]
     },
     "execution_count": 20,
     "metadata": {},
     "output_type": "execute_result"
    }
   ],
   "source": [
    "# Check if the dataset is balanced\n",
    "transformed[\"contratto_transformed\"].value_counts(normalize=True)"
   ]
  },
  {
   "cell_type": "markdown",
   "id": "3a934d7d",
   "metadata": {},
   "source": [
    "We notice that the dataset is not balanced basing on the type of contract"
   ]
  },
  {
   "cell_type": "code",
   "execution_count": 22,
   "id": "1f8a0835",
   "metadata": {},
   "outputs": [
    {
     "data": {
      "text/plain": [
       "ETA                        1064553\n",
       "ANNO                       1064553\n",
       "nazionalita_transformed    1064553\n",
       "contratto_transformed      1064553\n",
       "genere_transformed         1064553\n",
       "Output_transformed         1064553\n",
       "dtype: int64"
      ]
     },
     "execution_count": 22,
     "metadata": {},
     "output_type": "execute_result"
    }
   ],
   "source": [
    "# Count the occurencies of INDETERMINATO's contracts\n",
    "transformed[transformed[\"contratto_transformed\"]==1].count()"
   ]
  },
  {
   "cell_type": "code",
   "execution_count": 23,
   "id": "fa2cb813",
   "metadata": {},
   "outputs": [
    {
     "data": {
      "text/plain": [
       "ETA                        1049644\n",
       "ANNO                       1049644\n",
       "nazionalita_transformed    1049644\n",
       "contratto_transformed      1049644\n",
       "genere_transformed         1049644\n",
       "Output_transformed         1049644\n",
       "dtype: int64"
      ]
     },
     "execution_count": 23,
     "metadata": {},
     "output_type": "execute_result"
    }
   ],
   "source": [
    "# Count the occurencies of NON INDETERMINATO's contracts\n",
    "transformed[transformed[\"contratto_transformed\"]==0].count()"
   ]
  },
  {
   "cell_type": "markdown",
   "id": "9c9b7503",
   "metadata": {},
   "source": [
    "#### Random Undersampling TO CHECK"
   ]
  },
  {
   "cell_type": "markdown",
   "id": "08b55a2c",
   "metadata": {},
   "source": [
    "We use undersampling instead of oversampling because we care more about the INDETERMINATO's contracts which have less occurencies, even if there are the possibilities to lose some informations."
   ]
  },
  {
   "cell_type": "code",
   "execution_count": null,
   "id": "f9ae881a",
   "metadata": {},
   "outputs": [],
   "source": [
    "# VALUE DA CAMBIARE\n",
    "# Execute the undersampling for the NON INDETERMINATO's contracts\n",
    "data_0 = transformed[transformed[\"contratto_transformed\"]==0].sample(n=1351972,random_state=16) \n",
    "data_1 = transformed[transformed[\"contratto_transformed\"]==1]\n",
    "balanced = data_0.append(data_1)\n",
    "balanced"
   ]
  },
  {
   "cell_type": "code",
   "execution_count": null,
   "id": "fbf09b7f",
   "metadata": {},
   "outputs": [],
   "source": [
    "# Check if the dataset is balanced\n",
    "balanced[\"contratto_transformed\"].value_counts(normalize=True)"
   ]
  },
  {
   "cell_type": "markdown",
   "id": "021777ea",
   "metadata": {},
   "source": [
    "### Create the train and test sets"
   ]
  },
  {
   "cell_type": "code",
   "execution_count": null,
   "id": "27dba04a",
   "metadata": {},
   "outputs": [],
   "source": [
    "# Create the train and test sets\n",
    "X = balanced[[\"ETA\",\"ANNO\",\"contratto_transformed\",\"nazionalita_transformed\",\"genere_transformed\"]].values\n",
    "y = pd.DataFrame(balanced['Output_transformed'].copy()).values\n",
    "\n",
    "X_train, X_test, y_train, y_test = train_test_split(X, y, test_size = 0.3, random_state = 7)"
   ]
  },
  {
   "cell_type": "code",
   "execution_count": null,
   "id": "c2303efe",
   "metadata": {},
   "outputs": [],
   "source": [
    "# To avoid the MemoryError, we change the dataset's type into a new lighter one\n",
    "X_train=X_train.astype(np.uint8)\n",
    "y_train=y_train.astype(np.uint8)"
   ]
  },
  {
   "cell_type": "markdown",
   "id": "25ae6a6e",
   "metadata": {},
   "source": [
    "### Decision Tree"
   ]
  },
  {
   "cell_type": "code",
   "execution_count": null,
   "id": "2342d9ec",
   "metadata": {},
   "outputs": [],
   "source": [
    "# Create Decision tree and fit it\n",
    "dct = dct(X_train, y_train)\n",
    "dct.fit(X_train, y_train)"
   ]
  },
  {
   "cell_type": "code",
   "execution_count": null,
   "id": "d6134e3d",
   "metadata": {},
   "outputs": [],
   "source": [
    "# With the following sintax we will create a .dot file with the code for visualizing th tree\n",
    "tree.export_graphviz(dct, out_file='tree.dot', feature_names=[\"ETA\",\"ANNO\",\"contratto_transformed\",\"nazionalita_transformed\",\"genere_transformed\"])"
   ]
  },
  {
   "cell_type": "code",
   "execution_count": null,
   "id": "f3fc746c",
   "metadata": {},
   "outputs": [],
   "source": [
    "# Show Decision tree\n",
    "tree.plot_tree(dct)"
   ]
  },
  {
   "cell_type": "code",
   "execution_count": null,
   "id": "e1fa727d",
   "metadata": {},
   "outputs": [],
   "source": [
    "# Probablistic prediction the values\n",
    "y_pred_prob = dct.predict_proba(X_test)\n",
    "y_pred_prob"
   ]
  },
  {
   "cell_type": "code",
   "execution_count": null,
   "id": "9c72aee8",
   "metadata": {},
   "outputs": [],
   "source": [
    "# Predict the values\n",
    "y_pred = dct.predict(X_test)\n",
    "y_pred"
   ]
  },
  {
   "cell_type": "markdown",
   "id": "12188b61",
   "metadata": {},
   "source": [
    "#### Confusion Matrix"
   ]
  },
  {
   "cell_type": "code",
   "execution_count": null,
   "id": "2684f4bc",
   "metadata": {},
   "outputs": [],
   "source": [
    "# To avoid the MemoryError, we change the dataset's type into a new lighter one\n",
    "y_test=y_test.astype(np.uint8)\n",
    "y_pred=y_pred.astype(np.uint8)\n",
    "\n",
    "# Print the confusion matrix\n",
    "confusion = metrics.confusion_matrix(y_test, y_pred)\n",
    "print(confusion)"
   ]
  },
  {
   "cell_type": "markdown",
   "id": "50178cd1",
   "metadata": {},
   "source": [
    "### Future Prediction"
   ]
  },
  {
   "cell_type": "markdown",
   "id": "d57c42be",
   "metadata": {},
   "source": [
    "#### ARIMA"
   ]
  },
  {
   "cell_type": "markdown",
   "id": "39afe5ab",
   "metadata": {},
   "source": [
    "Prediction of the number of activated contracts wiht Autoregressive integrated moving average model."
   ]
  },
  {
   "cell_type": "code",
   "execution_count": null,
   "id": "0f0a8cd0",
   "metadata": {},
   "outputs": [],
   "source": [
    "# Load the dataset\n",
    "balanced\n",
    "bal1 = balanced.copy()\n",
    "bal1 = bal1.reset_index(drop=True)\n",
    "bal1"
   ]
  },
  {
   "cell_type": "code",
   "execution_count": null,
   "id": "e2ed1c43",
   "metadata": {},
   "outputs": [],
   "source": [
    "# Set mese-anno like index\n",
    "# Show count of contract for each mese-anno\n",
    "bal2 = bal1.groupby(\"mese-anno\").size().reset_index(name='count')\n",
    "bal2 = bal2.set_index('mese-anno')\n",
    "f, ax1 = plt.subplots(1,1,figsize=(15,5))\n",
    "bal2.plot(ax=ax1)\n",
    "ax1.set_xlabel(\"time\")\n",
    "ax1.set_ylabel(\"Number of Contracts\")\n",
    "plt.grid(True)"
   ]
  },
  {
   "cell_type": "code",
   "execution_count": null,
   "id": "82dc0ad7",
   "metadata": {},
   "outputs": [],
   "source": [
    "# Calculate the Augmented Dickey-Fuller test can be used to test for a unit root in a univariate \n",
    "#process in the presence of serial correlation.\n",
    "results = adfuller(bal2['count'])\n",
    "print('ADF Statistic: %f' % results[0])\n",
    "print('p-value: %f' % results[1])"
   ]
  },
  {
   "cell_type": "code",
   "execution_count": null,
   "id": "b80c8218",
   "metadata": {},
   "outputs": [],
   "source": [
    "# Show seasonality and trend\n",
    "plt.rcParams['figure.figsize'] = 20, 10\n",
    "# Additive decomposition\n",
    "decomposed_add = seasonal_decompose(bal2, model=\"additive\", period=5)\n",
    "\n",
    "fig, ax = plt.subplots(4, 1, figsize=(15, 8))\n",
    "# Plot the series\n",
    "decomposed_add.observed.plot(ax = ax[0])\n",
    "decomposed_add.trend.plot(ax = ax[1])\n",
    "decomposed_add.seasonal.plot(ax = ax[2])\n",
    "decomposed_add.resid.plot(ax = ax[3])\n",
    "# Add the labels to the Y-axis\n",
    "ax[0].set_ylabel('')\n",
    "ax[1].set_ylabel('Trend')\n",
    "ax[2].set_ylabel('Seasonal')\n",
    "ax[3].set_ylabel('Residual')\n",
    "\n",
    "plt.tight_layout()\n",
    "plt.show()"
   ]
  },
  {
   "cell_type": "code",
   "execution_count": null,
   "id": "362d0d71",
   "metadata": {},
   "outputs": [],
   "source": [
    "# Calculate differential\n",
    "bal_diff = bal2['count'].diff().dropna()\n",
    "plt.figure(figsize=(12,5))\n",
    "ax1 = bal_diff.plot()\n",
    "ax1.set_xlabel(\"Anno\")\n",
    "ax1.set_ylabel(\"diff\")\n",
    "plt.grid(True)\n",
    "plt.show()"
   ]
  },
  {
   "cell_type": "code",
   "execution_count": null,
   "id": "177d4b8f",
   "metadata": {},
   "outputs": [],
   "source": [
    "# Calculate the Augmented Dickey-Fuller test\n",
    "\n",
    "results = adfuller(bal_diff)\n",
    "print('ADF Statistic: %f' % results[0])\n",
    "print('p-value: %f' % results[1])"
   ]
  },
  {
   "cell_type": "code",
   "execution_count": null,
   "id": "2c7918d4",
   "metadata": {},
   "outputs": [],
   "source": [
    "# Calculate the Augmented Dickey-Fuller test\n",
    "results = adfuller(bal2['count'].diff().diff().dropna())\n",
    "print('ADF Statistic: %f' % results[0])\n",
    "print(\"P-value of a test is: {}\".format(results[1]))"
   ]
  },
  {
   "cell_type": "code",
   "execution_count": null,
   "id": "08593686",
   "metadata": {},
   "outputs": [],
   "source": [
    "# Show autocorrelation and partial correlation\n",
    "fig,ax = plt.subplots(2,1,figsize=(20,10))\n",
    "plot_acf(bal_diff, lags=4, ax=ax[0])\n",
    "plot_pacf(bal_diff, lags=4, ax=ax[1])\n",
    "plt.show()"
   ]
  },
  {
   "cell_type": "code",
   "execution_count": null,
   "id": "bbecc96b",
   "metadata": {},
   "outputs": [],
   "source": [
    "# Search p and q values\n",
    "\n",
    "arima_df = pd.DataFrame(columns=[\"p\",\"q\",\"aic\",\"bic\"])\n",
    "\n",
    "i=0\n",
    "# Loop over p values from 0-5\n",
    "for p in range(4):\n",
    "    # Loop over q values from 0-5\n",
    "    for q in range(4):\n",
    "        \n",
    "        try:\n",
    "            # creating and fitting ARIMA(p,1,q) model\n",
    "            model = ARIMA(bal2['count'].astype(float), order=(p,1,q))\n",
    "            results = model.fit()\n",
    "            \n",
    "            # Printing order, AIC and BIC\n",
    "            #print(p, q, results.aic, results.bic)\n",
    "            arima_df.loc[i,\"p\"] = p\n",
    "            arima_df.loc[i,\"q\"] = q\n",
    "            arima_df.loc[i,\"aic\"] = results.aic\n",
    "            arima_df.loc[i,\"bic\"] = results.bic\n",
    "            i = i+1\n",
    "        except:\n",
    "            #print(p, q, None, None)\n",
    "            i = i+1\n",
    "    \n",
    "arima_df[\"sum_aic_bic\"] = arima_df[\"aic\"]+arima_df[\"bic\"]\n",
    "arima_df.sort_values(by=\"aic\", ascending=False, inplace=True)\n",
    "arima_df"
   ]
  },
  {
   "cell_type": "code",
   "execution_count": null,
   "id": "53270a53",
   "metadata": {},
   "outputs": [],
   "source": [
    "# Compute the model\n",
    "model2 = SARIMAX(bal2, order=(2,1,1), seasonal_order=(0,1,0,6))\n",
    "results = model2.fit()\n",
    "results.summary()"
   ]
  },
  {
   "cell_type": "code",
   "execution_count": null,
   "id": "e2364760",
   "metadata": {},
   "outputs": [],
   "source": [
    "# Show ---\n",
    "plt.rcParams['figure.figsize'] = 12, 8\n",
    "plot = results.plot_diagnostics()"
   ]
  },
  {
   "cell_type": "code",
   "execution_count": null,
   "id": "71ba224b",
   "metadata": {},
   "outputs": [],
   "source": [
    "# Prediction of the future\n",
    "\n",
    "# Create SARIMA mean forecast\n",
    "forecast = results.get_forecast(steps=30)\n",
    "lower = forecast.conf_int()[\"lower count\"]\n",
    "upper = forecast.conf_int()[\"upper count\"]\n",
    "\n",
    "# Plot mean SARIMA predictions\n",
    "fig,ax = plt.subplots(1,1,figsize=(20,10))\n",
    "\n",
    "plt.plot(bal2, label='original')\n",
    "plt.plot(forecast.predicted_mean, label='SARIMAX', c=\"r\")\n",
    "\n",
    "plt.xticks(bal2.index.unique())\n",
    "plt.locator_params(axis='x', nbins=10)\n",
    "\n",
    "plt.xlabel('time')\n",
    "plt.ylabel('Number of contracts')\n",
    "plt.legend()\n",
    "plt.show()"
   ]
  },
  {
   "cell_type": "code",
   "execution_count": null,
   "id": "a7e804f3",
   "metadata": {},
   "outputs": [],
   "source": []
  }
 ],
 "metadata": {
  "kernelspec": {
   "display_name": "Python 3 (ipykernel)",
   "language": "python",
   "name": "python3"
  },
  "language_info": {
   "codemirror_mode": {
    "name": "ipython",
    "version": 3
   },
   "file_extension": ".py",
   "mimetype": "text/x-python",
   "name": "python",
   "nbconvert_exporter": "python",
   "pygments_lexer": "ipython3",
   "version": "3.8.12"
  }
 },
 "nbformat": 4,
 "nbformat_minor": 5
}
